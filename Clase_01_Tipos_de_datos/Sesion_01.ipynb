{
 "cells": [
  {
   "cell_type": "markdown",
   "metadata": {
    "slideshow": {
     "slide_type": "subslide"
    }
   },
   "source": [
    "# TIPOS DE DATOS INTEGRADOS\n",
    "Todo lo que se hace con un ordenador implica gestionar datos, los cuales se presentan en diversas formas. Estos datos incluyen la música que escuchas, las películas que ves en streaming y los PDF que abres. Incluso este texto es un archivo de datos.\n",
    "\n",
    "Los datos pueden ser simples, como el número de hijos que una persona tiene, o complejos, como el número de transacciones que realiza un banco por día. Pueden referirse a un solo objeto o a una colección de objetos. Además, los datos pueden incluir metadatos, que son datos sobre otros datos, describiendo su estructura o contexto. En Python, los datos se representan mediante objetos, y el lenguaje ofrece una gran variedad de estructuras de datos que puedes usar o combinar para crear tus propias estructuras personalizadas.\n",
    "\n",
    "En esta sesión, se van a cubrir los siguientes temas: \n",
    "- [Objetos en Python]()\n",
    "- [¿Mutable o inmutable?]()\n",
    "- [Tipos de datos]()\n",
    "- [El módulo de colecciones]()\n",
    "- [Enumeraciones]()"
   ]
  },
  {
   "cell_type": "markdown",
   "metadata": {},
   "source": [
    "# Objetos en Python\n",
    "***\"Todo es un objeto en Python\"***\n",
    "\n",
    "Un objeto en Python es una colección única de datos (atributos) y comportamientos (métodos). Para entenderlo mejor, realizamos el siguiente ejemplo:\n",
    "Creamos una variable y le asignamos un valor"
   ]
  },
  {
   "cell_type": "code",
   "execution_count": 2,
   "metadata": {},
   "outputs": [],
   "source": [
    "number_children = 3"
   ]
  },
  {
   "cell_type": "markdown",
   "metadata": {},
   "source": [
    "Lo que realiza el entorno de Python es crear un objeto. Obtiene un id, establece el tipo de dato a int (número entero) y le asigna el valor de 3. El nombre, number_children, se coloca en el espacio global de nombres que apunta al objeto creado. Por lo tanto, siempre que estemos en el espacio global de nombres, después de la ejecución de esa línea, podemos recuperar ese objeto simplemente accediendo a él a través de su nombre: number_children."
   ]
  },
  {
   "cell_type": "markdown",
   "metadata": {},
   "source": [
    "# ¿Mutable o inmutable?\n",
    "La primera distinción fundamental que hace Python sobre los datos es si el valor de un objeto puede cambiar o no. Si el valor puede cambiar, el objeto se denomina mutable, mientras que si el valor no puede cambiar, el objeto se denomina inmutable.\n",
    "\n",
    "Es muy importante entender la distinción entre mutable e inmutable porque afecta al código que se escibre; para ello, realizamos el siguiente ejemplo:"
   ]
  },
  {
   "cell_type": "code",
   "execution_count": 2,
   "metadata": {},
   "outputs": [
    {
     "name": "stdout",
     "output_type": "stream",
     "text": [
      "25\n",
      "26\n"
     ]
    }
   ],
   "source": [
    "age = 25\n",
    "print(age)\n",
    "age = 26    #A\n",
    "print(age)"
   ]
  },
  {
   "cell_type": "markdown",
   "metadata": {},
   "source": [
    "En el código anterior, en la línea #A, pensariamos que se ha cambiado el valor de la edad, pero eso no es correcto ya que el tipo de dato *int* (que corresponde a un número entero) es inmutable. Así que, lo que esta pasando en realidad es que, en la primera linea, la variable age es un nombre que apunta a un objeto int, cuyo valor es 25. Cuando escribimos **age = 26**, lo que esta ocurriendo es la creación de otro objeto de tipo *int*, con un valor de 26 (el id de la variable también es diferente) y el nombre de la variable **age** se establece para apuntar a ese valor. Es decir, no se esta cambiando el valor de 25 por el de 26, sino que se apunta a un lugar diferente, que es el nuevo objeto *int* cuyo valor es 43. Veamos el mismo código imprimiendo también los IDs:"
   ]
  },
  {
   "cell_type": "code",
   "execution_count": 5,
   "metadata": {},
   "outputs": [
    {
     "name": "stdout",
     "output_type": "stream",
     "text": [
      "140719990381752\n",
      "140719990381784\n"
     ]
    }
   ],
   "source": [
    "age = 25\n",
    "print(id(age))\n",
    "age = 26\n",
    "print(id(age))"
   ]
  },
  {
   "cell_type": "markdown",
   "metadata": {},
   "source": [
    "Al imprimir los IDs llamando a la función incorporada *id()* y la función *print()*, se puede observar que son diferentes. Ten en cuenta que *age* apunta a un objeto a la vez: 25 primero, luego 26 - nunca juntos.\n",
    "\n",
    "Ahora, realizaremos el mismo ejemplo utilizando un objeto mutable. Para ello, vamos a utilizar un objeto Persona, que tiene una propiedad edad (no te preocupes por la declaración de la clase por ahora - está ahí sólo para completar):"
   ]
  },
  {
   "cell_type": "code",
   "execution_count": 4,
   "metadata": {},
   "outputs": [
    {
     "name": "stdout",
     "output_type": "stream",
     "text": [
      "27\n",
      "2336941140656\n",
      "140719990381816\n",
      "2336941140656\n",
      "140719990381848\n"
     ]
    }
   ],
   "source": [
    "class Persona:\n",
    "    def __init__(self, name, age, relationship):\n",
    "        self.name = name\n",
    "        self.age = age\n",
    "        self.relationship = relationship\n",
    "\n",
    "my_family = Persona(name=\"Piero\", age=27, relationship=\"brother\")\n",
    "print(my_family.age)\n",
    "print(id(my_family))\n",
    "print(id(my_family.age))\n",
    "my_family.age = 28\n",
    "print(id(my_family))\n",
    "print(id(my_family.age))"
   ]
  },
  {
   "cell_type": "markdown",
   "metadata": {},
   "source": [
    "En este caso, creamos un objeto *my_family* cuyo tipo es Persona (una clase personalizada). Al crearlo, el objeto recibe la edad de 27 años. Luego se imprime en la consola, junto con el ID del objeto, y también el ID de la edad. Se observa que incluso después de cambiar la edad a 28, el ID de *my_family* sigue siendo el mismo (mientras que el ID de edad ha cambiado). Los objetos personalizados en Python son mutables (a menos que los codifiques para que no lo sean)."
   ]
  },
  {
   "cell_type": "markdown",
   "metadata": {},
   "source": [
    "# Tipos de Datos\n",
    "En este apartado veremos los diferentes tipos de datos estándar que posee Python. Entre los principales se encuentran: numéricos, secuencias, mapas, clases, instancias y excepciones.\n"
   ]
  },
  {
   "cell_type": "markdown",
   "metadata": {},
   "source": [
    "## Numéricos (or numbers)\n",
    "Hay tres tipos numéricos distintos: integers, floating point numbers y complex numbers. Además, los booleanos son un subtipo de los enteros. Los enteros tiene precisión ilimitada. Los números en coma flotante se implementan normalmente usando el tipo double de C. Los números complejos tienen una parte real y otra imaginaria, ambas representadas con números en coma flotante. Adicional a ellos, la librería estándar incluye otros tipos numéricos: fractions.Fraction para números racionales y decimal.Decimal para números en coma flotante con precisión definida por el usuario.\n",
    "\n",
    "Los tipos de datos númericos or numbers son objetos inmutables.\n"
   ]
  },
  {
   "cell_type": "markdown",
   "metadata": {},
   "source": [
    "### Enteros (or integers)\n",
    "Los números enteros en Python tienen un rango ilimitado, sujeto únicamente a la memoria virtual disponible. Es decir, no importa realmente lo grande que sea el número que quieras almacenar, siempre que quepa en la memoria de tu ordenador, Python se encargará de ello.\n",
    "\n",
    "Los números enteros pueden ser positivos, negativos o 0 (cero). Soportan todas las operaciones matemáticas básicas."
   ]
  },
  {
   "cell_type": "code",
   "execution_count": 1,
   "metadata": {},
   "outputs": [
    {
     "name": "stdout",
     "output_type": "stream",
     "text": [
      "Subtraction: 27\n",
      "Addition: 63\n",
      "Multiplication: 810\n",
      "True division: 2.5\n",
      "Integer division: 2\n",
      "Modulo operation: 9\n",
      "Power operation: 572565594852444156646728515625\n"
     ]
    }
   ],
   "source": [
    "a = 45\n",
    "b = 18\n",
    "print(f\"Subtraction: {a - b}\")\n",
    "print(f\"Addition: {a + b}\")\n",
    "print(f\"Multiplication: {a * b}\")\n",
    "print(f\"True division: {a / b}\")\n",
    "print(f\"Integer division: {a // b}\")\n",
    "print(f\"Modulo operation: {a % b}\")\n",
    "print(f\"Power operation: {a ** b}\")"
   ]
  },
  {
   "cell_type": "markdown",
   "metadata": {},
   "source": [
    "Veamos cómo la división se comporta de forma diferente cuando introducimos números negativos:"
   ]
  },
  {
   "cell_type": "code",
   "execution_count": 5,
   "metadata": {},
   "outputs": [
    {
     "name": "stdout",
     "output_type": "stream",
     "text": [
      "True division: 1.75\n",
      "Integer division: 1 (truncation returns 1)\n",
      "True division again: -1.75 (result is opposite of previous)\n",
      "Integer division again: -2 (result not the opposite of previous)\n"
     ]
    }
   ],
   "source": [
    "print(f\"True division: {7 / 4}\")\n",
    "print(f\"Integer division: {7 // 4} (truncation returns 1)\")\n",
    "print(f\"True division again: {-7 / 4} (result is opposite of previous)\")\n",
    "print(f\"Integer division again: {-7 // 4} (result not the opposite of previous)\")"
   ]
  },
  {
   "cell_type": "markdown",
   "metadata": {},
   "source": [
    "Este es un ejemplo interesante que sucede en Python. La división de enteros en Python siempre se redondea hacia menos infinito; por ello, en la última linea el resultado es *-2* y no *-1* como se esperaba.\n",
    "\n",
    "Vale la pena señalar que el operador de potencia, **, también tiene una función incorporada homóloga, pow(), que se muestra en el siguiente ejemplo:"
   ]
  },
  {
   "cell_type": "code",
   "execution_count": 8,
   "metadata": {},
   "outputs": [
    {
     "name": "stdout",
     "output_type": "stream",
     "text": [
      "El resultado de 10 elevado al cubo usando la funcion pow() es: 1000\n",
      "El resultado de 10 elevado al cubo usando ** es: 1000\n"
     ]
    }
   ],
   "source": [
    "print(f\"El resultado de 10 elevado al cubo usando la funcion pow() es: {pow(10, 3)}\")\n",
    "print(f\"El resultado de 10 elevado al cubo usando ** es: {10 ** 3}\")"
   ]
  },
  {
   "cell_type": "markdown",
   "metadata": {},
   "source": [
    "La función pow() permite un tercer argumento para realizar la exponenciación modular."
   ]
  },
  {
   "cell_type": "code",
   "execution_count": 22,
   "metadata": {},
   "outputs": [
    {
     "name": "stdout",
     "output_type": "stream",
     "text": [
      "pow(123, 4) = 228886641\n",
      "pow(base=123, exp=4, mod=100) = 41 => 228886641 % 100 == 41\n",
      "pow(37, -1, 43) = 7 => # modular inverse of 37 mod 43\n",
      "7 * 37 % 43 = 1 => proof the above is correct\n"
     ]
    }
   ],
   "source": [
    "print(f\"{pow(123, 4) = }\")\n",
    "print(f\"{pow(base=123, exp=4, mod=100) = } => 228886641 % 100 == 41\")\n",
    "print(f\"{pow(37, -1, 43) = } => # modular inverse of 37 mod 43\")\n",
    "print(f\"{7 * 37 % 43 = } => proof the above is correct\")"
   ]
  },
  {
   "cell_type": "markdown",
   "metadata": {},
   "source": [
    "Una buena característica introducida en Python 3.6 es la posibilidad de añadir guiones bajos en los literales numéricos (entre dígitos o especificadores de base, pero no al principio ni al final). El propósito es ayudar a que algunos números sean más legibles, como 1_000_000_000:"
   ]
  },
  {
   "cell_type": "code",
   "execution_count": 25,
   "metadata": {},
   "outputs": [
    {
     "name": "stdout",
     "output_type": "stream",
     "text": [
      "1024\n",
      "1024\n"
     ]
    }
   ],
   "source": [
    "n = 1_024\n",
    "print(n)\n",
    "hex_n = 0x_4_0_0 # 0x400 == 1024\n",
    "print(hex_n)"
   ]
  },
  {
   "cell_type": "markdown",
   "metadata": {},
   "source": [
    "### Booleans\n",
    "En Python, *True* y *False* son dos palabras clave que se utilizan para representar valores de verdad. Los booleanos son una subclase de los enteros, por lo que *True* y *False* se comportan respectivamente como 1 y 0. El equivalente de la clase *int* para los booleanos es la clase *bool*, que devuelve Verdadero o Falso. Cada objeto incorporado en Python tiene un valor en el contexto booleano, lo que significa que básicamente se evalúan como *True* o *Falso* cuando se introducen en la función bool."
   ]
  },
  {
   "cell_type": "code",
   "execution_count": 4,
   "metadata": {},
   "outputs": [
    {
     "name": "stdout",
     "output_type": "stream",
     "text": [
      "int(True): 1 => True behaves like 1\n",
      "int(False): 0 => False behaves like 0\n",
      "bool(1): True => 1 evaluates to True in a Boolean context and so does every non-zero number\n",
      "bool(0): False => evaluates to False\n"
     ]
    }
   ],
   "source": [
    "print(f\"int(True): {int(True)} => True behaves like 1\")\n",
    "print(f\"int(False): {int(False)} => False behaves like 0\")\n",
    "print(f\"bool(1): {bool(1)} => 1 evaluates to True in a Boolean context and so does every non-zero number\")\n",
    "print(f\"bool(0): {bool(0)} => evaluates to False\")"
   ]
  },
  {
   "cell_type": "markdown",
   "metadata": {},
   "source": [
    "Algunos operadores que se pueden usar son: *and*, *or*, *not*"
   ]
  },
  {
   "cell_type": "code",
   "execution_count": 3,
   "metadata": {},
   "outputs": [
    {
     "name": "stdout",
     "output_type": "stream",
     "text": [
      "not True: False\n",
      "not False: True\n",
      "x = True and y = True: True\n",
      "x = False or y = True: True\n"
     ]
    }
   ],
   "source": [
    "print(f\"not False: {not False}\")\n",
    "print(f\"not True: {not True}\")\n",
    "print(f\"True and True: {True and True}\")\n",
    "print(f\"False or True: {False or True}\")"
   ]
  },
  {
   "cell_type": "markdown",
   "metadata": {},
   "source": [
    "### Números reales (or Real Numbers)\n",
    "Los números reales, o números de coma flotante, se representan en Python según el formato binario de coma flotante de doble precisión IEEE 754, que se almacena en 64 bits de información divididos en tres secciones: signo, exponente y mantisa. A diferencia de otros lenguajes de programación que cuentan con dos tipos de formato coma flotante (precisión simple con 32 bits y doble con 64 bits), Python solo admite el del formato doble. "
   ]
  },
  {
   "cell_type": "code",
   "execution_count": 1,
   "metadata": {},
   "outputs": [
    {
     "name": "stdout",
     "output_type": "stream",
     "text": [
      "El area de un circulo con radio igual a 4.5 es: 63.617251235400005\n"
     ]
    }
   ],
   "source": [
    "pi = 3.1415926536\n",
    "radius = 4.5\n",
    "area = pi * (radius ** 2)\n",
    "print(f\"El area de un circulo con radio igual a {radius} es: {area}\")"
   ]
  },
  {
   "cell_type": "markdown",
   "metadata": {},
   "source": [
    "### Números Complejos (or Complex Numbers)\n",
    "Python ofrece soporte para los números complejos, los cuales son números que pueden expresarse de la forma *a + bi*, donde *a* y *b* son números reales y el valor *i* corresponde a la unidad imaginaria (es decir, la raiz cuadrada de -1)."
   ]
  },
  {
   "cell_type": "code",
   "execution_count": 26,
   "metadata": {},
   "outputs": [
    {
     "name": "stdout",
     "output_type": "stream",
     "text": [
      "3.14 + 2.73j = (3.14+2.73j) y complex(real=3.14, imag=2.73) = (3.14+2.73j) son iguales.\n",
      "La parte real es: 3.14\n",
      "La parte imaginaria es: 2.73\n",
      "El conjugado de 3.14+2.73j es: (3.14-2.73j)\n",
      "El doble de 3.14+2.73j es: (6.28+5.46j)\n",
      "El cuadrado de 3.14+2.73j es: (2.4067000000000007+17.1444j)\n",
      "La resta de 3.14+2.73j y 1+1j es: (2.14+1.73j)\n"
     ]
    }
   ],
   "source": [
    "print(f\"{3.14 + 2.73j = } y {complex(real=3.14, imag=2.73) = } son iguales.\")\n",
    "print(f\"La parte real es: {complex(real=3.14, imag=2.73).real}\")\n",
    "print(f\"La parte imaginaria es: {complex(3.14, 2.73).imag}\")\n",
    "print(f\"El conjugado de 3.14+2.73j es: {complex(3.14, 2.73).conjugate()}\")\n",
    "print(f\"El doble de 3.14+2.73j es: {complex(3.14, 2.73) * 2}\")\n",
    "print(f\"El cuadrado de 3.14+2.73j es: {complex(3.14, 2.73) ** 2}\")\n",
    "print(f\"La resta de 3.14+2.73j y 1+1j es: {complex(3.14, 2.73) - complex(1,1)}\")"
   ]
  },
  {
   "cell_type": "markdown",
   "metadata": {},
   "source": [
    "### Fracciones y Decimales (or Fractions and decimals)\n",
    "Las fracciones tienen un numerador y un denominador racionales en sus formas más bajas."
   ]
  },
  {
   "cell_type": "code",
   "execution_count": 14,
   "metadata": {},
   "outputs": [
    {
     "name": "stdout",
     "output_type": "stream",
     "text": [
      "El siguiente codigo Fraction(10,6) me da como resultado: 5/3\n",
      "La siguiente operacion Fraction(1, 3) + Fraction(2, 3) da como resultado: 1\n"
     ]
    }
   ],
   "source": [
    "from fractions import Fraction\n",
    "print(f\"El siguiente codigo Fraction(10,6) da como resultado: {Fraction(10,6)}\")\n",
    "print(f\"La siguiente operacion Fraction(1, 3) + Fraction(2, 3) da como resultado: {Fraction(1, 3) + Fraction(2, 3)}\")\n"
   ]
  },
  {
   "cell_type": "markdown",
   "metadata": {},
   "source": [
    "Aunque los objetos *Fraction* pueden ser muy útiles en ocasiones, no es tan común verlos en la práctica. En cambio, es mucho más habitual ver números decimales que se utilizan en todos aquellos contextos en los que la precisión lo es todo; por ejemplo, en cálculos científicos y financieros."
   ]
  },
  {
   "cell_type": "code",
   "execution_count": 27,
   "metadata": {},
   "outputs": [
    {
     "name": "stdout",
     "output_type": "stream",
     "text": [
      "pi, from float, so approximation issues: 3.140000000000000124344978758017532527446746826171875\n",
      "pi, from a string, so no approximation issues: 3.14\n",
      "from float, we still have the i de D(0.1) * D(3) - D(0.3) es: 2.775557561565156540423631668E-17\n",
      "from string, all perfect de D('0.1') * D(3) - D('0.3') es: 0.0\n",
      "D('1.4').as_integer_ratio() = (7, 5)\n"
     ]
    }
   ],
   "source": [
    "from decimal import Decimal as D\n",
    "print(f\"pi, from float, so approximation issues: {D(3.14)}\")\n",
    "print(f\"pi, from a string, so no approximation issues: {D('3.14')}\")\n",
    "print(f\"from float, we still have the i de D(0.1) * D(3) - D(0.3) es: {D(0.1) * D(3) - D(0.3)}\")\n",
    "print(f\"from string, all perfect de D('0.1') * D(3) - D('0.3') es: {D('0.1') * D(3) - D('0.3')}\")\n",
    "print(f\"{D('1.4').as_integer_ratio() = }\")"
   ]
  },
  {
   "cell_type": "markdown",
   "metadata": {},
   "source": [
    "## Secuencias inmuables (or immutable sequences)\n",
    "Empecemos por las secuencias inmutables: strings, tuples y bytes."
   ]
  },
  {
   "cell_type": "markdown",
   "metadata": {},
   "source": [
    "### Strings and bytes\n",
    "Los datos textuales en Python se manejan con objetos *str*, más comúnmente conocidos como strings (cadenas). Son secuencias inmutables de puntos de código Unicode. Python, a diferencia de otros lenguajes, no tiene un tipo *char*, por lo que un único carácter se representa simplemente mediante un *string* de longitud 1.\n",
    "\n",
    "Unicode es una forma excelente de manejar datos. Sin embargo, cuando se trata de almacenar datos textuales, o enviarlos por la red, es probable que desee codificarlos, utilizando una codificación apropiada para el medio que está utilizando. El resultado de una codificación produce un objeto *bytes*, cuya sintaxis y comportamiento es similar al de los *strings*. Los literales de *strings* se escriben en Python utilizando comillas simples, dobles o triples. Si se construye con comillas triples, una cadena puede abarcar varias líneas."
   ]
  },
  {
   "cell_type": "code",
   "execution_count": 2,
   "metadata": {},
   "outputs": [
    {
     "name": "stdout",
     "output_type": "stream",
     "text": [
      "This is a string. We built it with single quotes.\n",
      "This is also a string, but built with double quotes.\n",
      "This is built using triple quotes,\n",
      "so it can span multiple lines.\n",
      "This too\n",
      "is a multiline one\n",
      "built with triple double-quotes.\n",
      "El numero de caracteres que tiene la palabra semaforo es: 8\n"
     ]
    }
   ],
   "source": [
    "# 4 ways to make a string\n",
    "print(f\"{'This is a string. We built it with single quotes.'}\")\n",
    "print(f\"{\"This is also a string, but built with double quotes.\"}\")\n",
    "print(f\"{'''This is built using triple quotes,\n",
    "so it can span multiple lines.'''}\")\n",
    "print(f\"{\"\"\"This too\n",
    "is a multiline one\n",
    "built with triple double-quotes.\"\"\"}\")\n",
    "print(f\"El numero de caracteres que tiene la palabra semaforo es: {len(\"semaforo\")}\")"
   ]
  },
  {
   "cell_type": "markdown",
   "metadata": {},
   "source": [
    "Python cuenta con dos nuevos métodos que remueven el sufijo (*removesuffix*) y prefijo (*removeprefix*) de un *string*."
   ]
  },
  {
   "cell_type": "code",
   "execution_count": 5,
   "metadata": {},
   "outputs": [
    {
     "name": "stdout",
     "output_type": "stream",
     "text": [
      "El resultado de remover el prefijo 'N' de 'Nicolas' es: icolas\n",
      "El resultado de remover el sufijo 'as' de 'Nicolas' es: Nicol\n",
      "El resultado de remover el prefijo 'X' de 'Nicolas' es: Nicolas\n"
     ]
    }
   ],
   "source": [
    "my_name = \"Nicolas\"\n",
    "print(f\"El resultado de remover el prefijo {repr(\"N\")} de {repr(my_name)} es: {my_name.removeprefix(\"N\")}\")\n",
    "print(f\"El resultado de remover el sufijo {repr(\"as\")} de {repr(my_name)} es: {my_name.removesuffix(\"as\")}\")\n",
    "print(f\"El resultado de remover el prefijo {repr(\"X\")} de {repr(my_name)} es: {my_name.removeprefix(\"X\")}\")"
   ]
  },
  {
   "cell_type": "markdown",
   "metadata": {},
   "source": [
    "### Encoding and decoding strings\n",
    "Utilizando los métodos encode/decode, podemos codificar *Unicode strings* y decodificar objetos *bytes*. UTF-8 es una codificación de caracteres de longitud variable, capaz de codificar todos los puntos de código Unicode posibles. Es la codificación más utilizada para la web. Observa también que al añadir el literal *b* delante de una declaración de *string*, estamos creando un objeto *bytes*."
   ]
  },
  {
   "cell_type": "code",
   "execution_count": 28,
   "metadata": {},
   "outputs": [
    {
     "name": "stdout",
     "output_type": "stream",
     "text": [
      "<class 'str'>\n",
      "El resultado es un objeto 'bytes': b'This is \\xc3\\xbc\\xc5\\x8b\\xc3\\xadc0de'\n",
      "Con la funcion 'decode' el string regresa a su estado inicial: This is üŋíc0de\n",
      "Para crear un objeto 'bytes' se utiliza el prefijo 's' al inicio: b'Nicolas', <class 'bytes'>\n"
     ]
    }
   ],
   "source": [
    "unicode_string = \"This is üŋíc0de\" # unicode string: code points\n",
    "print(type(unicode_string))\n",
    "encoded_unicode_string = unicode_string.encode(encoding=\"utf-8\")\n",
    "print(f\"El resultado es un objeto {repr(\"bytes\")}: {encoded_unicode_string}\")\n",
    "print(f\"Con la funcion {repr(\"decode\")} el string regresa a su estado inicial: {encoded_unicode_string.decode(\"utf-8\")}\")\n",
    "print(f\"Para crear un objeto {repr(\"bytes\")} se utiliza el prefijo {repr(\"s\")} al inicio: {b\"Nicolas\"}, {type(b\"Nicolas\")}\")"
   ]
  },
  {
   "cell_type": "markdown",
   "metadata": {},
   "source": [
    "### Indexing and slicing strings\n",
    "Al manipular secuencias (or sequences), es muy común acceder a ellas en una posición precisa (indexing), o sacar de ellas una subsecuencia (slicing). Cuando se trata de secuencias inmutables, ambas operaciones son de sólo lectura.\n",
    "La indexación comienza desde el 0, en cambio, con el slicing puedes especificar las posiciones de inicio y fin, junto con el paso. Se separan con dos puntos (:), así: *mi_secuencia[inicio:parada:paso]*. Todos los argumentos son opcionales; inicio es inclusivo y parada es excluyente."
   ]
  },
  {
   "cell_type": "code",
   "execution_count": 66,
   "metadata": {},
   "outputs": [
    {
     "name": "stdout",
     "output_type": "stream",
     "text": [
      "El autor del libro Las intermitencias de la muerte es Jose Saramago.\n",
      "La posición 0 del título del libro es: title_book[0] = 'L' que corresponde al primer caracter.\n",
      "La posición 5 del título del libro es: title_book[5] = 'n' que corresponde al sexto caracter.\n",
      "La posición -2 del título del libro es: title_book[-2] = 't' que corresponde al penúltimo caracter.\n",
      "La posición -1 del título del libro es: title_book[-1] = 'e' que corresponde al último caracter.\n",
      "Se especifica la posición inicial en 4: title_book[4:] = 'intermitencias de la muerte'\n",
      "Se especifica la posición final en 10: title_book[:10] = 'Las interm'\n",
      "Se especifica la posición inicial en 3 y la final en 8: title_book[3:8] = ' inte'\n",
      "Se especifica la posición inicial en 3, la final en 12 y se detiene cada 2 caracteres: title_book[3:12:2] = ' nemt'\n",
      "Para copiar todo la secuencia: title_book[:] = 'Las intermitencias de la muerte'\n"
     ]
    }
   ],
   "source": [
    "title_book = \"Las intermitencias de la muerte\"\n",
    "author_book = \"Jose Saramago\"\n",
    "print(f\"El autor del libro {title_book} es {author_book}.\")\n",
    "print(f\"La posición 0 del título del libro es: {title_book[0] = } que corresponde al primer caracter.\")\n",
    "print(f\"La posición 5 del título del libro es: {title_book[5] = } que corresponde al sexto caracter.\")\n",
    "print(f\"La posición -2 del título del libro es: {title_book[-2] = } que corresponde al penúltimo caracter.\")\n",
    "print(f\"La posición -1 del título del libro es: {title_book[-1] = } que corresponde al último caracter.\")\n",
    "print(f\"Se especifica la posición inicial en 4: {title_book[4:] = }\")\n",
    "print(f\"Se especifica la posición final en 10: {title_book[:10] = }\")\n",
    "print(f\"Se especifica la posición inicial en 3 y la final en 8: {title_book[3:8] = }\")\n",
    "print(f\"Se especifica la posición inicial en 3, la final en 12 y se detiene cada 2 caracteres: {title_book[3:12:2] = }\")\n",
    "print(f\"Para copiar todo la secuencia: {title_book[:] = }\")\n"
   ]
  },
  {
   "cell_type": "markdown",
   "metadata": {},
   "source": [
    "### String formatting\n",
    "Una de las características de los *strings* es que pueden utilizarse como plantilla. Hay varias formas diferentes de dar formato a un *string*, como son las siguientes:"
   ]
  },
  {
   "cell_type": "code",
   "execution_count": 10,
   "metadata": {},
   "outputs": [
    {
     "name": "stdout",
     "output_type": "stream",
     "text": [
      "greet_old % 'Nicolas' = 'Hello Nicolas!'\n",
      "greet_positional.format(\"Nicolas\") = 'Hello Nicolas!'\n",
      "greet_positional.format('Nicolas', 'Marroquin') = 'Hello Nicolas Marroquin!'\n",
      "greet_positional_idx.format('Python', 'Nicolas') = 'This is Python! Nicolas loves Python!'\n",
      "keyword.format(name='Nicolas', last_name='Marroquin') = 'Hello, my name is Nicolas Marroquin'\n",
      "Hello! My name is Nicolas and I'm 26\n",
      "Log in with: Nicolas and super-secret\n",
      "Log in with: user = 'Nicolas' and password = 'super-secret'\n"
     ]
    }
   ],
   "source": [
    "greet_old = 'Hello %s!'\n",
    "print(f\"{greet_old % 'Nicolas' = }\")\n",
    "greet_positional = \"Hello {}!\"\n",
    "print(f\"{greet_positional.format(\"Nicolas\") = }\")\n",
    "greet_positional = 'Hello {} {}!'\n",
    "print(f\"{greet_positional.format('Nicolas', 'Marroquin') = }\")\n",
    "greet_positional_idx = 'This is {0}! {1} loves {0}!'\n",
    "print(f\"{greet_positional_idx.format('Python', 'Nicolas') = }\")\n",
    "keyword = 'Hello, my name is {name} {last_name}'\n",
    "print(f\"{keyword.format(name='Nicolas', last_name='Marroquin') = }\")\n",
    "name = \"Nicolas\"\n",
    "age = 26\n",
    "print(f\"Hello! My name is {name} and I'm {age}\")\n",
    "user = \"Nicolas\"\n",
    "password = \"super-secret\"\n",
    "print(f\"Log in with: {user} and {password}\")\n",
    "print(f\"Log in with: {user = } and {password = }\")"
   ]
  },
  {
   "cell_type": "markdown",
   "metadata": {},
   "source": [
    "### Tuples\n",
    "El último tipo de secuencia inmutable que vamos a ver aquí son las *tuples*. Corresponde a una secuencia de objetos arbitrarios de Python. En una declaración de tupla, los elementos están separados por comas. Como son inmutables, las *tuples* pueden utilizarse como claves para diccionarios. \n",
    "\n",
    "Las *tuples* son los datos incorporados en Python que más se aproximan a un vector matemático. Sin embargo, esto no significa que fue la razón por la que se crearon. Por lo general, las *tuples* suelen contener una secuencia heterogénea de elementos mientras que, por el contrario, las listas son, la mayoría de las veces, homogéneas. Además, normalmente se accede a las *tuples* mediante desempaquetado o indexación, mientras que normalmente se itera sobre las listas."
   ]
  },
  {
   "cell_type": "code",
   "execution_count": 3,
   "metadata": {},
   "outputs": [
    {
     "name": "stdout",
     "output_type": "stream",
     "text": [
      "()\n",
      "<class 'tuple'>\n",
      "(5, 10, 15)\n",
      "3 in three_element_tuple = False\n"
     ]
    },
    {
     "data": {
      "text/plain": [
       "(80, 54)"
      ]
     },
     "execution_count": 3,
     "metadata": {},
     "output_type": "execute_result"
    }
   ],
   "source": [
    "tuple_empty = ()\n",
    "print(f\"{tuple_empty}\")\n",
    "print(f\"{type(tuple_empty)}\")\n",
    "one_element_tuple = (42,)\n",
    "three_element_tuple = (54, 65, 80)\n",
    "type(one_element_tuple)\n",
    "a, b, c = 5, 10, 15\n",
    "print(f\"{a, b, c}\")\n",
    "print(f\"{3 in three_element_tuple = }\")\n",
    "d, e = 54,  80\n",
    "e, d = d, e\n",
    "d, e"
   ]
  },
  {
   "cell_type": "markdown",
   "metadata": {},
   "source": [
    "## Secuencias mutables (or mutable sequences)\n",
    "Las secuencias mutables difieren de sus homólogas inmutables en que pueden modificarse después de su creación. Existen dos tipos de secuencias mutables en Python: lists y los byte arrays."
   ]
  },
  {
   "cell_type": "markdown",
   "metadata": {},
   "source": [
    "### Lists\n",
    "*Python lists* son muy similares a las *tuples*, pero no tienen las restricciones de la inmutabilidad. Las *lists* se utilizan habitualmente para almacenar colecciones de objetos homogéneos, pero nada impide almacenar también colecciones heterogéneas. Estas se pueden crear de muchas formas diferentes."
   ]
  },
  {
   "cell_type": "code",
   "execution_count": 10,
   "metadata": {},
   "outputs": [
    {
     "name": "stdout",
     "output_type": "stream",
     "text": [
      "Una list se puede crear así [] = [] o cambiar un tipo de dato con list() = []\n",
      "Las lists pueden cambiar, como en el siguiente ejemplo: [x + 5 for x in [2, 3, 4]] = [7, 8, 9]\n",
      "La list descompone los caracteres de un string de la siguiente forma: list(\"Nicolas\") = ['N', 'i', 'c', 'o', 'l', 'a', 's']\n"
     ]
    },
    {
     "data": {
      "text/plain": [
       "[(2, -1), (1, 2), (1, 3), (6, 3), (4, 10)]"
      ]
     },
     "execution_count": 10,
     "metadata": {},
     "output_type": "execute_result"
    }
   ],
   "source": [
    "print(f\"Una list se puede crear así {[] = } o cambiar un tipo de dato con {list() = }\")\n",
    "print(f\"Las lists pueden cambiar, como en el siguiente ejemplo: {[x + 5 for x in [2, 3, 4]] = }\")\n",
    "print(f\"La list descompone los caracteres de un string de la siguiente forma: {list(\"Nicolas\") = }\")\n",
    "first_list = [5, 6, 7]\n",
    "first_list.append(8) # Se agrega un termino a la lista\n",
    "first_list.count(5) # Cuenta el numero de 5s que hay en la lista\n",
    "first_list.extend((5, 7)) # Extiende la lista usando otra lista o tupla\n",
    "first_list.index(7) # Te devuelve la primera posición del elemento colocado\n",
    "first_list.insert(0, 15) # Inserta un elemento en la lista en la posición asignada\n",
    "first_list.pop() # Elimina y retorna el ultimo elemento de la lista\n",
    "first_list.pop(2) # Elimina y retorna el elemento de posicion 2 de la lista\n",
    "first_list.remove(5) # Remueve el primer elemento cuyo valor es 5\n",
    "first_list.reverse() # Invierte el orden de la lista\n",
    "first_list.sort() # Ordena la lista\n",
    "first_list.clear() # Limpia todos los valores de la lista\n",
    "second_list = [5, 8, 10, -5, 20]\n",
    "min(second_list) # Devulve el valor mínimo de los elementos de la lista\n",
    "max(second_list) # Devuelve el valor máximo de los elementos de la lista\n",
    "sum(second_list) # Devuelve la suma de los elementos de la lista\n",
    "from math import prod\n",
    "from typing import Iterable\n",
    "prod(second_list) # Devuelve el producto de los elementos de la lista\n",
    "len(second_list) # Devulve el numero de elementos que tiene la lista\n",
    "three_list = [5, 4, 3]\n",
    "second_list + three_list # Concatena la listas usando +\n",
    "second_list * 2  # Concatena la lista dos veces usando *\n",
    "from operator import itemgetter\n",
    "four_list = [(6, 3), (1, 3), (1, 2), (2, -1), (4, 10)]\n",
    "sorted(four_list) # Ordena la lista de forma ascendente\n",
    "sorted(four_list, key=itemgetter(0)) # Orden los elementos de la lista solo guiandose del primer elemento de la tupla\n",
    "sorted(four_list, key=itemgetter(0,1)) # Similar a sorted(four_list)\n",
    "sorted(four_list, key=itemgetter(1)) # Ordena en base al segundo elemento de la tupla\n",
    "sorted(four_list, key=itemgetter(1, 0)) # Ordena en base al segundo y luego el primer elemento de la tupla\n",
    "sorted(four_list, key=itemgetter(1), reverse=True) # Ordena en base al segundo elemento de la tupla y lo invierte"
   ]
  },
  {
   "cell_type": "markdown",
   "metadata": {},
   "source": [
    "### Bytearrays\n",
    "Para concluir nuestra visión general de los tipos de secuencia mutables, dediquemos un momento al tipo *bytearray*. Básicamente, representan la versión mutable de los objetos *bytes*. Exponen la mayoría de los métodos habituales de las secuencias mutables, así como la mayoría de los métodos del tipo *bytes*. Los elementos de un *bytearray* son enteros en el rango [0, 256)."
   ]
  },
  {
   "cell_type": "code",
   "execution_count": 14,
   "metadata": {},
   "outputs": [
    {
     "data": {
      "text/plain": [
       "1"
      ]
     },
     "execution_count": 14,
     "metadata": {},
     "output_type": "execute_result"
    }
   ],
   "source": [
    "bytearray()\n",
    "bytearray(10)\n",
    "bytearray(range(5))\n",
    "name = bytearray(b'Lina')\n",
    "name.replace(b'L', b'l')\n",
    "name.endswith(b'na')\n",
    "name.upper()\n",
    "name.count(b'L')"
   ]
  },
  {
   "cell_type": "markdown",
   "metadata": {},
   "source": [
    "## Set types\n",
    "Python también proporciona dos tipos de conjuntos, *set* y *frozenset*. El tipo *set* es mutable, mientras que *frozenset* es inmutable. Son colecciones desordenadas de objetos inmutables. La *hashabilidad* es una característica que permite utilizar un objeto como miembro de un conjunto y como clave de un diccionario, como veremos muy pronto. Tener en cuenta que los objetos que se comparan por igualdad deben tener el mismo valor *hash*."
   ]
  },
  {
   "cell_type": "code",
   "execution_count": 14,
   "metadata": {},
   "outputs": [
    {
     "name": "stdout",
     "output_type": "stream",
     "text": [
      "3 in small_par = False\n",
      "3 not in small_par = True\n",
      "small_par = {8, 10, 4}\n",
      "small_par = {8, 10, 4}\n",
      "small_impar = {1, 3, 5, 8, 9}\n",
      "small_par | small_impar = {1, 3, 4, 5, 8, 9, 10}\n",
      "small_par & small_impar = {8}\n",
      "small_par - small_impar = {10, 4}\n",
      "small_impar - small_par = {1, 3, 5, 9}\n",
      "small_par ^ small_impar = {1, 3, 4, 5, 9, 10}\n"
     ]
    }
   ],
   "source": [
    "# Mutables\n",
    "small_par = set()\n",
    "small_par.add(6)\n",
    "small_par.add(8)\n",
    "small_par.add(10)\n",
    "small_par\n",
    "small_par.add(4)\n",
    "small_par\n",
    "small_par.remove(6)\n",
    "3 in small_par\n",
    "print(f\"{3 in small_par = }\")\n",
    "print(f\"{3 not in small_par = }\")\n",
    "print(f\"{small_par = }\")\n",
    "small_par.add(10)\n",
    "print(f\"{small_par = }\")\n",
    "small_impar = {1, 3, 5, 8, 9}\n",
    "print(f\"{small_impar = }\")\n",
    "print(f\"{small_par | small_impar = }\")\n",
    "print(f\"{small_par & small_impar = }\")\n",
    "print(f\"{small_par - small_impar = }\")\n",
    "print(f\"{small_impar - small_par = }\")\n",
    "print(f\"{small_par ^ small_impar = }\")"
   ]
  },
  {
   "cell_type": "markdown",
   "metadata": {},
   "source": [
    "Ahora toca algunos ejemplos usando la la contraparte inmutable del tipo set, frozenset:"
   ]
  },
  {
   "cell_type": "code",
   "execution_count": 23,
   "metadata": {},
   "outputs": [
    {
     "name": "stdout",
     "output_type": "stream",
     "text": [
      "El siguiente comando small_primes.add(11) da como resultado: e = AttributeError(\"'frozenset' object has no attribute 'add'\")\n"
     ]
    },
    {
     "data": {
      "text/plain": [
       "frozenset({2, 3})"
      ]
     },
     "execution_count": 23,
     "metadata": {},
     "output_type": "execute_result"
    }
   ],
   "source": [
    "small_primes = frozenset([2, 3, 5, 7])\n",
    "bigger_primes = frozenset([5, 7, 11])\n",
    "try:\n",
    "    small_primes.add(11)\n",
    "except Exception as e:\n",
    "    print(f\"El siguiente comando small_primes.add(11) da como resultado: {e = }\")\n",
    "small_primes & bigger_primes # Intersección, unión, entre otros siempre funcionan\n",
    "small_primes | bigger_primes\n",
    "small_primes - bigger_primes"
   ]
  },
  {
   "cell_type": "markdown",
   "metadata": {},
   "source": [
    "## Mapping types: dictionaries\n",
    "De todos los tipos de datos incorporados en Python, el *dictionary* es sin duda el más interesante. Es el único tipo de asignación estándar, y es la columna vertebral de cada objeto Python.\n",
    "\n",
    "Un *dictionary* asigna claves a valores. Las claves deben ser objetos *hashables*, mientras que los valores pueden ser de cualquier tipo. Los diccionarios también son objetos mutables. Hay bastantes maneras diferentes de crear un diccionario, las cuales son:"
   ]
  },
  {
   "cell_type": "code",
   "execution_count": 36,
   "metadata": {},
   "outputs": [
    {
     "data": {
      "text/plain": [
       "[('h', 1), ('e', 2), ('l', 3), ('l', 4), ('o', 5)]"
      ]
     },
     "execution_count": 36,
     "metadata": {},
     "output_type": "execute_result"
    }
   ],
   "source": [
    "first_dictionary = dict(A=1, B=2, C=3)\n",
    "second_dictionary = {\"A\": 1, \"B\": 2, \"C\": 3}\n",
    "third_dictionary = dict(zip([\"A\", \"B\", \"C\"], [1, 2, 3]))\n",
    "fourth_dictionary = dict([(\"A\", 1), (\"B\", 2), (\"C\", 3)])\n",
    "fifth_dictionary = dict({\"C\": 3, \"B\": 2, \"A\": 1})\n",
    "first_dictionary == second_dictionary == third_dictionary == fourth_dictionary == fifth_dictionary\n",
    "first_dictionary is second_dictionary # No solo compara los valores sino tambien el espacio en memoria\n",
    "list(zip(['h', 'e', 'l', 'l', 'o'], [1, 2, 3, 4, 5]))\n",
    "list(zip('hello', range(1, 6)))\n"
   ]
  },
  {
   "cell_type": "markdown",
   "metadata": {},
   "source": [
    "Algunos métodos para manipular los *dictionaries* son:"
   ]
  },
  {
   "cell_type": "code",
   "execution_count": 68,
   "metadata": {},
   "outputs": [
    {
     "name": "stdout",
     "output_type": "stream",
     "text": [
      "dictionary_manipulation = {'a': 1, 'b': 2}\n",
      "Para mostrar el número de elementos en el diccionario: len(dictionary_manipulation) = 2\n",
      "Usando el método 'del' removemos un valor del dictionary: dictionary_manipulation ={'b': 2}\n",
      "La clave 'c' esta en el dictionary: True\n",
      "La clave '3' esta en el dictionary: False\n",
      "dictionary_manipulation = {'N': 0, 'i': 1, 'c': 2, 'o': 3, 'l': 4, 'a': 5, 's': 6}\n",
      "dictionary_manipulation.get(\"x\") = None\n",
      "dictionary_manipulation.get(\"x\", 177) = 177\n"
     ]
    },
    {
     "data": {
      "text/plain": [
       "{'a': {'b': [1]}}"
      ]
     },
     "execution_count": 68,
     "metadata": {},
     "output_type": "execute_result"
    }
   ],
   "source": [
    "dictionary_manipulation = {}\n",
    "dictionary_manipulation[\"a\"] = 1\n",
    "dictionary_manipulation[\"b\"] = 2\n",
    "print(f\"{dictionary_manipulation = }\")\n",
    "print(f\"Para mostrar el número de elementos en el diccionario: {len(dictionary_manipulation) = }\")\n",
    "del dictionary_manipulation[\"a\"]\n",
    "print(f\"Usando el método {repr(\"del\")} removemos un valor del dictionary: {dictionary_manipulation =}\")\n",
    "dictionary_manipulation[\"c\"] = 4\n",
    "print(f\"La clave {repr(\"c\")} esta en el dictionary: {\"c\" in dictionary_manipulation}\")\n",
    "print(f\"La clave {repr(\"3\")} esta en el dictionary: {3 in dictionary_manipulation}\")\n",
    "dictionary_manipulation.clear() # Elimina todos los elementos del dictionary\n",
    "dictionary_manipulation = dict(zip('Nicolas', range(7)))\n",
    "print(f\"{dictionary_manipulation = }\")\n",
    "dictionary_manipulation.keys()\n",
    "dictionary_manipulation.values()\n",
    "dictionary_manipulation.items()\n",
    "3 in dictionary_manipulation.values()\n",
    "(\"o\", 3) in dictionary_manipulation.items()\n",
    "dictionary_manipulation.pop(\"N\") # Elimina la clave \"N\" con su valor\n",
    "dictionary_manipulation.popitem() # Elimina una clave aleatoria y la muestra\n",
    "dictionary_manipulation.update({'h': 4, 'd': 5}) # Agrega dos elementos, si se repite la clave, actualiza el valor\n",
    "dictionary_manipulation.pop(\"not-a-key\", \"default-value\")\n",
    "print(f\"{dictionary_manipulation.get(\"x\") = }\") # Si no existe la clave, devuelve el valor none\n",
    "print(f\"{dictionary_manipulation.get(\"x\", 177) = }\") # Si no existe la clave, arroja el valor del segundo parametro\n",
    "dictionary_manipulation.setdefault(\"z\", 15) # Si no existe la clave, la crea y le asigna un valor\n",
    "dictionary_manipulation.clear()\n",
    "dictionary_manipulation.setdefault(\"a\", {}).setdefault(\"b\", []).append(1)\n",
    "dictionary_manipulation"
   ]
  },
  {
   "cell_type": "markdown",
   "metadata": {},
   "source": [
    "Python 3.9 dispone de un nuevo operador de unión para objetos dict, que fue introducido por PEP 584. Cuando se trata de aplicar la unión a objetos *dict*, necesitamos recordar que la unión para ellos no es conmutativa. Esto se hace evidente cuando los dos objetos *dict* que estamos fusionando tienen una o más claves en común, como se muestran en los siguientes ejemplos:"
   ]
  },
  {
   "cell_type": "code",
   "execution_count": 80,
   "metadata": {},
   "outputs": [
    {
     "name": "stdout",
     "output_type": "stream",
     "text": [
      "La union del dict_one = {'n': 15, 'i': 16, 'c': 17, 'o': 18, 'l': 19, 'a': 20, 's': 21} \n",
      "y el dict_two = {'p': 5, 'i': 6, 'e': 7, 'r': 8, 'o': 9} es: \n",
      "dict_one | dict_two = {'n': 15, 'i': 6, 'c': 17, 'o': 9, 'l': 19, 'a': 20, 's': 21, 'p': 5, 'e': 7, 'r': 8}\n",
      "La union del dict_two = {'p': 5, 'i': 6, 'e': 7, 'r': 8, 'o': 9} \n",
      "y el dict_one = {'n': 15, 'i': 16, 'c': 17, 'o': 18, 'l': 19, 'a': 20, 's': 21} es: \n",
      "dict_two | dict_one = {'p': 5, 'i': 16, 'e': 7, 'r': 8, 'o': 18, 'n': 15, 'c': 17, 'l': 19, 'a': 20, 's': 21}\n",
      "La union del dict_one = {'n': 15, 'i': 16, 'c': 17, 'o': 18, 'l': 19, 'a': 20, 's': 21} \n",
      "y el dict_two = {'p': 5, 'i': 6, 'e': 7, 'r': 8, 'o': 9} es: \n",
      "({**dict_one, **dict_two}) = {'n': 15, 'i': 6, 'c': 17, 'o': 9, 'l': 19, 'a': 20, 's': 21, 'p': 5, 'e': 7, 'r': 8}\n",
      "La union del dict_two = {'p': 5, 'i': 6, 'e': 7, 'r': 8, 'o': 9} \n",
      "y el dict_one = {'n': 15, 'i': 16, 'c': 17, 'o': 18, 'l': 19, 'a': 20, 's': 21} es: \n",
      "({**dict_two, **dict_one}) = {'p': 5, 'i': 16, 'e': 7, 'r': 8, 'o': 18, 'n': 15, 'c': 17, 'l': 19, 'a': 20, 's': 21}\n",
      "{'n': 15, 'i': 6, 'c': 17, 'o': 9, 'l': 19, 'a': 20, 's': 21, 'p': 5, 'e': 7, 'r': 8}\n"
     ]
    }
   ],
   "source": [
    "dict_one = dict(zip(\"nicolas\", range(15, 22)))\n",
    "dict_two = dict(zip(\"piero\", range(5,10)))\n",
    "print(f\"La union del {dict_one = } \\ny el {dict_two = } es: \\n{dict_one | dict_two = }\")\n",
    "print(f\"La union del {dict_two = } \\ny el {dict_one = } es: \\n{dict_two | dict_one = }\")\n",
    "print(f\"La union del {dict_one = } \\ny el {dict_two = } es: \\n{({**dict_one, **dict_two}) = }\")\n",
    "print(f\"La union del {dict_two = } \\ny el {dict_one = } es: \\n{({**dict_two, **dict_one}) = }\")\n",
    "dict_one |= dict_two\n",
    "print(dict_one)"
   ]
  },
  {
   "cell_type": "markdown",
   "metadata": {},
   "source": [
    "## Dates and times\n",
    "La biblioteca estándar de Python proporciona varios tipos de datos que se pueden utilizar para tratar con fechas y horas. Este ámbito puede parecer sencillo a primera vista, pero en realidad es bastante complicado: zonas horarias, horario de verano, entre otros complica su manipulación.\n",
    "\n",
    "Las principales bibliotecas estándar que tiene Python para trabajar con *dates and times* son: *datetime*, *calendar*, *zoneinfo* y *time*."
   ]
  },
  {
   "cell_type": "code",
   "execution_count": 1,
   "metadata": {},
   "outputs": [],
   "source": [
    "from datetime import date, datetime, time, timedelta, timezone\n",
    "import time\n",
    "import calendar as cal\n",
    "from zoneinfo import ZoneInfo"
   ]
  },
  {
   "cell_type": "markdown",
   "metadata": {},
   "source": [
    "Algunos ejemplos con *dates* son:"
   ]
  },
  {
   "cell_type": "code",
   "execution_count": 30,
   "metadata": {},
   "outputs": [
    {
     "name": "stdout",
     "output_type": "stream",
     "text": [
      "La fecha de hoy es: today = datetime.date(2024, 7, 12)\n",
      "La fecha y hora actual es: now = datetime.datetime(2024, 7, 12, 18, 18, 28, 511201)\n",
      "La fecha actual es: now.date() = datetime.date(2024, 7, 12) y la hora es: now.time() = datetime.time(18, 18, 28, 511201)\n",
      "La hora actual es: now.timetz() = datetime.time(18, 18, 28, 511201)\n",
      "El año actual es:  now.year = 2024\n",
      "El mes actual es: now.month = 7\n",
      "El día actual es: now.day = 12\n",
      "La hora actual es: now.hour = 18, los segundos: now.second = 28 y los microsegundos: now.microsecond = 511201\n",
      "today.ctime() = 'Fri Jul 12 00:00:00 2024'\n",
      "today.isoformat() = '2024-07-12'\n",
      "today.isocalendar() = datetime.IsoCalendarDate(year=2024, week=28, weekday=5)\n",
      "El dia en formato numerico (comenzando desde cero) es: 4\n",
      "El nombre del dia es: cal.day_name[today.weekday()] = 'Friday' y abreviado es: cal.day_abbr[today.weekday()] = 'Fri'\n",
      "today.day, today.month, today.year = (12, 7, 2024)\n",
      "El ordinal de la fecha today.isoformat() = '2024-07-12' es: today.toordinal() = 739079\n",
      "time.struct_time(tm_year=2024, tm_mon=7, tm_mday=12, tm_hour=0, tm_min=0, tm_sec=0, tm_wday=4, tm_yday=194, tm_isdst=-1)\n"
     ]
    }
   ],
   "source": [
    "today = date.today()\n",
    "now = datetime.now()\n",
    "print(f\"La fecha de hoy es: {today = }\")\n",
    "print(f\"La fecha y hora actual es: {now = }\")\n",
    "print(f\"La fecha actual es: {now.date() = } y la hora es: {now.time() = }\")\n",
    "print(f\"La hora actual es: {now.timetz() = }\")\n",
    "print(f\"El año actual es:  {now.year = }\")\n",
    "print(f\"El mes actual es: {now.month = }\")\n",
    "print(f\"El día actual es: {now.day = }\")\n",
    "print(f\"La hora actual es: {now.hour = }, los segundos: {now.second = } y los microsegundos: {now.microsecond = }\")\n",
    "print(f\"{today.ctime() = }\")\n",
    "print(f\"{today.isoformat() = }\")\n",
    "print(f\"{today.isocalendar() = }\")\n",
    "print(f\"El dia en formato numerico (comenzando desde cero) es: {today.weekday()}\")\n",
    "print(f\"El nombre del dia es: {cal.day_name[today.weekday()] = } y abreviado es: {cal.day_abbr[today.weekday()] = }\")\n",
    "print(f\"{today.day, today.month, today.year = }\")\n",
    "print(f\"El ordinal de la fecha {today.isoformat() = } es: {today.toordinal() = }\")\n",
    "print(f\"{today.timetuple()}\")"
   ]
  },
  {
   "cell_type": "markdown",
   "metadata": {},
   "source": [
    "Ahora, juguemos un poco con *time*:"
   ]
  },
  {
   "cell_type": "code",
   "execution_count": 44,
   "metadata": {},
   "outputs": [
    {
     "name": "stdout",
     "output_type": "stream",
     "text": [
      "La fecha actual es: time.ctime() = 'Fri Jul 12 23:27:44 2024'\n",
      "Devuelve un valor entero distinto de cero cuando se define el horario de verano (DST); de lo contrario, devuelve 0: time.daylight = 0\n",
      "La fecha y hora actual es: time.gmtime() = time.struct_time(tm_year=2024, tm_mon=7, tm_mday=13, tm_hour=4, tm_min=27, tm_sec=44, tm_wday=5, tm_yday=195, tm_isdst=0)\n",
      "La fecha y hora actual es: time.localtime() = time.struct_time(tm_year=2024, tm_mon=7, tm_mday=12, tm_hour=23, tm_min=27, tm_sec=44, tm_wday=4, tm_yday=194, tm_isdst=0)\n",
      "time.time() = 1720844864.9889536\n"
     ]
    }
   ],
   "source": [
    "print(f\"La fecha actual es: {time.ctime() = }\")\n",
    "print(f\"Devuelve un valor entero distinto de cero cuando se define el horario de verano (DST); de lo contrario, devuelve 0: {time.daylight = }\")\n",
    "print(f\"La fecha y hora actual es: {time.gmtime() = }\")\n",
    "print(f\"La fecha y hora actual es: {time.localtime() = }\")\n",
    "print(f\"La hora actual en formato utc es: {time.time() = }\")\n"
   ]
  },
  {
   "cell_type": "markdown",
   "metadata": {},
   "source": [
    "Algunos ejemplos usando el objeto *datetime*, que simplifica los *dates* y *times*"
   ]
  },
  {
   "cell_type": "code",
   "execution_count": 72,
   "metadata": {},
   "outputs": [
    {
     "name": "stdout",
     "output_type": "stream",
     "text": [
      "La fecha y hora actual es: now = datetime.datetime(2024, 7, 13, 0, 1, 36, 240801)\n",
      "La fecha actual es: now.date() = datetime.date(2024, 7, 13)\n",
      "La hora actual es: now.time() = datetime.time(0, 1, 36, 240801)\n",
      "now.day, now.month, now.year = (13, 7, 2024)\n",
      "El ordinal de la fecha now.isoformat() = '2024-07-13T00:01:36.240801' es: now.toordinal() = 739080\n",
      "now.date() == date.today() = True\n",
      "now.hour, now.minute, now.second, now.microsecond = (0, 1, 36, 240801)\n",
      "now.timetuple() = time.struct_time(tm_year=2024, tm_mon=7, tm_mday=13, tm_hour=0, tm_min=1, tm_sec=36, tm_wday=5, tm_yday=195, tm_isdst=-1)\n",
      "now.ctime() = 'Sat Jul 13 00:01:36 2024'\n",
      "now.tzinfo = None\n",
      "La diferencia entre 1981-10-07 15:30:50+02:00 y 1975-12-29 12:50:00+01:00 es: diff = datetime.timedelta(days=2109, seconds=6050)\n",
      "EL tipo de dato es: <class 'datetime.timedelta'>\n",
      "El número de dias es: diff.days = 2109\n",
      "El total de segundos es: diff.total_seconds() = 182223650.0\n",
      "La fecha actual más 49 días es: today+timedelta(days= 49) = datetime.date(2024, 8, 30)\n",
      "La fecha actual más una semana es: 2024-07-20 00:01:36.240801\n",
      "datetime.fromisoformat('1977-11-24T19:30:13+01:00') = datetime.datetime(1977, 11, 24, 19, 30, 13, tzinfo=datetime.timezone(datetime.timedelta(seconds=3600)))\n",
      "datetime.fromtimestamp(time.time()) = datetime.datetime(2024, 7, 13, 0, 1, 36, 240801)\n"
     ]
    }
   ],
   "source": [
    "now = datetime.now()\n",
    "print(f\"La fecha y hora actual es: {now = }\")\n",
    "print(f\"La fecha actual es: {now.date() = }\")\n",
    "print(f\"La hora actual es: {now.time() = }\")\n",
    "print(f\"{now.day, now.month, now.year = }\")\n",
    "print(f\"El ordinal de la fecha {now.isoformat() = } es: {now.toordinal() = }\")\n",
    "print(f\"{now.date() == date.today() = }\")\n",
    "print(f\"{now.hour, now.minute, now.second, now.microsecond = }\")\n",
    "print(f\"{now.timetuple() = }\")\n",
    "print(f\"{now.ctime() = }\")\n",
    "print(f\"{now.tzinfo = }\")\n",
    "f_bday = datetime(1975, 12, 29, 12, 50, tzinfo=ZoneInfo('Europe/Rome'))\n",
    "h_bday = datetime(1981, 10, 7, 15, 30, 50, tzinfo=timezone(timedelta(hours=2)))\n",
    "diff = h_bday - f_bday\n",
    "print(f\"La diferencia entre {h_bday} y {f_bday} es: {diff = }\")\n",
    "print(f\"EL tipo de dato es: {type(diff)}\")\n",
    "print(f\"El número de dias es: {diff.days = }\")\n",
    "print(f\"El total de segundos es: {diff.total_seconds() = }\")\n",
    "print(f\"La fecha actual más 49 días es: {today+timedelta(days= 49) = }\")\n",
    "print(f\"La fecha actual más una semana es: {now + timedelta(weeks=1)}\")\n",
    "print(f\"{datetime.fromisoformat('1977-11-24T19:30:13+01:00') = }\")\n",
    "print(f\"{datetime.fromtimestamp(time.time()) = }\")"
   ]
  },
  {
   "cell_type": "markdown",
   "metadata": {},
   "source": [
    "Existen algunas bibliotecas de terceros que son muy útiles a la hora de trabajar con *dates* y *times*:\n",
    "- *dateutil*: Potente extensión para *datetime* (https://dateutil.readthedocs.io/en/stable/)\n",
    "- *Arrow*: Mejores *dates* y *times* para Python (https://arrow.readthedocs.io/en/latest/)\n",
    "- *pytz*: Definiciones de zonas horarias mundiales para Python (https://pythonhosted.org/pytz/)\n",
    "\n",
    "Algunos ejemplos con la biblioteca *Arrow* son:"
   ]
  },
  {
   "cell_type": "code",
   "execution_count": 1,
   "metadata": {},
   "outputs": [
    {
     "name": "stdout",
     "output_type": "stream",
     "text": [
      "La fecha y hora actual en tiempo universal es: arrow.utcnow() = <Arrow [2024-07-18T06:23:22.320961+00:00]>\n",
      "La fecha y hora actual en mi ubicación actual es: arrow.now() = <Arrow [2024-07-18T01:23:22.320961-05:00]>\n",
      "La fecha y hora actual en Europe - Rome es: arrow.now('Europe/Rome') = <Arrow [2024-07-18T08:23:22.535677+02:00]>\n",
      "local_rome.to(\"utc\") = <Arrow [2024-07-18T06:23:22.535677+00:00]>\n",
      "local_rome.to(\"Europe/Moscow\") = <Arrow [2024-07-18T09:23:22.535677+03:00]>\n",
      "local_rome.to(\"Asia/Tokyo\") = <Arrow [2024-07-18T15:23:22.535677+09:00]>\n",
      "2024-07-18 08:23:22 +02:00\n",
      "local_rome.datetime = datetime.datetime(2024, 7, 18, 8, 23, 22, 535677, tzinfo=tzfile('Europe/Rome'))\n",
      "local_rome.isoformat = <bound method Arrow.isoformat of <Arrow [2024-07-18T08:23:22.535677+02:00]>>\n"
     ]
    }
   ],
   "source": [
    "# pip install arrow\n",
    "import arrow\n",
    "print(f\"La fecha y hora actual en tiempo universal es: {arrow.utcnow() = }\")\n",
    "print(f\"La fecha y hora actual en mi ubicación actual es: {arrow.now() = }\")\n",
    "print(f\"La fecha y hora actual en Europe - Rome es: {arrow.now('Europe/Rome') = }\")\n",
    "local_rome = arrow.now('Europe/Rome')\n",
    "print(f\"{local_rome.to(\"utc\") = }\")\n",
    "print(f\"{local_rome.to(\"Europe/Moscow\") = }\")\n",
    "print(f\"{local_rome.to(\"Asia/Tokyo\") = }\")\n",
    "print(f\"{local_rome.format('YYYY-MM-DD HH:mm:ss ZZ')}\")\n",
    "print(f\"{local_rome.datetime = }\")\n",
    "print(f\"{local_rome.isoformat = }\")"
   ]
  },
  {
   "cell_type": "markdown",
   "metadata": {},
   "source": [
    "## The collections module\n",
    "Cuando los contenedores incorporados de propósito general de Python (tuple, list, set y dict) no son suficientes, podemos encontrar contenedores especializados en el módulo *collections*."
   ]
  },
  {
   "cell_type": "markdown",
   "metadata": {},
   "source": [
    "| Data type | Description | \n",
    "| --- | --- |\n",
    "| namedtuple() | Función de fábrica para crear subclases de *tuples* con campos con nombre |\n",
    "| deque | Es una versión óptima de lista que se utiliza para insertar y eliminar elementos |\n",
    "| Chainmap | Combina muchos diccionarios y devuelve una lista de diccionarios |\n",
    "| Counter | Es una estructura de datos incorporada que se utiliza para contar la ocurrencia de cada valor presente en una matriz o lista |\n",
    "| OrderedDict | Subclase de diccionario con métodos que permiten reordenar las entradas |\n",
    "| defaultdict | Subclase de diccionario que llama a una función de fábrica para suministrar los valores que faltan |\n",
    "| UserDict | Envoltura de objetos de diccionario para facilitar la subclase de dictionary |\n",
    "| UserList | Envoltura de objetos de diccionario para facilitar la subclase de list |\n",
    "| UserString | Envoltura de objetos de diccionario para facilitar la subclase de string |"
   ]
  },
  {
   "cell_type": "code",
   "execution_count": 104,
   "metadata": {},
   "outputs": [
    {
     "name": "stdout",
     "output_type": "stream",
     "text": [
      "La coordenada x es: p.x = 11\n",
      "La coordenada y es: p.y = 22\n"
     ]
    }
   ],
   "source": [
    "from collections import namedtuple\n",
    "Point = namedtuple('Point', ['x', 'y'])\n",
    "p = Point(11, 22)\n",
    "print(f\"La coordenada x es: {p.x = }\")\n",
    "print(f\"La coordenada y es: {p.y = }\")"
   ]
  },
  {
   "cell_type": "code",
   "execution_count": 105,
   "metadata": {},
   "outputs": [
    {
     "name": "stdout",
     "output_type": "stream",
     "text": [
      "El valor por defecto es: default_dict['key'] = 0\n",
      "El valor por defecto es: default_dict['key'] = 1\n",
      "El valor por defecto es: default_dict['key2'] = 0\n",
      "default_dict = defaultdict(<class 'int'>, {'key': 1, 'key2': 0})\n"
     ]
    }
   ],
   "source": [
    "from collections import defaultdict\n",
    "default_dict = defaultdict(int)\n",
    "print(f\"El valor por defecto es: {default_dict['key'] = }\")\n",
    "default_dict['key'] += 1\n",
    "print(f\"El valor por defecto es: {default_dict['key'] = }\")\n",
    "print(f\"El valor por defecto es: {default_dict['key2'] = }\")\n",
    "print(f\"{default_dict = }\")"
   ]
  },
  {
   "cell_type": "code",
   "execution_count": 106,
   "metadata": {},
   "outputs": [
    {
     "name": "stdout",
     "output_type": "stream",
     "text": [
      "d = deque(['a', 'b', 'c', 'd'])\n",
      "d = deque(['z', 'a', 'b', 'c', 'd'])\n"
     ]
    }
   ],
   "source": [
    "from collections import deque\n",
    "d = deque(['a', 'b', 'c'])\n",
    "d.append('d')\n",
    "print(f\"{d = }\")\n",
    "d.appendleft('z')\n",
    "print(f\"{d = }\")"
   ]
  },
  {
   "cell_type": "code",
   "execution_count": 103,
   "metadata": {},
   "outputs": [
    {
     "name": "stdout",
     "output_type": "stream",
     "text": [
      "La coordenada x es: p.x = 11\n",
      "La coordenada y es: p.y = 22\n",
      "El valor por defecto es: default_dict['key'] = 0\n",
      "El valor por defecto es: default_dict['key'] = 1\n",
      "El valor por defecto es: default_dict['key2'] = 0\n",
      "default_dict = defaultdict(<class 'int'>, {'key': 1, 'key2': 0})\n",
      "d = deque(['a', 'b', 'c', 'd'])\n",
      "d = deque(['z', 'a', 'b', 'c', 'd'])\n",
      "conn = ChainMap({'port': 5678}, {'host': 'localhost', 'port': 4567})\n",
      "conn['host'] = 'localhost'\n",
      "conn.maps = [{'port': 5678}, {'host': 'localhost', 'port': 4567}]\n",
      "conn.maps = [{'port': 5678, 'host': 'packtpub.com'}, {'host': 'localhost', 'port': 4567}]\n",
      "conn.maps = [{'host': 'packtpub.com'}, {'host': 'localhost', 'port': 4567}]\n",
      "conn['port'] = 4567\n",
      "dict(conn) = {'host': 'packtpub.com', 'port': 4567}\n"
     ]
    }
   ],
   "source": [
    "from collections import ChainMap\n",
    "default_connection = {'host': 'localhost', 'port': 4567}\n",
    "connection = {'port': 5678}\n",
    "conn = ChainMap(connection, default_connection)\n",
    "print(f\"{conn = }\")\n",
    "print(f\"{conn['host'] = }\")\n",
    "print(f\"{conn.maps = }\")\n",
    "conn['host'] = 'packtpub.com'\n",
    "print(f\"{conn.maps = }\")\n",
    "del conn['port']\n",
    "print(f\"{conn.maps = }\")\n",
    "print(f\"{conn['port'] = }\")\n",
    "print(f\"{dict(conn) = }\")"
   ]
  },
  {
   "cell_type": "code",
   "execution_count": 107,
   "metadata": {},
   "outputs": [
    {
     "name": "stdout",
     "output_type": "stream",
     "text": [
      "c = Counter({'blue': 3, 'red': 2, 'green': 1})\n"
     ]
    }
   ],
   "source": [
    "from collections import Counter\n",
    "c = Counter()\n",
    "for word in ['red', 'blue', 'red', 'green', 'blue', 'blue']:\n",
    "    c[word] += 1\n",
    "print(f\"{c = }\")"
   ]
  },
  {
   "cell_type": "markdown",
   "metadata": {},
   "source": [
    "## Enums\n",
    "Técnicamente, las enumeraciones no son un tipo de datos incorporado, ya que hay que importarlas del módulo enum, pero merece la pena mencionarlas.\n",
    "\n",
    "La definición oficial de enumeración es que se trata de un conjunto de nombres simbólicos (miembros) ligados a valores únicos y constantes. Dentro de una enumeración, los miembros se pueden comparar por identidad, y se puede iterar sobre la propia enumeración.\n",
    "\n",
    "Supongamos que necesitas representar semáforos; en tu código, podrías recurrir a lo siguiente:"
   ]
  },
  {
   "cell_type": "code",
   "execution_count": 110,
   "metadata": {},
   "outputs": [
    {
     "name": "stdout",
     "output_type": "stream",
     "text": [
      "TRAFFIC_LIGHTS = (1, 2, 4) o en forma de dictionary traffic_lights = {'green': 1, 'yellow': 2, 'red': 4}\n"
     ]
    }
   ],
   "source": [
    "color_green = 1\n",
    "color_yellow = 2\n",
    "color_red = 4\n",
    "TRAFFIC_LIGHTS = (color_green, color_yellow, color_red)\n",
    "traffic_lights = {'green': color_green, 'yellow': color_yellow, 'red': color_red}\n",
    "print(f\"{TRAFFIC_LIGHTS = } o en forma de dictionary {traffic_lights = }\")"
   ]
  },
  {
   "cell_type": "markdown",
   "metadata": {},
   "source": [
    "Este código no tiene nada de especial. De hecho, es algo muy común de encontrar. Pero, considere hacer esto en su lugar:"
   ]
  },
  {
   "cell_type": "code",
   "execution_count": 113,
   "metadata": {},
   "outputs": [
    {
     "name": "stdout",
     "output_type": "stream",
     "text": [
      "TrafficLight.GREEN = <TrafficLight.GREEN: 1>\n",
      "TrafficLight.GREEN.name = 'GREEN'\n",
      "TrafficLight.GREEN.value = 1\n",
      "TrafficLight(1) = <TrafficLight.GREEN: 1>\n",
      "TrafficLight['GREEN'] = <TrafficLight.GREEN: 1>\n"
     ]
    }
   ],
   "source": [
    "from enum import Enum\n",
    "class TrafficLight(Enum):\n",
    "    GREEN = 1\n",
    "    YELLOW = 2\n",
    "    RED = 4\n",
    "print(f\"{TrafficLight.GREEN = }\")\n",
    "print(f\"{TrafficLight.GREEN.name = }\")\n",
    "print(f\"{TrafficLight.GREEN.value = }\")\n",
    "print(f\"{TrafficLight(1) = }\")\n",
    "print(f\"{TrafficLight['GREEN'] = }\")"
   ]
  },
  {
   "cell_type": "markdown",
   "metadata": {},
   "source": [
    "Ignorando por un momento la complejidad (relativa) de la definición de una clase, se puede apreciar cómo este enfoque puede ser ventajoso. La estructura de datos es mucho más limpia, y la API que proporciona es mucho más potente."
   ]
  },
  {
   "cell_type": "markdown",
   "metadata": {},
   "source": [
    "# Consideraciones Finales\n",
    "Este capítulo muestra una guía básica pero potente de una buena parte de las estructuras de datos de Python que se usan en diferentes áreas como finanzas, economía, ciberseguridad, entre otros. Antes de comenzar con el siguiente capítulo, es necesario tomar en cuenta algunas consideraciones finales sobre diferentes aspectos que son muy importantes en Python."
   ]
  },
  {
   "cell_type": "markdown",
   "metadata": {},
   "source": [
    "## Caché de valores pequeños\n",
    "Cuando asignábamos un nombre a un objeto, Python creaba el objeto, establecía su valor y luego apuntaba el nombre a él. Podemos asignar diferentes nombres al mismo valor, y esperamos que se creen diferentes objetos, así:"
   ]
  },
  {
   "cell_type": "code",
   "execution_count": 116,
   "metadata": {},
   "outputs": [
    {
     "name": "stdout",
     "output_type": "stream",
     "text": [
      "id(obj_1) == id(obj_2) = False\n",
      "id(obj_3) == id(obj_4) = True\n"
     ]
    }
   ],
   "source": [
    "obj_1 = 100000000\n",
    "obj_2 = 100000000\n",
    "obj_3 = 8\n",
    "obj_4 = 8\n",
    "print(f\"{id(obj_1) == id(obj_2) = }\")\n",
    "print(f\"{id(obj_3) == id(obj_4) = }\")\n"
   ]
  },
  {
   "cell_type": "markdown",
   "metadata": {},
   "source": [
    "¿Por qué ambos resultados son distintos si son los mismos valores? En el primer ejemplo, *obj_1* y *obj_2* están siendo asignados a dos objetos *int*, que tienen el mismo valor pero no son el mismo objeto puesto que su *id* es diferente. Pero, ¿qué paso con el segundo ejemplo? Python no se ha quebrado o ha dado mal el resultado sino que tiene que ver con el rendimiento.Python almacena en caché cadenas cortas y números pequeños para evitar tener muchas copias de ellos atascando la memoria del sistema."
   ]
  },
  {
   "cell_type": "markdown",
   "metadata": {},
   "source": [
    "## Cómo elegir estructuras de datos\n",
    "Como hemos visto, Python te proporciona varios tipos de datos incorporados y, a veces, si no tienes mucha experiencia, elegir el que más te conviene puede ser complicado, sobre todo cuando se trata de colecciones. Por ejemplo, digamos que tienes muchos diccionarios para almacenar, cada uno de los cuales representa a un cliente. Dentro de cada diccionario de cliente, hay un código de identificación único 'id': 'code'. ¿En qué tipo de colección los colocarías? A menos que sepamos más sobre estos clientes, es muy difícil responder. ¿Qué tipo de acceso necesitaremos? ¿Qué tipo de operaciones tendremos que realizar con cada uno de ellos y cuántas veces? ¿Cambiará la colección con el tiempo? ¿Tendremos que modificar de algún modo los diccionarios de clientes? ¿Cuál será la operación más frecuente que tendremos que realizar sobre la colección?\n",
    "\n",
    "Si puedes responder a las preguntas anteriores, sabrás qué elegir. Si la colección nunca se contrae ni crece (en otras palabras, no necesitará añadir/eliminar ningún objeto cliente tras su creación) ni se baraja, entonces las tuplas son una posible elección. En caso contrario, las listas son un buen candidato. Sin embargo, cada diccionario de clientes tiene un identificador único, por lo que incluso un diccionario podría funcionar. Permítanos esbozarle estas opciones:"
   ]
  },
  {
   "cell_type": "code",
   "execution_count": 117,
   "metadata": {},
   "outputs": [],
   "source": [
    "# example customer objects\n",
    "customer1 = {'id': 'abc123', 'full_name': 'Master Yoda'}\n",
    "customer2 = {'id': 'def456', 'full_name': 'Obi-Wan Kenobi'}\n",
    "customer3 = {'id': 'ghi789', 'full_name': 'Anakin Skywalker'}\n",
    "# collect them in a tuple\n",
    "customers = (customer1, customer2, customer3)\n",
    "# or collect them in a list\n",
    "customers = [customer1, customer2, customer3]\n",
    "# or maybe within a dictionary, they have a unique id after all\n",
    "customers = {\n",
    "'abc123': customer1,\n",
    "'def456': customer2,\n",
    "'ghi789': customer3,\n",
    "}"
   ]
  },
  {
   "cell_type": "markdown",
   "metadata": {},
   "source": [
    "Una forma de saber si has elegido la estructura de datos adecuada es observar el código que tienes que escribir para manipularla. Si todo resulta fácil y fluye con naturalidad, es probable que hayas elegido correctamente, pero si te encuentras pensando que tu código se está complicando innecesariamente, entonces probablemente deberías intentar decidir si necesitas reconsiderar tus elecciones. Por ello, cuando se elija una estructura para los datos, se debe tener en mente la facilidad de uso y el rendimiento, y dar prioridad a lo que más importa en el contexto en el que te encuentres."
   ]
  },
  {
   "cell_type": "markdown",
   "metadata": {},
   "source": [
    "## Acerca de indexing y slicing\n",
    "El slicing, en general, se aplica a una secuencia: tuples, lists, strings, etcétera. Con las lists, el corte también se puede utilizar para la asignación. Casi nunca hemos visto que esto se utilice en código profesional, pero aún así, sabes que se puede hacer.\n",
    "\n",
    "Hay una característica de la indexación en Python que no se ha mencionado antes. Si una list tiene 10 elementos, entonces debido al sistema de posicionamiento de índice 0 de Python, el primero está en la posición 0 y el último en la posición 9. Por lo tanto, para obtener el último elemento, necesitamos conocer la longitud de toda la list (o tuple, o string, etc.) y luego restar 1: len(a) - 1. Se trata de una operación tan habitual que Python proporciona una forma de recuperar elementos utilizando la indexación negativa comenzando con -1 para el útlimo valor, -2 para el penúltimo, y así consecutivamente. Si se intentan direccionar índices mayores de 9 o menores de -10 se producirá un IndexError. "
   ]
  },
  {
   "cell_type": "code",
   "execution_count": 119,
   "metadata": {},
   "outputs": [
    {
     "name": "stdout",
     "output_type": "stream",
     "text": [
      "list_1 = [0, 1, 2, 3, 4, 5, 6, 7, 8, 9]\n",
      "Numero de elementos en la lista: len(list_1) = 10\n",
      "El primer elemento de la lista es: list_1[0] = 0\n",
      "Último elemento de la lista es (primera forma): list_1[len(list_1) - 1] = 9\n",
      "Último elemento de la lista es (Python rocks): list_1[-1] = 9\n"
     ]
    }
   ],
   "source": [
    "list_1 = list(range(10))\n",
    "print(f\"{list_1 = }\")\n",
    "print(f\"Numero de elementos en la lista: {len(list_1) = }\")\n",
    "print(f\"El primer elemento de la lista es: {list_1[0] = }\")\n",
    "print(f\"Último elemento de la lista es (primera forma): {list_1[len(list_1) - 1] = }\")\n",
    "print(f\"Último elemento de la lista es (Python rocks): {list_1[-1] = }\")\n"
   ]
  },
  {
   "cell_type": "markdown",
   "metadata": {},
   "source": [
    "## Sobre los nombres\n",
    "En un entorno real, cuando elija nombres para sus datos, debe hacerlo con cuidado: deben reflejar de qué tratan los datos. Una regla para colocar nombres a las variables es la siguiente: los nombres de los datos deben ser sustantivos, y los nombres de las funciones deben ser verbos. Además, los nombres deben ser tan expresivos como sea posible. Python es en realidad un muy buen ejemplo cuando se trata de nombres. La mayoría de las veces puedes adivinar cómo se llama una función si sabes lo que hace.\n",
    "\n",
    "El capítulo 2 del libro *Clean Code* de *Robert C. Martin* está dedicado por completo a los nombres. Es un libro de lectura obligatoria si quieres llevar tu codificación al siguiente nivel."
   ]
  }
 ],
 "metadata": {
  "kernelspec": {
   "display_name": "env",
   "language": "python",
   "name": "python3"
  },
  "language_info": {
   "codemirror_mode": {
    "name": "ipython",
    "version": 3
   },
   "file_extension": ".py",
   "mimetype": "text/x-python",
   "name": "python",
   "nbconvert_exporter": "python",
   "pygments_lexer": "ipython3",
   "version": "3.12.3"
  }
 },
 "nbformat": 4,
 "nbformat_minor": 2
}
