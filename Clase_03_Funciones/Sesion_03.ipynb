{
 "cells": [
  {
   "cell_type": "markdown",
   "metadata": {},
   "source": [
    "# Funciones, los componentes básicos del código\n",
    "Hemos visto que todo es un objeto en Python, y las funciones no son una excepción. Una función es un bloque de instrucciones, empaquetado como un todo, como una caja. Las funciones pueden aceptar parámetros de entrada y producir valores de salida. Ambos son opcionales, como veremos en los ejemplos de este capítulo. \n",
    "\n",
    "Una función en Python se define usando la palabra clave *def*, después de la cual sigue el nombre de la función, terminada por un par de paréntesis (que pueden o no contener parámetros de entrada); dos puntos (:) señalan el final de la línea de definición de la función. Inmediatamente después, con una sangría de cuatro espacios, encontramos el cuerpo de la función, que es el conjunto de instrucciones que ejecutará la función cuando sea llamada.\n",
    "\n",
    "Utilizar funciones en tu código tiene muchas ventajas, como veremos en breve. En esta sesión, vamos a cubrir lo siguientes apartados:\n",
    "- [¿Por qué usar funciones?]()\n",
    "- [Ámbitos y resolución de nombres]()\n",
    "- [Parámetros de entrada y valores de retorno]()\n",
    "- [Funciones anónimas y recursividad]()\n",
    "- [Importar objetos para reutilizar el código]()\n"
   ]
  },
  {
   "cell_type": "markdown",
   "metadata": {},
   "source": [
    "# ¿Por qué usar funciones?\n",
    "Las funciones se encuentran entre los conceptos y construcciones más importantes de cualquier lenguaje de programación. Algunas razones por las que las necesitamos son:\n",
    "- Reducen la duplicación de código en un programa.\n",
    "- Ayudan a dividir una tarea o procedimiento complejo en bloques más pequeños, cada uno de los cuales se convierte en una función.\n",
    "- Ocultan los detalles de la aplicación a sus usuarios.\n",
    "- Mejoran la trazabilidad.\n",
    "- Mejoran la legibilidad.\n",
    "\n",
    "Veamos algunos ejemplos para comprender mejor cada punto."
   ]
  },
  {
   "cell_type": "markdown",
   "metadata": {},
   "source": [
    "## Reducir la duplicación de código\n",
    "Imagina que estás escribiendo un software científico y necesitas calcular números primos hasta un cierto límite. Tienes un buen algoritmo para calcularlos, así que lo copias y lo pegas donde haga falta. Un día, sin embargo, tu compañero de estudios te da un algoritmo mejor para calcular primos, que te ahorrará mucho tiempo. En ese momento, tienes que revisar todo tu código base y sustituir el antiguo por el nuevo.\n",
    "\n",
    "Esta es en realidad una mala manera de hacerlo ya que es propenso a errores, nunca sabes qué líneas estás cortando o dejando por error o cuándo podrías estar cortando y pegando código en otro código, y también puedes arriesgarte a perderte uno de los lugares donde se hace el cálculo primo, dejando tu software en un estado inconsistente donde la misma acción se realiza en diferentes lugares de diferentes maneras.\n",
    "\n",
    "Para solucionar ese tipo de inconvenientes, existen las funciones. Escribes la función get_prime_numbers(upto) y la utilizas en cualquier lugar donde necesites una lista de números primos. Cuando tu compañero de estudios te dé el nuevo código, todo lo que tienes que hacer es sustituir el cuerpo de esa función por la nueva implementación, ¡y listo! El resto del software se adaptará automáticamente, ya que sólo está llamando a la función.\n",
    "\n",
    "Tu código será más corto, no sufrirá incoherencias entre las formas antiguas y nuevas de realizar una tarea, ni quedarán errores sin detectar por fallos u olvidos de copiar y pegar."
   ]
  },
  {
   "cell_type": "markdown",
   "metadata": {},
   "source": [
    "## Dividir una tarea compleja\n",
    "Las funciones también son muy útiles para dividir tareas largas o complejas en otras más pequeñas. El resultado final es que el código se beneficia de ello de varias maneras, como es el caso de su legibilidad, comprobabilidad y reutilización.\n",
    "\n",
    "Por ejemplo, al prepar un reporte. Tu código tiene que obtener datos de una fuente de datos, analizarlos, filtrarlos y pulirlos, y luego ejecutar toda una serie de algoritmos para obtener los resultados que alimentarán la clase Reporte. Como se muestra a continuación:"
   ]
  },
  {
   "cell_type": "code",
   "execution_count": 2,
   "metadata": {},
   "outputs": [
    {
     "data": {
      "text/plain": [
       "'\\n# Ejemplo de código de una función que usa funciones\\ndef do_report(data_source):\\n\\n    # fetch and prepare data\\n    data = fetch_data(data_source)\\n    parsed_data = parse_data(data)\\n    filtered_data = filter_data(parsed_data)\\n    polished_data = polish_data(filtered_data)\\n    \\n    # run algorithms on data\\n    final_data = analyse(polished_data)\\n    \\n    # create and return report\\n    report = Report(final_data)\\n    return report\\n'"
      ]
     },
     "execution_count": 2,
     "metadata": {},
     "output_type": "execute_result"
    }
   ],
   "source": [
    "'''\n",
    "# Ejemplo de código de una función que usa funciones\n",
    "def do_report(data_source):\n",
    "    # fetch and prepare data\n",
    "    data = fetch_data(data_source)\n",
    "    parsed_data = parse_data(data)\n",
    "    filtered_data = filter_data(parsed_data)\n",
    "    polished_data = polish_data(filtered_data)\n",
    "    \n",
    "    # run algorithms on data\n",
    "    final_data = analyse(polished_data)\n",
    "    \n",
    "    # create and return report\n",
    "    report = Report(final_data)\n",
    "    return report\n",
    "'''"
   ]
  },
  {
   "cell_type": "markdown",
   "metadata": {},
   "source": [
    "El ejemplo anterior es ficticio,pero nos muestra el gran potencial que tiene dividir funciones complejas en parte más simples. Si el resultado final parece erróneo, sería muy fácil depurar cada una de las salidas de datos individuales en la función do_report. Además, es incluso más fácil excluir parte del proceso temporalmente de todo el procedimiento (sólo tienes que comentar las partes que necesitas suspender). Un código como éste es más fácil de manejar."
   ]
  },
  {
   "cell_type": "markdown",
   "metadata": {},
   "source": [
    "## Ocultar los detalles de la aplicación\n",
    "Repasando el ejemplo anterior, al examinar el código de la función *do_report()*, podemos obtener una comprensión bastante buena sin leer una sola línea de implementación. Esto se debe a que las funciones ocultan los detalles de implementación.\n",
    "\n",
    "Esta característica significa que, si no necesitamos profundizar en los detalles, no estamos obligados a hacerlo, de la forma en que lo estaríamos si *do_report* fuera sólo una función grande llena de lineas de código. Para entender lo que está pasando, tendríamos que leer cada línea de código. Con las funciones, no es necesario. Esto reduce el tiempo que pasamos leyendo el código y, dado que, en un entorno profesional, leer código lleva mucho más tiempo que escribirlo, es muy importante reducirlo al mínimo."
   ]
  },
  {
   "cell_type": "markdown",
   "metadata": {},
   "source": [
    "## Mejora de la legibilidad\n",
    "Los programadores a veces no ven el sentido de escribir una función con un cuerpo de una o dos líneas de código, así que veamos un ejemplo que te muestra por qué deberías hacerlo.\n",
    "\n",
    "Imagine que usted necesita multiplicar dos matrices como el siguiente ejemplo:\n",
    "\n",
    "$\n",
    "\\left(\n",
    "\\begin{array}{ll}\n",
    "1 & 2 \\\\\n",
    "3 & 4\n",
    "\\end{array}\n",
    "\\right)\n",
    "\\left(\n",
    "\\begin{array}{ll}\n",
    "5 & 1 \\\\\n",
    "2 & 1\n",
    "\\end{array}\n",
    "\\right)=\n",
    "\\left(\n",
    "\\begin{array}{ll}\n",
    "9 & 3 \\\\\n",
    "23 & 7\n",
    "\\end{array}\n",
    "\\right)\n",
    "$\n",
    "\n",
    "Podrías preferir realizar el siguiente código:"
   ]
  },
  {
   "cell_type": "code",
   "execution_count": 3,
   "metadata": {},
   "outputs": [
    {
     "name": "stdout",
     "output_type": "stream",
     "text": [
      "[[9, 3], [23, 7]]\n"
     ]
    }
   ],
   "source": [
    "a = [[1, 2], [3, 4]]\n",
    "b = [[5, 1], [2, 1]]\n",
    "c = [[sum(i * j for i, j in zip(r, c)) for c in zip(*b)] \n",
    "     for r in a]\n",
    "print(c)"
   ]
  },
  {
   "cell_type": "markdown",
   "metadata": {},
   "source": [
    "O de la siguiente forma usando funciones:"
   ]
  },
  {
   "cell_type": "code",
   "execution_count": 5,
   "metadata": {},
   "outputs": [
    {
     "name": "stdout",
     "output_type": "stream",
     "text": [
      "[[9, 3], [23, 7]]\n"
     ]
    }
   ],
   "source": [
    "def matrix_mul(a, b):\n",
    "    return [[sum(i * j for i, j in zip(r, c)) for c in zip(*b)]\n",
    "            for r in a]\n",
    "a = [[1, 2], [3, 4]]\n",
    "b = [[5, 1], [2, 1]]\n",
    "c = matrix_mul(a, b)\n",
    "print(c)"
   ]
  },
  {
   "cell_type": "markdown",
   "metadata": {},
   "source": [
    "Es mucho más fácil entender que *c* es el resultado de la multiplicación de *a* y *b* en el segundo ejemplo, y es mucho más fácil leer el código. Si no necesitamos modificar esa lógica de multiplicación, ni siquiera necesitamos entrar en los detalles de implementación. Por lo tanto, la legibilidad mejora aquí, mientras que, en el primer fragmento, tendríamos que dedicar tiempo a intentar entender qué está haciendo esa complicada comprensión de listas."
   ]
  },
  {
   "cell_type": "markdown",
   "metadata": {},
   "source": [
    "## Mejorar la trazabilidad\n",
    "Imaginemos que estamos codificando para un sitio web de comercio electrónico. Los precios de la base de datos se almacenan sin IGV (impuesto sobre las ventas), pero queremos mostrarlos en el sitio web con un IGV del 20%. Se puede calcular de las siguientes maneras:"
   ]
  },
  {
   "cell_type": "code",
   "execution_count": 6,
   "metadata": {},
   "outputs": [],
   "source": [
    "price = 100 # GBP, no VAT\n",
    "final_price1 = price * 1.2\n",
    "final_price2 = price + price / 5.0\n",
    "final_price3 = price * (100 + 20) / 100.0\n",
    "final_price4 = price + price * 0.2"
   ]
  },
  {
   "cell_type": "markdown",
   "metadata": {},
   "source": [
    "Estas cuatro formas diferentes de calcular un precio con IGV incluido son perfectamente aceptables. El problema radica cuando se empiezan a vender productos en distintos países, donde algunos de ellos tienen tipos de impuestos a la venta diferentes, por lo que tenemos que refactorizar el código (en todo el sitio web) para que ese cálculo del IVA sea dinámico.\n",
    "\n",
    "Por ello, es necesario escribir una función que tome como valores de entrada el precio del producto sin IGV y el valor del impuesto en porcentaje, de la siguiente forma:"
   ]
  },
  {
   "cell_type": "code",
   "execution_count": 16,
   "metadata": {},
   "outputs": [
    {
     "data": {
      "text/plain": [
       "118.26"
      ]
     },
     "execution_count": 16,
     "metadata": {},
     "output_type": "execute_result"
    }
   ],
   "source": [
    "def calculate_price_with_vat(price, vat):\n",
    "    return price * (100 + vat) / 100\n",
    "\n",
    "calculate_price_with_vat(105.12, 12.5)\n"
   ]
  },
  {
   "cell_type": "markdown",
   "metadata": {},
   "source": [
    "Ahora podemos importar esa función y utilizarla en cualquier lugar del sitio web donde necesitemos calcular un precio con IVA incluido, y cuando necesitemos rastrear esas llamadas podemos buscar calculate_price_with_vat."
   ]
  },
  {
   "cell_type": "markdown",
   "metadata": {},
   "source": [
    "# Ámbitos y resolución de nombres\n",
    "En esta sección, se van a presentar algunos conceptos importantes, como el ámbito, los nombres y los espacios de nombres. "
   ]
  },
  {
   "cell_type": "markdown",
   "metadata": {},
   "source": [
    "## Nombres y espacios de nombres\n",
    "Para entender mejor estos conceptos, realizamos el siguiente ejemplo:"
   ]
  },
  {
   "cell_type": "code",
   "execution_count": 4,
   "metadata": {},
   "outputs": [
    {
     "name": "stdout",
     "output_type": "stream",
     "text": [
      "global: 0\n",
      "my_function: 0\n"
     ]
    }
   ],
   "source": [
    "def my_function():\n",
    "    test = 1 # this is defined in the local scope of the function\n",
    "    print('my_function:', test)\n",
    "test = 0 # this is defined in the global scope\n",
    "my_function()\n",
    "print('global:', test)"
   ]
  },
  {
   "cell_type": "markdown",
   "metadata": {},
   "source": [
    "En el ejemplo anterior, se ha definido el nombre de la prueba en dos lugares diferentes. Uno es el ámbito global *(test = 0)*, y el otro es el ámbito local de la función *my_function() (test = 1)*.\n",
    "\n",
    "Está claro que *test = 1* hace sombra a la asignación *test = 0* en *my_function()*. En el contexto global, *test* sigue siendo 0, como se puede ver en la salida del programa, pero definimos el nombre de *test* de nuevo en el cuerpo de la función, y lo establecemos para que apunte a un entero de valor 1. Por lo tanto, existen los dos nombres de *test*: uno en el ámbito global, apuntando a un objeto *int* con valor 0, el otro en el ámbito de *my_function()*, apuntando a un objeto *int* con valor 1. \n",
    "\n",
    "Si comentamos la línea *test = 1*. Python busca el nombre de test en el siguiente espacio de nombres adyacente (recuerda la regla LEGB: Local scope, Enclosing scope, Global scope y Built-in scope) y, en este caso, veremos el valor 0 impreso dos veces, como se muestra a continuación:"
   ]
  },
  {
   "cell_type": "code",
   "execution_count": 5,
   "metadata": {},
   "outputs": [
    {
     "name": "stdout",
     "output_type": "stream",
     "text": [
      "my_function: 0\n",
      "global: 0\n"
     ]
    }
   ],
   "source": [
    "def my_function():\n",
    "    # test = 1  this is defined in the local scope of the function\n",
    "    print('my_function:', test)\n",
    "test = 0 # this is defined in the global scope\n",
    "my_function()\n",
    "print('global:', test)"
   ]
  },
  {
   "cell_type": "markdown",
   "metadata": {},
   "source": [
    "Ahora veremos otro ejemplo de mayor complejidad:"
   ]
  },
  {
   "cell_type": "code",
   "execution_count": 12,
   "metadata": {},
   "outputs": [
    {
     "name": "stdout",
     "output_type": "stream",
     "text": [
      "inner: 2\n",
      "outer: 1\n",
      "global: 0\n"
     ]
    }
   ],
   "source": [
    "def outer():\n",
    "    test = 1 # outer scope\n",
    "    def inner():\n",
    "        test = 2 # inner scope\n",
    "        print('inner:', test)\n",
    "    inner()\n",
    "    print('outer:', test)\n",
    "\n",
    "test = 0 # global scope\n",
    "outer()\n",
    "print('global:', test)"
   ]
  },
  {
   "cell_type": "markdown",
   "metadata": {},
   "source": [
    "En el código anterior, tenemos dos niveles de sombreado. Un nivel está en la función *outer*, y el otro en la función *inner()*.\n",
    "\n",
    "Si comentamos la línea *test = 1*. Python al llegar a la línea *print('outer:', test)*, tendrá que buscar *test* en el siguiente ámbito que lo encierra; por lo tanto encontrará e imprimirá 0, en lugar de 1. \n",
    "\n",
    "Otra cosa a tener en cuenta es que Python nos da la posibilidad de definir una función dentro de otra función. El nombre de la función *inner()* se define dentro del espacio de nombres de la función *outer()*, exactamente como ocurriría con cualquier otro nombre."
   ]
  },
  {
   "cell_type": "markdown",
   "metadata": {},
   "source": [
    "## Las declaraciones globales y no locales\n",
    "En el ejemplo anterior, podemos alterar lo que ocurre con el sombreado del nombre del *test* utilizando una de estas dos sentencias especiales: *global* y *nonlocal*. Como se puede ver en el ejemplo anterior, cuando definimos *test = 2* en la función *inner()*, no sobrescribimos *test* ni en la función *outer()* ni en el ámbito global.\n",
    "\n",
    "Podemos obtener acceso de lectura a esos nombres si los usamos en un ámbito anidado que no los define, pero no podemos modificarlos porque cuando escribimos una instrucción de asignación, en realidad estamos definiendo un nuevo nombre en el ámbito actual.\n",
    "\n",
    "Para cambiar ese comportamiento, podemos usar la sentencia *nonlocal*. Según la documentación oficial:\n",
    "\n",
    "***La sentencia nonlocal hace que los identificadores listados se refieran a variables previamente ligadas en el ámbito más cercano excluyendo las globales.***\n",
    "\n",
    "Introduzcámosla en la función *inner()* para ver que ocurre:"
   ]
  },
  {
   "cell_type": "code",
   "execution_count": 13,
   "metadata": {},
   "outputs": [
    {
     "name": "stdout",
     "output_type": "stream",
     "text": [
      "inner: 2\n",
      "outer: 2\n",
      "global: 0\n"
     ]
    }
   ],
   "source": [
    "def outer():\n",
    "    test = 1 # outer scope\n",
    "    \n",
    "    def inner():\n",
    "        nonlocal test\n",
    "        test = 2 # nearest enclosing scope (which is 'outer')\n",
    "        print('inner:', test)\n",
    "    inner()\n",
    "    print('outer:', test)\n",
    "\n",
    "test = 0 # global scope\n",
    "outer()\n",
    "print('global:', test)"
   ]
  },
  {
   "cell_type": "markdown",
   "metadata": {},
   "source": [
    "Al declarar *test* como *nonlocal* en la función *inner()*, se consigue vincular el nombre de *test* al declarado en la función *outer*. Si se elimina la línea *nonlocal test* de la función *inner()* e intentáramos el mismo truco en la función *outer()*, obtendríamos un *SyntaxError*, porque la declaración *nonlocal* funciona en ámbitos envolventes, excluyendo el global.\n",
    "\n",
    "Para cambiar el valor *global* usando una función, se puede hacer de la siguiente manera:"
   ]
  },
  {
   "cell_type": "code",
   "execution_count": 14,
   "metadata": {},
   "outputs": [
    {
     "name": "stdout",
     "output_type": "stream",
     "text": [
      "inner: 2\n",
      "outer: 1\n",
      "global: 2\n"
     ]
    }
   ],
   "source": [
    "def outer():\n",
    "    test = 1 # outer scope\n",
    "\n",
    "    def inner():\n",
    "        global test\n",
    "        test = 2 # global scope\n",
    "        print('inner:', test)\n",
    "\n",
    "    inner()\n",
    "    print('outer:', test)\n",
    "\n",
    "test = 0 # global scope\n",
    "outer()\n",
    "print('global:', test)"
   ]
  },
  {
   "cell_type": "markdown",
   "metadata": {},
   "source": [
    "Se ha declarado que el nombre de *test* sea *global*, lo que básicamente lo vinculará al que definimos en el espacio de nombres global (*test = 0*). Esto muestra que el nombre afectado por la asignación *test = 2* es ahora el global.\n",
    "\n",
    "Ten en cuenta que, cuando Python encuentra una variable en un bloque de código, busca la variable en el siguiente orden:\n",
    "1. **Local scope:** Python primero busca la variable en el ámbito local, es decir, la función donde está definida la variable.\n",
    "2. **Enclosing scope:** si la variable no se encuentra en el ámbito local, Python busca la variable en la función envolvente (si hay alguna).\n",
    "3. **Global scope:** si aún no se encuentra la variable, Python busca la variable en el ámbito global.\n",
    "4. **Built-in scope:** si aún no se encuentra la variable, Python busca la variable en el ámbito incorporado.\n",
    "\n",
    "Si la variable no se encuentra en ninguno de estos ámbitos, Python genera un error de nombre (*NameError*)."
   ]
  },
  {
   "cell_type": "markdown",
   "metadata": {},
   "source": [
    "# Parámetros de entrada\n",
    "Una función puede recibir parámetros de entrada. Antes de profundizar en todos los tipos posibles de parámetros, tenemos que tener en cuenta tres puntos claves:\n",
    "- Pasar un argumento no es más que asignar un objeto a un nombre de variable local.\n",
    "- Asignar un objeto a un nombre de argumento dentro de una función no afecta a la persona que llama.\n",
    "- Cambiar el argumento de un objeto mutable en una función afecta a la persona que llama.\n",
    "\n",
    "Según la documentación oficial de Python:\n",
    "\n",
    "***«Los parámetros se definen por los nombres que aparecen en la definición de una función, mientras que los argumentos son los valores que se pasan a una función cuando se llama a ella. Los parámetros definen qué tipos de argumentos puede aceptar una función».***\n",
    "\n",
    "Intentaremos ser precisos al referirnos a parámetros y argumentos, pero conviene señalar que a veces también se utilizan como sinónimos. Veamos ahora algunos ejemplos."
   ]
  },
  {
   "cell_type": "markdown",
   "metadata": {},
   "source": [
    "## Pasar argumentos\n",
    "Observa el siguiente código. Declaramos un nombre, *x*, en el ámbito global, luego declaramos una función, *func(y)*, y finalmente la llamamos, pasándole *x*:    "
   ]
  },
  {
   "cell_type": "code",
   "execution_count": 15,
   "metadata": {},
   "outputs": [
    {
     "name": "stdout",
     "output_type": "stream",
     "text": [
      "7\n"
     ]
    }
   ],
   "source": [
    "x = 7\n",
    "def func(y):\n",
    "    print(y)\n",
    "\n",
    "func(x)"
   ]
  },
  {
   "cell_type": "markdown",
   "metadata": {},
   "source": [
    "Cuando se llama a *func()* con *x*, dentro de su ámbito local, se crea un nombre, *y*, que apunta al mismo objeto al que apunta *x*. En pocas palabras, lo que ocurre en el código es que la función crea, en su ámbito local, los nombres definidos como parámetros y, cuando la llamamos, básicamente le decimos a Python hacia qué objetos deben apuntar esos nombres."
   ]
  },
  {
   "cell_type": "markdown",
   "metadata": {},
   "source": [
    "## Asignación a nombres de parámetros\n",
    "La asignación a nombres de parámetros no afecta a quien llama. Esto es algo que puede ser difícil de entender al principio; por ello, vamos a mostrar un ejemplo:"
   ]
  },
  {
   "cell_type": "code",
   "execution_count": 18,
   "metadata": {},
   "outputs": [
    {
     "name": "stdout",
     "output_type": "stream",
     "text": [
      "3\n"
     ]
    }
   ],
   "source": [
    "x = 3\n",
    "def func(x):\n",
    "    x = 7 # defining a local x, not changing the global one\n",
    "func(x)\n",
    "print(x) # prints: 3\n"
   ]
  },
  {
   "cell_type": "markdown",
   "metadata": {},
   "source": [
    "Cuando llamamos a la función con *func(x)*, la instrucción *x = 7* se ejecuta dentro del ámbito local de la función *func()*; el nombre, *x*, apunta a un entero con valor 7, dejando la *x* global inalterada."
   ]
  },
  {
   "cell_type": "markdown",
   "metadata": {},
   "source": [
    "## Cambio de un objeto mutable\n",
    "Cambiar un objeto mutable afecta a quien lo llama. Saber esto es muy importante porque Python aparentemente se comporta de manera diferente con objetos mutables (sólo aparentemente, sin embargo). Veamos un ejemplo:"
   ]
  },
  {
   "cell_type": "code",
   "execution_count": null,
   "metadata": {},
   "outputs": [],
   "source": [
    "x = [1, 2, 3]\n",
    "def func(x):\n",
    "    x[1] = 42 # this affects the 'x' argument!\n",
    "func(x)\n",
    "print(x) # prints: [1, 42, 3]"
   ]
  },
  {
   "cell_type": "markdown",
   "metadata": {},
   "source": [
    "El nombre *x* en la función se establece para apuntar al objeto llamador por la llamada a la función; dentro del cuerpo de la función, no estamos cambiando *x*, en el sentido de que no estamos cambiando su referencia, o, en otras palabras, no estamos cambiando a qué objeto está apuntando *x*. Simplemente estamos accediendo al elemento en la posición 1 de ese objeto, y cambiando su valor.\n",
    "\n",
    "Vemos el siguiente ejemplo:"
   ]
  },
  {
   "cell_type": "code",
   "execution_count": 22,
   "metadata": {},
   "outputs": [
    {
     "name": "stdout",
     "output_type": "stream",
     "text": [
      "[1, 42, 3]\n"
     ]
    }
   ],
   "source": [
    "x = [1, 2, 3]\n",
    "def func(x):\n",
    "    x[1] = 42 # this changes the original 'x' argument!\n",
    "    x = 'something else' # this points x to a new string object\n",
    "func(x)\n",
    "print(x) # still prints: [1, 42, 3]"
   ]
  },
  {
   "cell_type": "markdown",
   "metadata": {},
   "source": [
    "La función *func* toma *x* como argumento. Dentro de la función, *x[1] = 42* modifica el segundo elemento de la lista a 42. Esto afecta la lista original porque las listas son mutables. Por otra parte, al hacer *x = 'something else'* genera un cambio en la referencia local *x* dentro de la función a un nuevo objeto *string* que contiene *'something else'*. Esto no afecta la variable x fuera de la función, ya que solo cambia la referencia local *x* dentro del ámbito de la función."
   ]
  },
  {
   "cell_type": "markdown",
   "metadata": {},
   "source": [
    "# Pasando argumentos de entrada\n",
    "Existen cuatro formas diferentes de pasar argumentos a una función:"
   ]
  },
  {
   "cell_type": "markdown",
   "metadata": {},
   "source": [
    "## Argumentos posicionales\n",
    "Cuando llamamos a una función, cada argumento posicional se asigna al parámetro en la posición correspondiente en la definición de la función:"
   ]
  },
  {
   "cell_type": "code",
   "execution_count": 23,
   "metadata": {},
   "outputs": [
    {
     "name": "stdout",
     "output_type": "stream",
     "text": [
      "29 28 20\n"
     ]
    }
   ],
   "source": [
    "def func(a, b, c):\n",
    "    print(a, b, c)\n",
    "func(29, 28, 20)"
   ]
  },
  {
   "cell_type": "markdown",
   "metadata": {},
   "source": [
    "Esta es la forma más común de pasar argumentos a las funciones (y en algunos lenguajes de programación es también la única forma de pasar argumentos)."
   ]
  },
  {
   "cell_type": "markdown",
   "metadata": {},
   "source": [
    "## Argumentos clave\n",
    "Los argumentos de palabra clave en una llamada a función se asignan a parámetros utilizando la sintaxis *name=value*:"
   ]
  },
  {
   "cell_type": "code",
   "execution_count": 24,
   "metadata": {},
   "outputs": [
    {
     "name": "stdout",
     "output_type": "stream",
     "text": [
      "29 28 20\n"
     ]
    }
   ],
   "source": [
    "def func(a, b, c):\n",
    "    print(a, b, c)\n",
    "func(b=28, a=29, c=20)"
   ]
  },
  {
   "cell_type": "markdown",
   "metadata": {},
   "source": [
    "Cuando utilizamos argumentos de palabra clave, no es necesario que el orden de los argumentos coincida con el orden de los parámetros en la definición de la función. Esto puede hacer que nuestro código sea más fácil de leer y depurar.\n",
    "\n",
    "También puede utilizar argumentos posicionales y de palabra clave al mismo tiempo:"
   ]
  },
  {
   "cell_type": "code",
   "execution_count": 25,
   "metadata": {},
   "outputs": [
    {
     "name": "stdout",
     "output_type": "stream",
     "text": [
      "29 28 20\n"
     ]
    }
   ],
   "source": [
    "def func(a, b, c):\n",
    "    print(a, b, c)\n",
    "func(29, b=28, c=20)"
   ]
  },
  {
   "cell_type": "markdown",
   "metadata": {},
   "source": [
    "Tener en cuenta que los argumentos posicionales siempre tienen que aparecer antes que cualquier argumento de palabra clave."
   ]
  },
  {
   "cell_type": "markdown",
   "metadata": {},
   "source": [
    "## Desempaquetado de iterables\n",
    "El desempaquetado de iterables utiliza la sintaxis *iterable_name para pasar los elementos de un iterable como argumentos posicionales a una función:"
   ]
  },
  {
   "cell_type": "code",
   "execution_count": 2,
   "metadata": {},
   "outputs": [
    {
     "name": "stdout",
     "output_type": "stream",
     "text": [
      "1 3 -7\n"
     ]
    }
   ],
   "source": [
    "def func(a, b, c):\n",
    "    print(a, b, c)\n",
    "values = (1, 3, -7)\n",
    "func(*values)"
   ]
  },
  {
   "cell_type": "markdown",
   "metadata": {},
   "source": [
    "Se trata de una función muy útil, sobre todo cuando necesitamos generar mediante programación argumentos para una función."
   ]
  },
  {
   "cell_type": "markdown",
   "metadata": {},
   "source": [
    "## Desempaquetado de diccionarios\n",
    "El desempaquetado de diccionarios es a los argumentos de palabras clave lo que el desempaquetado de iterables es a los argumentos posicionales. Utilizamos la sintaxis **dictionary_name para pasar argumentos de palabra clave, construidos a partir de las claves y valores de un diccionario, a una función:"
   ]
  },
  {
   "cell_type": "code",
   "execution_count": 3,
   "metadata": {},
   "outputs": [
    {
     "name": "stdout",
     "output_type": "stream",
     "text": [
      "42 1 2\n"
     ]
    }
   ],
   "source": [
    "def func(a, b, c):\n",
    "    print(a, b, c)\n",
    "values = {'b': 1, 'c': 2, 'a': 42}\n",
    "func(**values) # equivalent to func(b=1, c=2, a=42)"
   ]
  },
  {
   "cell_type": "markdown",
   "metadata": {},
   "source": [
    "## Combinando tipos de argumentos\n",
    "Ya hemos visto que los argumentos posicionales y de palabra clave pueden utilizarse juntos, siempre que se pasen en el orden adecuado. Resulta que también podemos combinar el desempaquetado (de ambos tipos) con argumentos normales posicionales y de palabra clave. Incluso podemos descomprimir varios iterables y varios diccionarios. \n",
    "\n",
    "Los argumentos deben pasarse en el siguiente orden:\n",
    "- Primero, argumentos posicionales: tanto ordinarios (name) como de desempaquetado de iterables (*name)\n",
    "- A continuación vienen los argumentos de palabra clave (name=value), que pueden mezclarse con el desempaquetado de iterables (*name)\n",
    "- Por último, está el desempaquetado de diccionario (**name), que puede mezclarse con argumentos de palabra clave (name=value) \n",
    "\n",
    "Esto será mucho más fácil de entender con un ejemplo:"
   ]
  },
  {
   "cell_type": "code",
   "execution_count": 5,
   "metadata": {},
   "outputs": [
    {
     "name": "stdout",
     "output_type": "stream",
     "text": [
      "1 2 3 4 5 6\n",
      "1 2 3 4 5 6\n",
      "1 2 3 4 5 6\n",
      "1 2 3 4 5 6\n"
     ]
    }
   ],
   "source": [
    "def func(a, b, c, d, e, f):\n",
    "    print(a, b, c, d, e, f)\n",
    "func(1, *(2, 3), f=6, *(4, 5))\n",
    "func(*(1, 2), e=5, *(3, 4), f=6)\n",
    "func(1, **{'b': 2, 'c': 3}, d=4, **{'e': 5, 'f': 6})\n",
    "func(c=3, *(1, 2), **{'d': 4}, e=5, **{'f': 6})"
   ]
  },
  {
   "cell_type": "markdown",
   "metadata": {},
   "source": [
    "Todas las llamadas a *func()* anteriores son equivalentes. Al combinar argumentos posicionales y de palabra clave, es importante recordar que cada parámetro sólo puede aparecer una vez en la lista de argumentos."
   ]
  },
  {
   "cell_type": "markdown",
   "metadata": {},
   "source": [
    "# Definición de parametros\n",
    "Los parámetros de funcionamiento pueden clasificarse en cinco grupos. Uno de ellos son los de parametros de posicionamiento normal o de palabra clave, lo que hemos visto en la sesión anterior; los cuales pueden pasarse tanto como argumentos posicionales como de palabra clave.\n",
    "\n",
    "Antes de hablar de la clasificación de los parámetros de funcionamiento, tenemos que tener en cuenta que los parámetros también se pueden clasificar como obligatorios u opcionales. Los parámetros opcionales tienen un valor por defecto especificado en la definición de la función. La sintaxis es *name=value*:"
   ]
  },
  {
   "cell_type": "code",
   "execution_count": 3,
   "metadata": {},
   "outputs": [
    {
     "name": "stdout",
     "output_type": "stream",
     "text": [
      "3 4 88\n",
      "6 10 15\n",
      "82 91 88\n",
      "92 15 56\n"
     ]
    }
   ],
   "source": [
    "def func(a, b=4, c=88):\n",
    "    print(a, b, c)\n",
    "func(3)\n",
    "func(b=10, a=6, c=15)\n",
    "func(82, b=91)\n",
    "func(92, 15, 56)"
   ]
  },
  {
   "cell_type": "markdown",
   "metadata": {},
   "source": [
    "Es importante tener en cuenta que, con la excepción de los parámetros de sólo palabra clave, los parámetros obligatorios deben estar siempre a la izquierda de todos los parámetros opcionales en la definición de la función.\n",
    "\n",
    "Ahora si, pasaremos a mostrar el resto de grupos con la cual se clasifican los parámetros de funcionamiento:"
   ]
  },
  {
   "cell_type": "markdown",
   "metadata": {},
   "source": [
    "## Parámetros posicionales variables\n",
    "A veces, se puede preferir no especificar el número exacto de parámetros posicionales a una función; para ello, Python nos ofrece la posibilidad de hacerlo utilizando parámetros posicionales variables.\n",
    "\n",
    "Un ejemplo de su uso es el siguiente:\n"
   ]
  },
  {
   "cell_type": "code",
   "execution_count": 12,
   "metadata": {},
   "outputs": [
    {
     "name": "stdout",
     "output_type": "stream",
     "text": [
      "-7\n",
      "None\n"
     ]
    }
   ],
   "source": [
    "def minimum(*n):\n",
    "    # print(type(n)) # n is a tuple\n",
    "    if n: # explained after the code\n",
    "        mn = n[0]\n",
    "        for value in n[1:]:\n",
    "            if value < mn:\n",
    "                mn = value\n",
    "        print(mn)\n",
    "minimum(1, 3, -7, 9) # n = (1, 3, -7, 9) - prints: -7\n",
    "print(minimum())"
   ]
  },
  {
   "cell_type": "markdown",
   "metadata": {},
   "source": [
    "Cuando definimos un parámetro con un asterisco, *, antepuesto a su nombre, le estamos diciendo a Python que este parámetro recogerá un número variable de argumentos posicionales cuando se llame a la función. Dentro de la función, n es una tupla. Tener en cuenta que una función puede tener como máximo un parámetro posicional variable, puesto que no tendría sentido tener más. Tampoco puedes especificar un valor por defecto para un parámetro posicional variable. El valor por defecto es siempre una tupla vacía. \n",
    "\n",
    "Por último, tener en cuenta que Python evalúa a los objetos como *True* cuando no están vacíos y *False* en caso contrario.\n"
   ]
  },
  {
   "cell_type": "markdown",
   "metadata": {},
   "source": [
    "## Parámetros de palabras clave variables\n",
    "Los parámetros variables de palabra clave son muy similares a los parámetros variables posicionales. La única diferencia es la sintaxis (** en lugar de *) y el hecho de que se recogen en un diccionario:"
   ]
  },
  {
   "cell_type": "code",
   "execution_count": 13,
   "metadata": {},
   "outputs": [
    {
     "name": "stdout",
     "output_type": "stream",
     "text": [
      "{'a': 1, 'b': 42}\n",
      "{}\n",
      "{'a': 1, 'b': 46, 'c': 99}\n"
     ]
    }
   ],
   "source": [
    "def func(**kwargs):\n",
    "    print(kwargs)\n",
    "func(a=1, b=42)\n",
    "func()\n",
    "func(a=1, b=46, c=99)"
   ]
  },
  {
   "cell_type": "markdown",
   "metadata": {},
   "source": [
    "Como podemos ver, al añadir ** delante del nombre del parámetro en la definición de la función le dice a Python que use ese nombre para recoger un número variable de parámetros de palabra clave. Como en el caso de los parámetros posicionales variables, cada función puede tener como máximo un parámetro de palabra clave variable, y no se puede especificar un valor por defecto.\n",
    "\n",
    "Al igual que los parámetros posicionales variables se asemejan a la descompresión de iterables, los parámetros de palabras clave variables se asemejan a la descompresión de diccionarios. El desempaquetado de diccionarios también se utiliza a menudo para pasar argumentos a funciones con parámetros de palabra clave variable. \n",
    "\n",
    "La razón por la que es tan importante poder pasar un número variable de argumentos de palabra clave puede no ser evidente en este momento; por ello, realizaremos otro ejemplo donde definamos una función que se conecte a una base de datos: queremos conectarnos a una base de datos por defecto simplemente llamando a esta función sin parámetros. También queremos conectarnos a cualquier otra base de datos pasando a la función los parámetros apropiados."
   ]
  },
  {
   "cell_type": "code",
   "execution_count": 1,
   "metadata": {},
   "outputs": [
    {
     "name": "stdout",
     "output_type": "stream",
     "text": [
      "{'host': '127.0.0.1', 'port': 5432, 'user': '', 'pwd': ''}\n",
      "{'host': '127.0.0.42', 'port': 5433, 'user': '', 'pwd': ''}\n",
      "{'host': '127.0.0.1', 'port': 5431, 'user': 'fab', 'pwd': 'gandalf'}\n"
     ]
    }
   ],
   "source": [
    "def connect(**options):\n",
    "    conn_params = {\n",
    "        'host': options.get('host', '127.0.0.1'),\n",
    "        'port': options.get('port', 5432),\n",
    "        'user': options.get('user', ''),\n",
    "        'pwd': options.get('pwd', ''),\n",
    "    }\n",
    "    print(conn_params)\n",
    "    # we then connect to the db (commented out)\n",
    "    # db.connect(**conn_params)\n",
    "connect()\n",
    "connect(host='127.0.0.42', port=5433)\n",
    "connect(port=5431, user='fab', pwd='gandalf')"
   ]
  },
  {
   "cell_type": "markdown",
   "metadata": {},
   "source": [
    "Tenga en cuenta que, en la función, podemos preparar un diccionario de parámetros de conexión(conn_params) utilizando valores por defecto como fallbacks, permitiendo que se sobrescriban si se proporcionan en la llamada a la función."
   ]
  },
  {
   "cell_type": "markdown",
   "metadata": {},
   "source": [
    "## Parámetros sólo posicionales\n",
    "A partir de Python 3.8, hay una nueva sintaxis de parámetros de función, */*, que indica que un conjunto de parámetros de función debe especificarse posicionalmente y no puede pasarse como argumento de palabra clave. Veamos un ejemplo sencillo:"
   ]
  },
  {
   "cell_type": "code",
   "execution_count": 2,
   "metadata": {},
   "outputs": [
    {
     "name": "stdout",
     "output_type": "stream",
     "text": [
      "1 2 3\n",
      "1 2 3\n"
     ]
    }
   ],
   "source": [
    "def func(a, b, /, c):\n",
    "    print(a, b, c)\n",
    "func(1, 2, 3) # prints: 1 2 3\n",
    "func(1, 2, c=3) # prints 1 2 3"
   ]
  },
  {
   "cell_type": "markdown",
   "metadata": {},
   "source": [
    "En el ejemplo anterior, definimos una función *func()*, que especifica tres parámetros: *a*, *b* y *c*. El */* en la firma de la función indica que *a* y *b* deben pasarse posicionalmente, es decir, no por palabra clave.\n",
    "\n",
    "Las dos últimas líneas del ejemplo muestran que podemos llamar a la función pasando los tres argumentos posicionalmente, o podemos pasar *c* por palabra clave. Ambos casos funcionan bien, ya que c se define después de */* en la firma de la función. Si intentamos llamar a la función pasando a o b por palabra clave, nos mostraria un error.\n",
    "\n",
    "Los parámetros sólo posicionales también pueden ser opcionales, como se muestra a continuación:"
   ]
  },
  {
   "cell_type": "code",
   "execution_count": 3,
   "metadata": {},
   "outputs": [
    {
     "name": "stdout",
     "output_type": "stream",
     "text": [
      "4 5\n",
      "3 2\n"
     ]
    }
   ],
   "source": [
    "def func(a, b=2, /):\n",
    "    print(a, b)\n",
    "func(4, 5)\n",
    "func(3)"
   ]
  },
  {
   "cell_type": "markdown",
   "metadata": {},
   "source": [
    "Una ventaja que tiene esto es la capacidad de emular completamente comportamientos de funciones codificadas en C existentes:"
   ]
  },
  {
   "cell_type": "code",
   "execution_count": 4,
   "metadata": {},
   "outputs": [],
   "source": [
    "def divmod(a, b, /):\n",
    "    \"Emulate the built in divmod() function\"\n",
    "    return (a // b, a % b)"
   ]
  },
  {
   "cell_type": "markdown",
   "metadata": {},
   "source": [
    "Otro caso de uso importante es excluir argumentos de palabra clave cuando el nombre del parámetro no es útil:"
   ]
  },
  {
   "cell_type": "code",
   "execution_count": 8,
   "metadata": {},
   "outputs": [
    {
     "name": "stdout",
     "output_type": "stream",
     "text": [
      "Error: len() takes no keyword arguments\n"
     ]
    }
   ],
   "source": [
    "try:\n",
    "    # Intentar llamar a len() con un argumento con nombre incorrecto\n",
    "    length = len(obj=\"perro\")\n",
    "except TypeError as e:\n",
    "    # Capturar el error de tipo y manejar la excepción\n",
    "    print(f\"Error: {e}\")"
   ]
  },
  {
   "cell_type": "markdown",
   "metadata": {},
   "source": [
    "Finalmente, el uso de parámetros sólo posicionales implica que lo que esté a la izquierda de */* permanece disponible para su uso en argumentos de palabras clave variables, como se muestra en el siguiente ejemplo:"
   ]
  },
  {
   "cell_type": "code",
   "execution_count": 10,
   "metadata": {},
   "outputs": [
    {
     "name": "stdout",
     "output_type": "stream",
     "text": [
      "Positional-only name\n",
      "{'name': 'Name in **kwargs'}\n"
     ]
    }
   ],
   "source": [
    "def func_name(name, /, **kwargs):\n",
    "    print(name)\n",
    "    print(kwargs)\n",
    "func_name('Positional-only name', name='Name in **kwargs')"
   ]
  },
  {
   "cell_type": "markdown",
   "metadata": {},
   "source": [
    "La posibilidad de conservar los nombres de los parámetros en las firmas de las funciones para utilizarlos en **kwargs puede dar lugar a un código más sencillo y limpio."
   ]
  },
  {
   "cell_type": "markdown",
   "metadata": {},
   "source": [
    "## Parámetros de sólo palabra clave\n",
    "Python 3 introdujo los parámetros de sólo palabra clave, aunque sus casos de uso no son tan frecuentes. Hay dos formas de especificarlos, o bien después de los parámetros posicionales de la variable, o bien después de un *. Veamos un ejemplo de ambas:"
   ]
  },
  {
   "cell_type": "code",
   "execution_count": 13,
   "metadata": {},
   "outputs": [
    {
     "name": "stdout",
     "output_type": "stream",
     "text": [
      "(1, 5, 13) 7\n",
      "() 12\n",
      "Error: kwo() missing 1 required keyword-only argument: 'c'\n",
      "2 17 89\n",
      "9 49 17\n",
      "Error: kwo2() missing 1 required keyword-only argument: 'c'\n"
     ]
    }
   ],
   "source": [
    "# Primera opción\n",
    "def kwo(*a, c):\n",
    "    print(a, c)\n",
    "kwo(1, 5, 13, c=7)\n",
    "kwo(c=12)\n",
    "try:\n",
    "    kwo(1, 8)\n",
    "except TypeError as e:\n",
    "    # Capturar el error de tipo y manejar la excepción\n",
    "    print(f\"Error: {e}\")\n",
    "\n",
    "# Segunda opción\n",
    "def kwo2(a, b=49, *, c):\n",
    "    print(a, b, c)\n",
    "kwo2(2, b=17, c=89)\n",
    "kwo2(9, c=17)\n",
    "try:\n",
    "    kwo2(4, 25)\n",
    "except TypeError as e:\n",
    "    # Capturar el error de tipo y manejar la excepción\n",
    "    print(f\"Error: {e}\")"
   ]
  },
  {
   "cell_type": "markdown",
   "metadata": {},
   "source": [
    "La función, *kwo()*, toma un número variable de parámetros posicionales *(a)* y uno de sólo palabra clave, *c*. Lo mismo se aplica a la función *kwo2()*, que difiere de *kwo* en que toma un argumento posicional, *a*, un argumento de palabra clave, *b*, y luego uno de sólo palabra clave, *c*."
   ]
  },
  {
   "cell_type": "markdown",
   "metadata": {},
   "source": [
    "## Combinación de parámetros de entrada\n",
    "Es posible combinar distintos tipos de parámetros en una misma función (de hecho, a menudo resulta muy útil hacerlo). En el caso de combinar distintos tipos de argumentos en la misma llamada a función, existen algunas restricciones en cuanto al orden:\n",
    "- Los parámetros sólo posicionales van primero, seguidos de un /.\n",
    "- Los parámetros normales van después de los parámetros posicionales.\n",
    "- Los parámetros posicionales variables van después de los parámetros normales.\n",
    "- Los parámetros de palabra clave van después de los parámetros posicionales variables.\n",
    "- Los parámetros variables de palabra clave siempre van en último lugar.\n",
    "- En el caso de los parámetros sólo posicionales y normales, los parámetros obligatorios deben definirse antes que los parámetros opcionales. Esto significa que si tienes un parámetro opcional sólo posicional, todos tus parámetros normales deben ser opcionales también. Esta regla no afecta a los parámetros de sólo palabra clave.\n",
    "  \n",
    "A continuación, veremos un ejemplo para entender mejor estas reglas:"
   ]
  },
  {
   "cell_type": "code",
   "execution_count": 15,
   "metadata": {},
   "outputs": [
    {
     "name": "stdout",
     "output_type": "stream",
     "text": [
      "a, b, c: 1 2 3\n",
      "args: (5, 7, 9)\n",
      "kwargs: {'A': 'a', 'B': 'b'}\n"
     ]
    }
   ],
   "source": [
    "def func(a, b, c=7, *args, **kwargs):\n",
    "    print('a, b, c:', a, b, c)\n",
    "    print('args:', args)\n",
    "    print('kwargs:', kwargs)\n",
    "func(1, 2, 3, 5, 7, 9, A='a', B='b')"
   ]
  },
  {
   "cell_type": "markdown",
   "metadata": {},
   "source": [
    "Ahora veremos un ejemplo con parámetros de sólo palabra clave:"
   ]
  },
  {
   "cell_type": "code",
   "execution_count": 16,
   "metadata": {},
   "outputs": [
    {
     "name": "stdout",
     "output_type": "stream",
     "text": [
      "a, b, c: 1 2 3\n",
      "d, e: 256 7\n",
      "args: (4, 5, 6)\n",
      "kwargs: {'f': 9, 'g': 10}\n"
     ]
    }
   ],
   "source": [
    "def allparams(a, /, b, c=42, *args, d=256, e, **kwargs):\n",
    "    print('a, b, c:', a, b, c)\n",
    "    print('d, e:', d, e)\n",
    "    print('args:', args)\n",
    "    print('kwargs:', kwargs)\n",
    "allparams(1, 2, 3, 4, 5, 6, e=7, f=9, g=10)"
   ]
  },
  {
   "cell_type": "markdown",
   "metadata": {},
   "source": [
    "En la declaración de la función tenemos parámetros de sólo posición y de sólo palabra clave: a es de sólo posición, mientras que d y e son de sólo palabra clave. Vienen después del argumento posicional variable *args, y sería lo mismo si vinieran justo después de un único * (en cuyo caso no habría ningún parámetro posicional variable).\n",
    "\n",
    "Otra cosa a tener en cuenta son los nombres que se han colocado a los parámetros de variable posicional y de palabra clave. Se pueden elegir otros; pero, args y kwargs son los nombres convencionales que se dan a estos parámetros, al menos genéricamente."
   ]
  },
  {
   "cell_type": "markdown",
   "metadata": {},
   "source": [
    "## ¡Evite la trampa! Valores por defecto mutables\n",
    "Una cosa que hay que tener en cuenta, en Python, es que los valores por defecto se crean en el momento de la definición; por lo tanto, las llamadas posteriores a la misma función posiblemente se comportarán de manera diferente según la mutabilidad de sus valores por defecto. Veamos un ejemplo:"
   ]
  },
  {
   "cell_type": "code",
   "execution_count": 17,
   "metadata": {},
   "outputs": [
    {
     "name": "stdout",
     "output_type": "stream",
     "text": [
      "[]\n",
      "{}\n",
      "############\n",
      "[0]\n",
      "{1: 1}\n",
      "############\n",
      "[0, 1]\n",
      "{1: 1, 2: 2}\n",
      "############\n"
     ]
    }
   ],
   "source": [
    "def func(a=[], b={}):\n",
    "    print(a)\n",
    "    print(b)\n",
    "    print('#' * 12)\n",
    "    a.append(len(a)) # this will affect a's default value\n",
    "    b[len(a)] = len(a) # and this will affect b's one\n",
    "func()\n",
    "func()\n",
    "func()"
   ]
  },
  {
   "cell_type": "markdown",
   "metadata": {},
   "source": [
    "Ambos parámetros tienen valores por defecto mutables. Esto significa que, si afecta a esos objetos, cualquier modificación se mantendrá en las siguientes llamadas a la función.\n",
    "\n",
    "Aunque este comportamiento puede parecer muy extraño al principio, en realidad tiene sentido, y es muy útil, por ejemplo, cuando se utilizan técnicas de memoización. Aún más interesante es lo que ocurre cuando, entre las llamadas, introducimos una que no utiliza valores por defecto, como ésta:"
   ]
  },
  {
   "cell_type": "code",
   "execution_count": 18,
   "metadata": {},
   "outputs": [
    {
     "name": "stdout",
     "output_type": "stream",
     "text": [
      "[0, 1, 2]\n",
      "{1: 1, 2: 2, 3: 3}\n",
      "############\n",
      "[5, 32, 67]\n",
      "{'B': 8}\n",
      "############\n",
      "[0, 1, 2, 3]\n",
      "{1: 1, 2: 2, 3: 3, 4: 4}\n",
      "############\n"
     ]
    }
   ],
   "source": [
    "func()\n",
    "func(a=[5, 32, 67], b={'B': 8})\n",
    "func()"
   ]
  },
  {
   "cell_type": "markdown",
   "metadata": {},
   "source": [
    "Esta salida nos muestra que los valores por defecto se mantienen incluso si llamamos a la función con otros valores. Una forma para obtener un nuevo valor vacío cada vez que corre el código es de la siguiente manera:"
   ]
  },
  {
   "cell_type": "code",
   "execution_count": 19,
   "metadata": {},
   "outputs": [
    {
     "name": "stdout",
     "output_type": "stream",
     "text": [
      "[]\n",
      "{}\n",
      "############\n",
      "[5, 32, 67]\n",
      "{'B': 8}\n",
      "############\n",
      "[]\n",
      "{}\n",
      "############\n"
     ]
    }
   ],
   "source": [
    "def func(a=None, b=None):\n",
    "    if a is None:\n",
    "        a = []\n",
    "    if b is None:\n",
    "        b = {}\n",
    "    print(a)\n",
    "    print(b)\n",
    "    print('#' * 12)\n",
    "    a.append(len(a)) # this will affect a's default value\n",
    "    b[len(a)] = len(a) # and this will affect b's one\n",
    "func()\n",
    "func(a=[5, 32, 67], b={'B': 8})\n",
    "func()\n",
    "    "
   ]
  },
  {
   "cell_type": "markdown",
   "metadata": {},
   "source": [
    "# Valores de retorno\n"
   ]
  },
  {
   "cell_type": "markdown",
   "metadata": {},
   "source": [
    "Python posee una ventaja con respecto a otros lenguajes de programación sobre los valores de retorno de las funciones; ya que, en la mayoría de los lenguajes, las funciones sólo pueden devolver un objeto, pero en Python puedes devolver una tupla, lo que implica que puedes devolver lo que quieras. Esta característica permite a un programador escribir software que sería mucho más difícil de escribir en otros lenguajes, o ciertamente más tedioso. Para devolver algo de una función necesitamos usar la sentencia *return*, seguida de lo que queremos devolver. Puede haber tantas sentencias *return* como sean necesarias en el cuerpo de una función.\n",
    "\n",
    "Por otro lado, si dentro del cuerpo de una función no devolvemos nada, o invocamos una sentencia *return* desnuda, la función devolverá None. Se muestra un ejemplo a continuación:"
   ]
  },
  {
   "cell_type": "code",
   "execution_count": 5,
   "metadata": {},
   "outputs": [
    {
     "name": "stdout",
     "output_type": "stream",
     "text": [
      "a = None\n"
     ]
    }
   ],
   "source": [
    "def func():\n",
    "    pass\n",
    "func()\n",
    "a = func()\n",
    "print(f\"{a = }\")"
   ]
  },
  {
   "cell_type": "markdown",
   "metadata": {},
   "source": [
    "El cuerpo de la función se compone únicamente de la sentencia *pass*, está corresponde a una operación nula, ya que, cuando se ejecuta, no ocurre nada. Es útil como marcador de posición cuando se requiere una sentencia sintácticamente pero no es necesario ejecutar ningún código. En otros lenguajes, probablemente nos limitaríamos a indicarlo con un par de llaves ({}), que definen un ámbito vacío; pero en Python, un ámbito se define indentando código, por lo que es necesaria una sentencia como *pass*.\n",
    "\n",
    "Realizaremos un ejemplo de una función para evaluar sus características, tener en cuenta que asumiremos que la función siempre se llama correctamente con los valores apropiados, por lo que no necesitaremos comprobar sus argumentos de entrada:"
   ]
  },
  {
   "cell_type": "code",
   "execution_count": 7,
   "metadata": {},
   "outputs": [
    {
     "name": "stdout",
     "output_type": "stream",
     "text": [
      "f5 = 40320\n"
     ]
    }
   ],
   "source": [
    "def factorial(n):\n",
    "    if n in (0, 1):\n",
    "        return 1\n",
    "    result = n\n",
    "    for k in range(2, n):\n",
    "        result *= k\n",
    "    return result\n",
    "f5 = factorial(8)\n",
    "print(f\"{f5 = }\")"
   ]
  },
  {
   "cell_type": "markdown",
   "metadata": {},
   "source": [
    "Podemos observar que el código nos permite tener dos puntos de retorno. El primero es cuando *n* es 0 o 1, que devuelve el valor de 1. En caso contrario, realizamos el cálculo requerido y devolvemos el resultado correspondiete al factorial del número colocado.\n",
    "\n",
    "Intentemos ahora escribir esta función de forma un poco más breve apoyada de algunas bibliotecas:"
   ]
  },
  {
   "cell_type": "code",
   "execution_count": 26,
   "metadata": {},
   "outputs": [
    {
     "name": "stdout",
     "output_type": "stream",
     "text": [
      "f5 = 40320\n",
      "Help on built-in function reduce in module _functools:\n",
      "\n",
      "reduce(...)\n",
      "    reduce(function, iterable[, initial]) -> value\n",
      "\n",
      "    Apply a function of two arguments cumulatively to the items of a sequence\n",
      "    or iterable, from left to right, so as to reduce the iterable to a single\n",
      "    value.  For example, reduce(lambda x, y: x+y, [1, 2, 3, 4, 5]) calculates\n",
      "    ((((1+2)+3)+4)+5).  If initial is present, it is placed before the items\n",
      "    of the iterable in the calculation, and serves as a default when the\n",
      "    iterable is empty.\n",
      "\n"
     ]
    }
   ],
   "source": [
    "from functools import reduce\n",
    "from operator import mul\n",
    "def factorial(n):\n",
    "    return reduce(mul, range(1, n + 1), 1)\n",
    "f5 = factorial(8)\n",
    "print(f\"{f5 = }\")\n",
    "help(reduce)"
   ]
  },
  {
   "cell_type": "markdown",
   "metadata": {},
   "source": [
    "Este sencillo ejemplo demuestra que Python es elegante y conciso.\n",
    "\n",
    "Otra forma de ver sus características de Python es la manera de como devolver múltiples valores mediante el uso de *tuplas* de manera explícita o implícita."
   ]
  },
  {
   "cell_type": "code",
   "execution_count": 29,
   "metadata": {},
   "outputs": [
    {
     "name": "stdout",
     "output_type": "stream",
     "text": [
      "moddiv(20, 7) = (2, 6)\n"
     ]
    }
   ],
   "source": [
    "def moddiv(a, b):\n",
    "    return a // b, a % b # o también: (a // b, a % b)\n",
    "print(f\"{moddiv(20, 7) = }\")"
   ]
  },
  {
   "cell_type": "markdown",
   "metadata": {},
   "source": [
    "Al escribir funciones, es muy útil seguir algunas pautas para que queden bien, como son las siguientes:\n",
    "- *Las funciones deben hacer una cosa:* las funciones que hacen una sola cosa son fáciles de describir en una frase corta; las funciones que hacen varias cosas pueden dividirse en funciones más pequeñas que hacen una sola cosa. Estas funciones más pequeñas suelen ser más fáciles de leer y entender.\n",
    "- *Las funciones deben ser pequeñas:* cuanto más pequeños sean, más fácil será probarlas y escribirlas para que hagan una sola cosa.\n",
    "- *Cuantos menos parámetros de entrada, mejor:* las funciones que toman muchos parámetros se vuelven rápidamente difíciles de gestionar (entre otros problemas).\n",
    "- *Las funciones deben ser coherentes en sus valores de retorno:* tener claro el valor de retorno es importante a la hora de escribir una función; por ejemplo, es diferente devolver *False* que *None*, incluso si, dentro de un contexto booleano, ambos se evalúan como *False*. El primero significa que tenemos información (*False*), mientras que el segundo caso significa que no hay información.\n",
    "- *Las funciones no deberían tener efectos secundarios:* las funciones no deben afectar a los valores con los que se las llama.\n",
    "\n",
    "Para entender mejor el último punto, veamos el siguiente ejemplo:"
   ]
  },
  {
   "cell_type": "code",
   "execution_count": 40,
   "metadata": {},
   "outputs": [
    {
     "name": "stdout",
     "output_type": "stream",
     "text": [
      "sorted(numbers) = [3, 4, 7, 9]\n",
      "numbers = [9, 3, 7, 4]\n",
      "numbers = [3, 4, 7, 9]\n"
     ]
    }
   ],
   "source": [
    "numbers = [9, 3, 7, 4]\n",
    "print(f\"{sorted(numbers) = }\") # No ordena la lista original\n",
    "print(f\"{numbers = }\")\n",
    "numbers.sort() # Ordena la lista original\n",
    "print(f\"{numbers = }\")"
   ]
  },
  {
   "cell_type": "markdown",
   "metadata": {},
   "source": [
    "# Funciones recursivas\n",
    "Cuando una función se llama a sí misma para producir un resultado, se dice que es recursiva. A veces las funciones recursivas son muy útiles, en el sentido de que facilitan la escritura de código (algunos algoritmos son muy fáciles de escribir utilizando el paradigma recursivo, mientras que otros no lo son). No existe ninguna función recursiva que no pueda reescribirse de forma iterativa, por lo que normalmente depende del programador elegir el mejor enfoque para cada caso.\n",
    "\n",
    "El cuerpo de una función recursiva suele tener dos secciones: una en la que el valor de retorno depende de una llamada posterior a sí misma, y otra en la que no (llamada caso base).\n",
    "\n",
    "Un ejemplo que podemos considerar es la función factorial, N!. El caso base es cuando N es 0 ó 1: la función devuelve 1 sin necesidad de más cálculos adicional. En cambio, en el caso general, N! devuelve el producto: *N! = 1 * 2 * ... * (N-1) * N*.\n",
    "\n",
    "Una forma de escribirlo en Python sería:"
   ]
  },
  {
   "cell_type": "code",
   "execution_count": 43,
   "metadata": {},
   "outputs": [
    {
     "name": "stdout",
     "output_type": "stream",
     "text": [
      "[0, 1]\n"
     ]
    }
   ],
   "source": [
    "def factorial(n):\n",
    "    if n in (0, 1):\n",
    "        return 1\n",
    "    return n * factorial(n-1)\n",
    "\n",
    "factorial(5)\n",
    "list_fibonacci = []\n",
    "list_fibonacci.append(0)\n",
    "list_fibonacci.append(1)\n",
    "print(list_fibonacci)"
   ]
  },
  {
   "cell_type": "code",
   "execution_count": 67,
   "metadata": {},
   "outputs": [
    {
     "data": {
      "text/plain": [
       "[0, 1, 1, 2, 3, 5]"
      ]
     },
     "execution_count": 67,
     "metadata": {},
     "output_type": "execute_result"
    }
   ],
   "source": [
    "# Números fibonacci\n",
    "def fibonacci(n):\n",
    "    if n == 0:\n",
    "        return []\n",
    "    if n == 1:\n",
    "        return [0]\n",
    "    list_fibonacci = [0, 1]\n",
    "    for k in range(2, n):\n",
    "        next_valute = list_fibonacci[k-1] + list_fibonacci[k-2]\n",
    "        list_fibonacci.append(next_valute)\n",
    "    return list_fibonacci\n",
    "fibonacci(6)"
   ]
  },
  {
   "cell_type": "code",
   "execution_count": 70,
   "metadata": {},
   "outputs": [
    {
     "data": {
      "text/plain": [
       "5"
      ]
     },
     "execution_count": 70,
     "metadata": {},
     "output_type": "execute_result"
    }
   ],
   "source": [
    "# Longitud de cadena\n",
    "def longitud_cadena(cadena):\n",
    "    if cadena == \"\":\n",
    "        return 0\n",
    "    else:\n",
    "        return 1 + longitud_cadena(cadena[1:])\n",
    "longitud_cadena(\"perro\")"
   ]
  },
  {
   "cell_type": "markdown",
   "metadata": {},
   "source": [
    "# Funciones anónimas\n",
    "Un tipo de función muy usadas son las funciones anónimas. Estas funciones, que en Python se llaman *lambdas*, se utilizan normalmente cuando una función completa con su propio nombre sería excesiva, y todo lo que queremos es una rápida y simple función de una sola línea que haga el trabajo.\n",
    "\n",
    "Imaginemos que queremos una lista de todos los números hasta un cierto valor de N que también son múltiplos de cinco. Podríamos utilizar la función *filter()* para esto, que requerirá una función y un iterable como entrada. El valor de retorno es un objeto filtro que, al iterar sobre él, devuelve los elementos del iterable de entrada para los que la función devuelve *True*. Sin usar una función anónima, podríamos hacer algo como esto:"
   ]
  },
  {
   "cell_type": "code",
   "execution_count": 85,
   "metadata": {},
   "outputs": [
    {
     "data": {
      "text/plain": [
       "[0, 5]"
      ]
     },
     "execution_count": 85,
     "metadata": {},
     "output_type": "execute_result"
    }
   ],
   "source": [
    "def is_multiple_of_five(n):\n",
    "    return not n % 5\n",
    "\n",
    "def get_multiples_of_five(n):\n",
    "    return list(filter(is_multiple_of_five, range(n)))\n",
    "\n",
    "get_multiples_of_five(8)"
   ]
  },
  {
   "cell_type": "markdown",
   "metadata": {},
   "source": [
    "Observe cómo utilizamos *is_multiple_of_five()* para filtrar los primeros *n* números naturales. Esto parece un poco excesivo: la tarea es sencilla y no necesitamos mantener la función *is_multiple_of_five()* para nada más. Vamos a reescribirla utilizando una función *lambda*:"
   ]
  },
  {
   "cell_type": "code",
   "execution_count": 86,
   "metadata": {},
   "outputs": [
    {
     "data": {
      "text/plain": [
       "[0, 5]"
      ]
     },
     "execution_count": 86,
     "metadata": {},
     "output_type": "execute_result"
    }
   ],
   "source": [
    "def get_multiples_of_five(n):\n",
    "    return list(filter(lambda k: not k % 5, range(n)))\n",
    "\n",
    "get_multiples_of_five(8)"
   ]
  },
  {
   "cell_type": "markdown",
   "metadata": {},
   "source": [
    "La lógica es exactamente la misma, pero la función de filtrado es ahora una *lambda*. Definirla es muy fácil y sigue esta forma: *nombre_func = lambda [lista_parámetros]: expresión*. Se devuelve un objeto función, que equivale a esto: *def nombre_func([lista_parametros]): return expresión*.\n",
    "\n",
    "Otros ejemplos con el uso de función *lambda* son:"
   ]
  },
  {
   "cell_type": "code",
   "execution_count": 90,
   "metadata": {},
   "outputs": [],
   "source": [
    "# Función aderir\n",
    "def adder(a, b):\n",
    "    return a + b\n",
    "# Función aderir usando lambda\n",
    "adder_lambda = lambda a, b: a + b\n",
    "\n",
    "# Función que convierte un texto a mayúscula\n",
    "def to_upper(s):\n",
    "    return s.upper()\n",
    "\n",
    "# Función que convierte un texto a mayúscula usando lambda\n",
    "to_upper_lambda = lambda s: s.upper()"
   ]
  },
  {
   "cell_type": "markdown",
   "metadata": {},
   "source": [
    "# Atributos de función\n",
    "Cada función es un objeto completo y, como tal, tiene muchos atributos. Algunos de ellos son especiales y pueden utilizarse de forma introspectiva para inspeccionar el objeto función en tiempo de ejecución. El siguiente script es un ejemplo que muestra una parte de ellos y cómo mostrar su valor para una función de ejemplo:"
   ]
  },
  {
   "cell_type": "code",
   "execution_count": 93,
   "metadata": {},
   "outputs": [
    {
     "name": "stdout",
     "output_type": "stream",
     "text": [
      "__doc__ -> Return a multiplied by b. \n",
      "__name__ -> multiplication\n",
      "__qualname__ -> multiplication\n",
      "__module__ -> __main__\n",
      "__defaults__ -> (1,)\n",
      "__code__ -> <code object multiplication at 0x0000016CF10A1FE0, file \"C:\\Users\\rnico\\AppData\\Local\\Temp\\ipykernel_9700\\662625165.py\", line 1>\n",
      "__globals__ -> {'__name__': '__main__', '__doc__': 'Automatically created module for IPython interactive environment', '__package__': None, '__loader__': None, '__spec__': None, '__builtin__': <module 'builtins' (built-in)>, '__builtins__': <module 'builtins' (built-in)>, '_ih': ['', 'def func():\\n    pass\\nfunc()', 'def func():\\n    pass\\n(func())', 'def func():\\n    pass\\nfunc()\\na = func()', 'def func():\\n    pass\\nfunc()\\na = func()\\n(a)', 'def func():\\n    pass\\nfunc()\\na = func()\\nprint(f\"{a = }\")', 'def factorial(n):\\n    if n in (0, 1):\\n        return 1\\n    result = n\\n    for k in range(2, n):\\n        result *= k\\n    return result\\nf5 = factorial(5)', 'def factorial(n):\\n    if n in (0, 1):\\n        return 1\\n    result = n\\n    for k in range(2, n):\\n        result *= k\\n    return result\\nf5 = factorial(8)\\nprint(f\"{f5 = }\")', 'from functools import reduce\\nfrom operator import mul\\nreduce(mul, range(1,8), 1)\\ndef factorial(n):\\n    return reduce(mul, range(1, n + 1), 1)\\nf5 = factorial(8)', 'from functools import reduce\\nfrom operator import mul\\nreduce(mul, range(1,8), 1)', 'from functools import reduce\\nfrom operator import mul\\nreduce(mul, range(1,8+1), 1)', 'from functools import reduce\\nfrom operator import mul\\nnumbers = [0, 1, 2, 3, 4]\\ndef my_add(a, b):\\n    result = a + b\\n    print(f\"{a} + {b} = {result}\")\\n    return result\\nreduce(my_add, numbers)', 'from functools import reduce\\nfrom operator import mul\\nnumbers = [0, 1, 2, 3, 4]\\ndef my_add(a, b):\\n    result = a + b\\n    print(f\"{a} + {b} = {result}\")\\n    return result\\nreduce(mul, numbers)', 'from functools import reduce\\nfrom operator import mul\\nnumbers = [1, 2, 3, 4]\\ndef my_add(a, b):\\n    result = a + b\\n    print(f\"{a} + {b} = {result}\")\\n    return result\\nreduce(mul, numbers)', 'from functools import reduce\\nfrom operator import mul\\ndef factorial(n):\\n    return reduce(mul, range(1, n + 1), 0)', 'from functools import reduce\\nfrom operator import mul\\ndef factorial(n):\\n    return reduce(mul, range(1, n + 1), 0)\\nfactorial(0)', 'from functools import reduce\\nfrom operator import mul\\ndef factorial(n):\\n    return reduce(mul, range(1, n + 1), 0)\\nfactorial(1)', 'from functools import reduce\\nfrom operator import mul\\ndef factorial(n):\\n    return reduce(mul, range(1, n + 1), 1)\\nfactorial(1)', 'from functools import reduce\\nfrom operator import mul\\ndef factorial(n):\\n    return reduce(mul, range(1, n + 1), 1)\\nfactorial(5)', 'from functools import reduce\\nfrom operator import mul\\ndef factorial(n):\\n    return reduce(mul, range(1, n + 1), 0)\\nfactorial(5)', 'from functools import reduce\\nfrom operator import mul\\ndef factorial(n):\\n    return reduce(mul, range(1, n + 1), 1)\\nfactorial(8)', 'from functools import reduce\\nfrom operator import mul\\ndef factorial(n):\\n    return reduce(mul, range(1, n + 1), 1)\\nf5 = factorial(8)\\nprint(f\"{f5 = }\")', 'from functools import reduce\\nfrom operator import mul\\ndef factorial(n):\\n    return reduce(mul, range(1, n + 1), 1)\\nf5 = factorial(8)\\nprint(f\"{f5 = }\")\\nhelp(reduce)', 'from functools import reduce\\nfrom operator import mul\\ndef factorial(n):\\n    return reduce(mul, range(1, n + 1))\\nf5 = factorial(8)\\nprint(f\"{f5 = }\")\\nhelp(reduce)', 'from functools import reduce\\nfrom operator import mul\\ndef factorial(n):\\n    return reduce(mul, range(1, n + 1))\\nf5 = factorial(8)\\nprint(f\"{f5 = }\")\\nhelp(reduce)', 'from functools import reduce\\nfrom operator import mul\\ndef factorial(n):\\n    return reduce(mul, range(1, n + 1))\\nf5 = factorial(0)\\nprint(f\"{f5 = }\")\\nhelp(reduce)', 'from functools import reduce\\nfrom operator import mul\\ndef factorial(n):\\n    return reduce(mul, range(1, n + 1), 1)\\nf5 = factorial(8)\\nprint(f\"{f5 = }\")\\nhelp(reduce)', 'def moddiv(a, b):\\n    return a // b, a % b\\nprint(f\"{moddiv(20, 7) = }\")', 'def moddiv(a, b):\\n    return (a // b, a % b) # o también: (a // b, a % b)\\nprint(f\"{moddiv(20, 7) = }\")', 'def moddiv(a, b):\\n    return (a // b, a % b) # o también: (a // b, a % b)\\nprint(f\"{moddiv(20, 7) = }\")', \"numbers = [4, 1, 7, 5]\\n[sorted(numbers)] # won't sort the original 'numbers' list\\nnumbers # let's verify\\n[4, 1, 7, 5] # good, untouched\\nnumbers.sort() # this will act on the list\\nnumbers\\n[1, 4, 5, 7]\", \"numbers = [4, 1, 7, 5]\\n[sorted(numbers)] # won't sort the original 'numbers' list\\n[numbers] # let's verify\\nnumbers.sort() # this will act on the list\\nnumbers\\n[1, 4, 5, 7]\", \"numbers = [4, 1, 7, 5]\\n[sorted(numbers)] # won't sort the original 'numbers' list\\n(numbers) # let's verify\\nnumbers.sort() # this will act on the list\\nnumbers\\n[1, 4, 5, 7]\", 'numbers = [9, 3, 7, 4]\\nprint(f\"{sorted(numbers) = }\")', 'numbers = [9, 3, 7, 4]\\nprint(f\"{sorted(numbers) = }\") # No ordena la lista original\\nprint(f\"{numbers = }\")', 'numbers = [9, 3, 7, 4]\\nprint(f\"{sorted(numbers) = }\") # No ordena la lista original\\nprint(f\"{numbers = }\")\\nprint(f\"{numbers.sort() = }\")', 'numbers = [9, 3, 7, 4]\\nprint(f\"{sorted(numbers) = }\") # No ordena la lista original\\nprint(f\"{numbers = }\")\\nnumbers.sort # Ordena la lista original\\nprint(f\"{numbers = }\")', 'numbers = [9, 3, 7, 4]\\nprint(f\"{sorted(numbers) = }\") # No ordena la lista original\\nprint(f\"{numbers = }\")\\nnumbers.sort # Ordena la lista original\\nprint(f\"{numbers = }\")', 'numbers = [9, 3, 7, 4]\\nprint(f\"{sorted(numbers) = }\") # No ordena la lista original\\nprint(f\"{numbers = }\")\\nnumbers.sort() # Ordena la lista original\\nprint(f\"{numbers = }\")', 'numbers = [9, 3, 7, 4]\\nprint(f\"{sorted(numbers) = }\") # No ordena la lista original\\nprint(f\"{numbers = }\")\\nnumbers.sort() # Ordena la lista original\\nprint(f\"{numbers.sort() = }\")', 'numbers = [9, 3, 7, 4]\\nprint(f\"{sorted(numbers) = }\") # No ordena la lista original\\nprint(f\"{numbers = }\")\\nnumbers.sort() # Ordena la lista original\\nprint(f\"{numbers = }\")', 'def factorial(n):\\n    if n in (0, 1):\\n        return 1\\n    return n * factorial(n-1)\\n\\nfactorial(5)', 'def factorial(n):\\n    if n in (0, 1):\\n        return 1\\n    return n * factorial(n-1)\\n\\nfactorial(5)\\nlist_fibonacci = []\\nlist_fibonacci.append(0)\\nprint(list_fibonacci)', 'def factorial(n):\\n    if n in (0, 1):\\n        return 1\\n    return n * factorial(n-1)\\n\\nfactorial(5)\\nlist_fibonacci = []\\nlist_fibonacci.append(0)\\nlist_fibonacci.append(1)\\nprint(list_fibonacci)', 'def fibonacci(n):\\n    list_fibonacci = []\\n    if n == 1:\\n        list_fibonacci.append(0)\\n    if n == 2:\\n        list_fibonacci.append(1)\\n    for k in range(3, n+1):\\n        list_fibonacci[k] = list_fibonacci[k-1] + list_fibonacci[k-2]\\n    return list_fibonacci', 'def fibonacci(n):\\n    list_fibonacci = []\\n    if n == 1:\\n        list_fibonacci.append(0)\\n    if n == 2:\\n        list_fibonacci.append(1)\\n    for k in range(3, n+1):\\n        list_fibonacci[k] = list_fibonacci[k-1] + list_fibonacci[k-2]\\n    return list_fibonacci\\nfibonacci(6)', 'def fibonacci(n):\\n    list_fibonacci = []\\n    if n == 1:\\n        list_fibonacci.append(0)\\n    if n == 2:\\n        list_fibonacci.append(1)\\n    for k in range(3, n+1):\\n        list_fibonacci[k] = list_fibonacci[k-1] + list_fibonacci[k-2]\\n    return list_fibonacci', 'def fibonacci(n):\\n    list_fibonacci = list()\\n    if n == 1:\\n        list_fibonacci.append(0)\\n    if n == 2:\\n        list_fibonacci.append(1)\\n    for k in range(3, n+1):\\n        list_fibonacci[k] = list_fibonacci[k-1] + list_fibonacci[k-2]\\n    return list_fibonacci', 'def fibonacci(n):\\n    list_fibonacci = list()\\n    if n == 1:\\n        list_fibonacci.append(0)\\n    if n == 2:\\n        list_fibonacci.append(1)\\n    for k in range(3, n+1):\\n        list_fibonacci[k] = list_fibonacci[k-1] + list_fibonacci[k-2]\\n    return list_fibonacci\\nfibonacci(6)', 'def fibonacci(n):\\n    list_fibonacci = list() * 6\\n    if n == 1:\\n        list_fibonacci.append(0)\\n    if n == 2:\\n        list_fibonacci.append(1)\\n    for k in range(3, n+1):\\n        list_fibonacci[k] = list_fibonacci[k-1] + list_fibonacci[k-2]\\n    return list_fibonacci\\nfibonacci(6)', 'def fibonacci(n):\\n    list_fibonacci = list() * 6\\n    if n == 1:\\n        list_fibonacci.append(0)\\n    if n == 2:\\n        list_fibonacci.append(1)\\n    for k in range(3, n+1):\\n        list_fibonacci[k] = list_fibonacci[k-1] + list_fibonacci[k-2]\\n    return list_fibonacci\\nfibonacci(6)', 'def fibonacci(n):\\n    list_fibonacci = list(0) * 6\\n    if n == 1:\\n        list_fibonacci.append(0)\\n    if n == 2:\\n        list_fibonacci.append(1)\\n    for k in range(3, n+1):\\n        list_fibonacci[k] = list_fibonacci[k-1] + list_fibonacci[k-2]\\n    return list_fibonacci\\nfibonacci(6)', 'def fibonacci(n):\\n    list_fibonacci = list(0) * 6\\n    if n == 1:\\n        list_fibonacci.append(0)\\n    if n == 2:\\n        list_fibonacci.append(1)\\n    for k in range(3, n+1):\\n        list_fibonacci[k] = list_fibonacci[k-1] + list_fibonacci[k-2]\\n    return list_fibonacci\\nfibonacci(6)', 'def fibonacci(n):\\n    list_fibonacci = list(0) * 6\\n    if n == 1:\\n        list_fibonacci.append(0)\\n    if n == 2:\\n        list_fibonacci.append(1)\\n    for k in range(3, n+1):\\n        list_fibonacci[k] = list_fibonacci[k-1] + list_fibonacci[k-2]\\n    return list_fibonacci\\nfibonacci(6)', 'def fibonacci(n):\\n    list_fibonacci = list(0) * 6\\n    if n == 1:\\n        list_fibonacci.append(0)\\n    if n == 2:\\n        list_fibonacci.append(1)\\n    for k in range(3, n+1):\\n        list_fibonacci[k] = list_fibonacci[k-1] + list_fibonacci[k-2]\\n    return list_fibonacci\\nfibonacci(6)', 'def fibonacci(n):\\n    list_fibonacci = [0] * 6\\n    if n == 1:\\n        list_fibonacci.append(0)\\n    if n == 2:\\n        list_fibonacci.append(1)\\n    for k in range(3, n+1):\\n        list_fibonacci[k] = list_fibonacci[k-1] + list_fibonacci[k-2]\\n    return list_fibonacci\\nfibonacci(6)', 'def fibonacci(n):\\n    list_fibonacci = [0] * 6\\n    if n == 1:\\n        list_fibonacci.append(0)\\n    if n == 2:\\n        list_fibonacci.append(1)\\n    for k in range(3, n+1):\\n        list_fibonacci[k] = list_fibonacci[k-1] + list_fibonacci[k-2]\\n    return list_fibonacci\\nfibonacci(6)', 'def fibonacci(n):\\n    list_fibonacci = [0] * n\\n    if n == 1:\\n        list_fibonacci.append(0)\\n    if n == 2:\\n        list_fibonacci.append(1)\\n    for k in range(3, n+1):\\n        list_fibonacci[k] = list_fibonacci[k-1] + list_fibonacci[k-2]\\n    return list_fibonacci\\nfibonacci(6)', 'def fibonacci(n):\\n    list_fibonacci = [0] * n\\n    if n == 1:\\n        list_fibonacci.append(0)\\n    if n == 2:\\n        list_fibonacci.append(1)\\n    for k in range(3, n+1):\\n        list_fibonacci[k] = list_fibonacci[k-1] + list_fibonacci[k-2]\\n    return list_fibonacci\\nfibonacci(6)', 'def fibonacci(n):\\n    list_fibonacci = [0 for _ in range(n)]\\n    if n == 1:\\n        list_fibonacci.append(0)\\n    if n == 2:\\n        list_fibonacci.append(1)\\n    for k in range(3, n+1):\\n        list_fibonacci[k] = list_fibonacci[k-1] + list_fibonacci[k-2]\\n    return list_fibonacci\\nfibonacci(6)', 'def fibonacci(n):\\n    list_fibonacci = [0 for _ in range(n)]\\n    if n == 1:\\n        list_fibonacci.append(0)\\n    if n == 2:\\n        list_fibonacci.append(1)\\n    for k in range(3, n+1):\\n        list_fibonacci[k] = list_fibonacci[k-1] + list_fibonacci[k-2]\\n    return list_fibonacci\\nfibonacci(6)', 'def fibonacci(n):\\n    list_fibonacci = [0 for _ in range(n)]\\n    if n == 1:\\n        list_fibonacci.append(0)\\n    if n == 2:\\n        list_fibonacci.append(1)\\n    for k in range(2, n):\\n        list_fibonacci[k] = list_fibonacci[k-1] + list_fibonacci[k-2]\\n    return list_fibonacci\\nfibonacci(6)', 'def fibonacci(n):\\n    list_fibonacci = [0] *6\\n    if n == 1:\\n        list_fibonacci.append(0)\\n    if n == 2:\\n        list_fibonacci.append(1)\\n    for k in range(2, n):\\n        list_fibonacci[k] = list_fibonacci[k-1] + list_fibonacci[k-2]\\n    return list_fibonacci\\nfibonacci(6)', 'def fibonacci(n):\\n    list_fibonacci = [0] * 6\\n    if n == 1:\\n        list_fibonacci.append(0)\\n        return list_fibonacci\\n    if n == 2:\\n        list_fibonacci.append(1)\\n        return list_fibonacci\\n    for k in range(2, n):\\n        list_fibonacci[k] = list_fibonacci[k-1] + list_fibonacci[k-2]\\n        return list_fibonacci\\nfibonacci(6)', 'def fibonacci(n):\\n    list_fibonacci = [0] * 6\\n    if n == 1:\\n        list_fibonacci.append(0)\\n        return list_fibonacci\\n    if n == 2:\\n        list_fibonacci.append(1)\\n        return list_fibonacci\\n    for k in range(2, n):\\n        list_fibonacci[k] = list_fibonacci[k-1] + list_fibonacci[k-2]\\n        return list_fibonacci\\nfibonacci(6)', 'def fibonacci(n):\\n    if n == 0:\\n        return []\\n    if n == 1:\\n        return [0]\\n    list_fibonacci = [0, 1]\\n    for k in range(2, n):\\n        next_valute = list_fibonacci[k-1] + list_fibonacci[k-2]\\n        return list_fibonacci.append(next_valute)\\nfibonacci(6)', 'def fibonacci(n):\\n    if n == 0:\\n        return []\\n    if n == 1:\\n        return [0]\\n    list_fibonacci = [0, 1]\\n    for k in range(2, n):\\n        next_valute = list_fibonacci[k-1] + list_fibonacci[k-2]\\n        return list_fibonacci.append(next_valute)\\nfibonacci(6)', 'def fibonacci(n):\\n    if n == 0:\\n        return []\\n    if n == 1:\\n        return [0]\\n    list_fibonacci = [0, 1]\\n    for k in range(2, n):\\n        next_valute = list_fibonacci[k-1] + list_fibonacci[k-2]\\n        list_fibonacci.append(next_valute)\\n    return list_fibonacci\\nfibonacci(6)', '# Longitud de cadena\\ndef longitud_cadena(cadena):\\n    if cadena == \"\":\\n        return 0\\n    else:\\n        return 1 + longitud_cadena[1:]\\nlongitud_cadena(\"perro\")', '# Longitud de cadena\\ndef longitud_cadena(cadena):\\n    if cadena == \"\":\\n        return 0\\n    else:\\n        return 1 + longitud_cadena(cadena[1:])\\nlongitud_cadena(\"perro\")', '# Longitud de cadena\\ndef longitud_cadena(cadena):\\n    if cadena == \"\":\\n        return 0\\n    else:\\n        return 1 + longitud_cadena(cadena[1:])\\nlongitud_cadena(\"perro\")', 'def is_multiple_of_five(n):\\n    return not n % 5', 'def is_multiple_of_five(n):\\n    return not n % 5\\nis_multiple_of_five(5)', 'def is_multiple_of_five(n):\\n    return n % 5\\nis_multiple_of_five(5)', 'def is_multiple_of_five(n):\\n    return n % 5\\n\\ndef get_multiples_of_five(n):\\n    return list(filter(is_multiple_of_five, range(n)))', 'def is_multiple_of_five(n):\\n    return n % 5\\n\\ndef get_multiples_of_five(n):\\n    return list(filter(is_multiple_of_five, range(n)))', 'def is_multiple_of_five(n):\\n    return n % 5\\n\\ndef get_multiples_of_five(n):\\n    return list(filter(is_multiple_of_five, range(n)))', 'def get_multiples_of_five(n):\\n    return list(filter(lambda k: not k % 5, range(n)))', 'def is_multiple_of_five(n):\\n    return not n % 5\\n\\ndef get_multiples_of_five(n):\\n    return list(filter(is_multiple_of_five, range(n)))', 'def is_multiple_of_five(n):\\n    return not n % 5\\n\\ndef get_multiples_of_five(n):\\n    return list(filter(is_multiple_of_five, range(n)))\\n\\nget_multiples_of_five(8)', 'def is_multiple_of_five(n):\\n    return not n % 5\\n\\ndef get_multiples_of_five(n):\\n    return list(filter(is_multiple_of_five, range(n)))\\n\\nget_multiples_of_five(6)', 'def is_multiple_of_five(n):\\n    return not n % 5\\n\\ndef get_multiples_of_five(n):\\n    return list(filter(is_multiple_of_five, range(n)))\\n\\nget_multiples_of_five(6)', 'def is_multiple_of_five(n):\\n    return not n % 5\\n\\ndef get_multiples_of_five(n):\\n    return list(filter(is_multiple_of_five, range(n)))\\n\\nget_multiples_of_five(3)', 'def is_multiple_of_five(n):\\n    return not n % 5\\n\\ndef get_multiples_of_five(n):\\n    return list(filter(is_multiple_of_five, range(n)))\\n\\nget_multiples_of_five(8)', 'def is_multiple_of_five(n):\\n    return n % 5\\n\\ndef get_multiples_of_five(n):\\n    return list(filter(is_multiple_of_five, range(n)))\\n\\nget_multiples_of_five(8)', 'def is_multiple_of_five(n):\\n    return not n % 5\\n\\ndef get_multiples_of_five(n):\\n    return list(filter(is_multiple_of_five, range(n)))\\n\\nget_multiples_of_five(8)', 'def get_multiples_of_five(n):\\n    return list(filter(lambda k: not k % 5, range(n)))\\n\\nget_multiples_of_five(8)', '# Función aderir\\ndef adder(a, b):\\n    return a + b\\n# Función aderir usando lambda\\nadder_lambda = lambda a, b: a + b\\n\\n# Función que convierte un texto a mayúscula\\ndef to_upper(s):\\n    return s.upper()\\n\\n# Función que convierte un texto a mayúscula usando lambda\\nto_upper_lambda = lambda s: s.upper()', '# Función aderir\\ndef adder(a, b):\\n    return a + b\\n# Función aderir usando lambda\\nadder_lambda = lambda a, b: a + b\\n\\n# Función que convierte un texto a mayúscula\\ndef to_upper(s):\\n    return s.upper()\\n\\n# Función que convierte un texto a mayúscula usando lambda\\nto_upper_lambda = lambda s: s.upper()\\nto_upper_lambda', '# Función aderir\\ndef adder(a, b):\\n    return a + b\\n# Función aderir usando lambda\\nadder_lambda = lambda a, b: a + b\\n\\n# Función que convierte un texto a mayúscula\\ndef to_upper(s):\\n    return s.upper()\\n\\n# Función que convierte un texto a mayúscula usando lambda\\nto_upper_lambda = lambda s: s.upper()\\nto_upper_lambda(\"perro\")', '# Función aderir\\ndef adder(a, b):\\n    return a + b\\n# Función aderir usando lambda\\nadder_lambda = lambda a, b: a + b\\n\\n# Función que convierte un texto a mayúscula\\ndef to_upper(s):\\n    return s.upper()\\n\\n# Función que convierte un texto a mayúscula usando lambda\\nto_upper_lambda = lambda s: s.upper()', 'def multiplication(a, b=1):\\n    \"\"\"Return a multiplied by b. \"\"\"\\n    return a * b\\nif __name__ == \"__main__\":\\n    special_attributes = [\\n        \"__doc__\", \"__name__\", \"__qualname__\", \"__module__\",\\n        \"__defaults__\", \"__code__\", \"__globals__\", \"__dict__\",\\n    \"__closure__\", \"__annotations__\", \"__kwdefaults__\",\\n    ]\\nfor attribute in special_attributes:\\n    print(attribute, \\'->\\', getattr(multiplication, attribute))', 'def multiplication(a, b=1):\\n    \"\"\"Return a multiplied by b. \"\"\"\\n    return a * b\\nif __name__ == \"__main__\":\\n    special_attributes = [\\n        \"__doc__\", \"__name__\", \"__qualname__\", \"__module__\",\\n        \"__defaults__\", \"__code__\", \"__globals__\", \"__dict__\",\\n    \"__closure__\", \"__annotations__\", \"__kwdefaults__\",\\n    ]\\nfor attribute in special_attributes:\\n    print(attribute, \\'->\\', getattr(multiplication, attribute))\\ndir(multiplication)', 'def multiplication(a, b=1):\\n    \"\"\"Return a multiplied by b. \"\"\"\\n    return a * b\\nif __name__ == \"__main__\":\\n    special_attributes = [\\n        \"__doc__\", \"__name__\", \"__qualname__\", \"__module__\",\\n        \"__defaults__\", \"__code__\", \"__globals__\", \"__dict__\",\\n    \"__closure__\", \"__annotations__\", \"__kwdefaults__\",\\n    ]\\nfor attribute in special_attributes:\\n    print(attribute, \\'->\\', getattr(multiplication, attribute))'], '_oh': {9: 5040, 10: 40320, 11: 10, 12: 0, 13: 24, 15: 0, 16: 0, 17: 1, 18: 120, 19: 0, 20: 40320, 30: [1, 4, 5, 7], 31: [1, 4, 5, 7], 32: [1, 4, 5, 7], 41: 120, 61: [0, 0, 0, 0, 0, 0], 62: [0, 0, 0, 0, 0, 0], 63: [0, 0, 0, 0, 0, 0], 64: [0, 0, 0, 0, 0, 0], 67: [0, 1, 1, 2, 3, 5], 69: 5, 70: 5, 72: True, 73: 0, 79: [0, 5], 80: [0, 5], 81: [0, 5], 82: [0], 83: [0, 5], 84: [1, 2, 3, 4, 6, 7], 85: [0, 5], 86: [0, 5], 88: <function <lambda> at 0x0000016CF10C9F80>, 89: 'PERRO', 92: ['__annotations__', '__builtins__', '__call__', '__class__', '__closure__', '__code__', '__defaults__', '__delattr__', '__dict__', '__dir__', '__doc__', '__eq__', '__format__', '__ge__', '__get__', '__getattribute__', '__getstate__', '__globals__', '__gt__', '__hash__', '__init__', '__init_subclass__', '__kwdefaults__', '__le__', '__lt__', '__module__', '__name__', '__ne__', '__new__', '__qualname__', '__reduce__', '__reduce_ex__', '__repr__', '__setattr__', '__sizeof__', '__str__', '__subclasshook__', '__type_params__']}, '_dh': [WindowsPath('c:/Users/rnico/Documents/Learning_Python/Clase_03_Funciones')], 'In': ['', 'def func():\\n    pass\\nfunc()', 'def func():\\n    pass\\n(func())', 'def func():\\n    pass\\nfunc()\\na = func()', 'def func():\\n    pass\\nfunc()\\na = func()\\n(a)', 'def func():\\n    pass\\nfunc()\\na = func()\\nprint(f\"{a = }\")', 'def factorial(n):\\n    if n in (0, 1):\\n        return 1\\n    result = n\\n    for k in range(2, n):\\n        result *= k\\n    return result\\nf5 = factorial(5)', 'def factorial(n):\\n    if n in (0, 1):\\n        return 1\\n    result = n\\n    for k in range(2, n):\\n        result *= k\\n    return result\\nf5 = factorial(8)\\nprint(f\"{f5 = }\")', 'from functools import reduce\\nfrom operator import mul\\nreduce(mul, range(1,8), 1)\\ndef factorial(n):\\n    return reduce(mul, range(1, n + 1), 1)\\nf5 = factorial(8)', 'from functools import reduce\\nfrom operator import mul\\nreduce(mul, range(1,8), 1)', 'from functools import reduce\\nfrom operator import mul\\nreduce(mul, range(1,8+1), 1)', 'from functools import reduce\\nfrom operator import mul\\nnumbers = [0, 1, 2, 3, 4]\\ndef my_add(a, b):\\n    result = a + b\\n    print(f\"{a} + {b} = {result}\")\\n    return result\\nreduce(my_add, numbers)', 'from functools import reduce\\nfrom operator import mul\\nnumbers = [0, 1, 2, 3, 4]\\ndef my_add(a, b):\\n    result = a + b\\n    print(f\"{a} + {b} = {result}\")\\n    return result\\nreduce(mul, numbers)', 'from functools import reduce\\nfrom operator import mul\\nnumbers = [1, 2, 3, 4]\\ndef my_add(a, b):\\n    result = a + b\\n    print(f\"{a} + {b} = {result}\")\\n    return result\\nreduce(mul, numbers)', 'from functools import reduce\\nfrom operator import mul\\ndef factorial(n):\\n    return reduce(mul, range(1, n + 1), 0)', 'from functools import reduce\\nfrom operator import mul\\ndef factorial(n):\\n    return reduce(mul, range(1, n + 1), 0)\\nfactorial(0)', 'from functools import reduce\\nfrom operator import mul\\ndef factorial(n):\\n    return reduce(mul, range(1, n + 1), 0)\\nfactorial(1)', 'from functools import reduce\\nfrom operator import mul\\ndef factorial(n):\\n    return reduce(mul, range(1, n + 1), 1)\\nfactorial(1)', 'from functools import reduce\\nfrom operator import mul\\ndef factorial(n):\\n    return reduce(mul, range(1, n + 1), 1)\\nfactorial(5)', 'from functools import reduce\\nfrom operator import mul\\ndef factorial(n):\\n    return reduce(mul, range(1, n + 1), 0)\\nfactorial(5)', 'from functools import reduce\\nfrom operator import mul\\ndef factorial(n):\\n    return reduce(mul, range(1, n + 1), 1)\\nfactorial(8)', 'from functools import reduce\\nfrom operator import mul\\ndef factorial(n):\\n    return reduce(mul, range(1, n + 1), 1)\\nf5 = factorial(8)\\nprint(f\"{f5 = }\")', 'from functools import reduce\\nfrom operator import mul\\ndef factorial(n):\\n    return reduce(mul, range(1, n + 1), 1)\\nf5 = factorial(8)\\nprint(f\"{f5 = }\")\\nhelp(reduce)', 'from functools import reduce\\nfrom operator import mul\\ndef factorial(n):\\n    return reduce(mul, range(1, n + 1))\\nf5 = factorial(8)\\nprint(f\"{f5 = }\")\\nhelp(reduce)', 'from functools import reduce\\nfrom operator import mul\\ndef factorial(n):\\n    return reduce(mul, range(1, n + 1))\\nf5 = factorial(8)\\nprint(f\"{f5 = }\")\\nhelp(reduce)', 'from functools import reduce\\nfrom operator import mul\\ndef factorial(n):\\n    return reduce(mul, range(1, n + 1))\\nf5 = factorial(0)\\nprint(f\"{f5 = }\")\\nhelp(reduce)', 'from functools import reduce\\nfrom operator import mul\\ndef factorial(n):\\n    return reduce(mul, range(1, n + 1), 1)\\nf5 = factorial(8)\\nprint(f\"{f5 = }\")\\nhelp(reduce)', 'def moddiv(a, b):\\n    return a // b, a % b\\nprint(f\"{moddiv(20, 7) = }\")', 'def moddiv(a, b):\\n    return (a // b, a % b) # o también: (a // b, a % b)\\nprint(f\"{moddiv(20, 7) = }\")', 'def moddiv(a, b):\\n    return (a // b, a % b) # o también: (a // b, a % b)\\nprint(f\"{moddiv(20, 7) = }\")', \"numbers = [4, 1, 7, 5]\\n[sorted(numbers)] # won't sort the original 'numbers' list\\nnumbers # let's verify\\n[4, 1, 7, 5] # good, untouched\\nnumbers.sort() # this will act on the list\\nnumbers\\n[1, 4, 5, 7]\", \"numbers = [4, 1, 7, 5]\\n[sorted(numbers)] # won't sort the original 'numbers' list\\n[numbers] # let's verify\\nnumbers.sort() # this will act on the list\\nnumbers\\n[1, 4, 5, 7]\", \"numbers = [4, 1, 7, 5]\\n[sorted(numbers)] # won't sort the original 'numbers' list\\n(numbers) # let's verify\\nnumbers.sort() # this will act on the list\\nnumbers\\n[1, 4, 5, 7]\", 'numbers = [9, 3, 7, 4]\\nprint(f\"{sorted(numbers) = }\")', 'numbers = [9, 3, 7, 4]\\nprint(f\"{sorted(numbers) = }\") # No ordena la lista original\\nprint(f\"{numbers = }\")', 'numbers = [9, 3, 7, 4]\\nprint(f\"{sorted(numbers) = }\") # No ordena la lista original\\nprint(f\"{numbers = }\")\\nprint(f\"{numbers.sort() = }\")', 'numbers = [9, 3, 7, 4]\\nprint(f\"{sorted(numbers) = }\") # No ordena la lista original\\nprint(f\"{numbers = }\")\\nnumbers.sort # Ordena la lista original\\nprint(f\"{numbers = }\")', 'numbers = [9, 3, 7, 4]\\nprint(f\"{sorted(numbers) = }\") # No ordena la lista original\\nprint(f\"{numbers = }\")\\nnumbers.sort # Ordena la lista original\\nprint(f\"{numbers = }\")', 'numbers = [9, 3, 7, 4]\\nprint(f\"{sorted(numbers) = }\") # No ordena la lista original\\nprint(f\"{numbers = }\")\\nnumbers.sort() # Ordena la lista original\\nprint(f\"{numbers = }\")', 'numbers = [9, 3, 7, 4]\\nprint(f\"{sorted(numbers) = }\") # No ordena la lista original\\nprint(f\"{numbers = }\")\\nnumbers.sort() # Ordena la lista original\\nprint(f\"{numbers.sort() = }\")', 'numbers = [9, 3, 7, 4]\\nprint(f\"{sorted(numbers) = }\") # No ordena la lista original\\nprint(f\"{numbers = }\")\\nnumbers.sort() # Ordena la lista original\\nprint(f\"{numbers = }\")', 'def factorial(n):\\n    if n in (0, 1):\\n        return 1\\n    return n * factorial(n-1)\\n\\nfactorial(5)', 'def factorial(n):\\n    if n in (0, 1):\\n        return 1\\n    return n * factorial(n-1)\\n\\nfactorial(5)\\nlist_fibonacci = []\\nlist_fibonacci.append(0)\\nprint(list_fibonacci)', 'def factorial(n):\\n    if n in (0, 1):\\n        return 1\\n    return n * factorial(n-1)\\n\\nfactorial(5)\\nlist_fibonacci = []\\nlist_fibonacci.append(0)\\nlist_fibonacci.append(1)\\nprint(list_fibonacci)', 'def fibonacci(n):\\n    list_fibonacci = []\\n    if n == 1:\\n        list_fibonacci.append(0)\\n    if n == 2:\\n        list_fibonacci.append(1)\\n    for k in range(3, n+1):\\n        list_fibonacci[k] = list_fibonacci[k-1] + list_fibonacci[k-2]\\n    return list_fibonacci', 'def fibonacci(n):\\n    list_fibonacci = []\\n    if n == 1:\\n        list_fibonacci.append(0)\\n    if n == 2:\\n        list_fibonacci.append(1)\\n    for k in range(3, n+1):\\n        list_fibonacci[k] = list_fibonacci[k-1] + list_fibonacci[k-2]\\n    return list_fibonacci\\nfibonacci(6)', 'def fibonacci(n):\\n    list_fibonacci = []\\n    if n == 1:\\n        list_fibonacci.append(0)\\n    if n == 2:\\n        list_fibonacci.append(1)\\n    for k in range(3, n+1):\\n        list_fibonacci[k] = list_fibonacci[k-1] + list_fibonacci[k-2]\\n    return list_fibonacci', 'def fibonacci(n):\\n    list_fibonacci = list()\\n    if n == 1:\\n        list_fibonacci.append(0)\\n    if n == 2:\\n        list_fibonacci.append(1)\\n    for k in range(3, n+1):\\n        list_fibonacci[k] = list_fibonacci[k-1] + list_fibonacci[k-2]\\n    return list_fibonacci', 'def fibonacci(n):\\n    list_fibonacci = list()\\n    if n == 1:\\n        list_fibonacci.append(0)\\n    if n == 2:\\n        list_fibonacci.append(1)\\n    for k in range(3, n+1):\\n        list_fibonacci[k] = list_fibonacci[k-1] + list_fibonacci[k-2]\\n    return list_fibonacci\\nfibonacci(6)', 'def fibonacci(n):\\n    list_fibonacci = list() * 6\\n    if n == 1:\\n        list_fibonacci.append(0)\\n    if n == 2:\\n        list_fibonacci.append(1)\\n    for k in range(3, n+1):\\n        list_fibonacci[k] = list_fibonacci[k-1] + list_fibonacci[k-2]\\n    return list_fibonacci\\nfibonacci(6)', 'def fibonacci(n):\\n    list_fibonacci = list() * 6\\n    if n == 1:\\n        list_fibonacci.append(0)\\n    if n == 2:\\n        list_fibonacci.append(1)\\n    for k in range(3, n+1):\\n        list_fibonacci[k] = list_fibonacci[k-1] + list_fibonacci[k-2]\\n    return list_fibonacci\\nfibonacci(6)', 'def fibonacci(n):\\n    list_fibonacci = list(0) * 6\\n    if n == 1:\\n        list_fibonacci.append(0)\\n    if n == 2:\\n        list_fibonacci.append(1)\\n    for k in range(3, n+1):\\n        list_fibonacci[k] = list_fibonacci[k-1] + list_fibonacci[k-2]\\n    return list_fibonacci\\nfibonacci(6)', 'def fibonacci(n):\\n    list_fibonacci = list(0) * 6\\n    if n == 1:\\n        list_fibonacci.append(0)\\n    if n == 2:\\n        list_fibonacci.append(1)\\n    for k in range(3, n+1):\\n        list_fibonacci[k] = list_fibonacci[k-1] + list_fibonacci[k-2]\\n    return list_fibonacci\\nfibonacci(6)', 'def fibonacci(n):\\n    list_fibonacci = list(0) * 6\\n    if n == 1:\\n        list_fibonacci.append(0)\\n    if n == 2:\\n        list_fibonacci.append(1)\\n    for k in range(3, n+1):\\n        list_fibonacci[k] = list_fibonacci[k-1] + list_fibonacci[k-2]\\n    return list_fibonacci\\nfibonacci(6)', 'def fibonacci(n):\\n    list_fibonacci = list(0) * 6\\n    if n == 1:\\n        list_fibonacci.append(0)\\n    if n == 2:\\n        list_fibonacci.append(1)\\n    for k in range(3, n+1):\\n        list_fibonacci[k] = list_fibonacci[k-1] + list_fibonacci[k-2]\\n    return list_fibonacci\\nfibonacci(6)', 'def fibonacci(n):\\n    list_fibonacci = [0] * 6\\n    if n == 1:\\n        list_fibonacci.append(0)\\n    if n == 2:\\n        list_fibonacci.append(1)\\n    for k in range(3, n+1):\\n        list_fibonacci[k] = list_fibonacci[k-1] + list_fibonacci[k-2]\\n    return list_fibonacci\\nfibonacci(6)', 'def fibonacci(n):\\n    list_fibonacci = [0] * 6\\n    if n == 1:\\n        list_fibonacci.append(0)\\n    if n == 2:\\n        list_fibonacci.append(1)\\n    for k in range(3, n+1):\\n        list_fibonacci[k] = list_fibonacci[k-1] + list_fibonacci[k-2]\\n    return list_fibonacci\\nfibonacci(6)', 'def fibonacci(n):\\n    list_fibonacci = [0] * n\\n    if n == 1:\\n        list_fibonacci.append(0)\\n    if n == 2:\\n        list_fibonacci.append(1)\\n    for k in range(3, n+1):\\n        list_fibonacci[k] = list_fibonacci[k-1] + list_fibonacci[k-2]\\n    return list_fibonacci\\nfibonacci(6)', 'def fibonacci(n):\\n    list_fibonacci = [0] * n\\n    if n == 1:\\n        list_fibonacci.append(0)\\n    if n == 2:\\n        list_fibonacci.append(1)\\n    for k in range(3, n+1):\\n        list_fibonacci[k] = list_fibonacci[k-1] + list_fibonacci[k-2]\\n    return list_fibonacci\\nfibonacci(6)', 'def fibonacci(n):\\n    list_fibonacci = [0 for _ in range(n)]\\n    if n == 1:\\n        list_fibonacci.append(0)\\n    if n == 2:\\n        list_fibonacci.append(1)\\n    for k in range(3, n+1):\\n        list_fibonacci[k] = list_fibonacci[k-1] + list_fibonacci[k-2]\\n    return list_fibonacci\\nfibonacci(6)', 'def fibonacci(n):\\n    list_fibonacci = [0 for _ in range(n)]\\n    if n == 1:\\n        list_fibonacci.append(0)\\n    if n == 2:\\n        list_fibonacci.append(1)\\n    for k in range(3, n+1):\\n        list_fibonacci[k] = list_fibonacci[k-1] + list_fibonacci[k-2]\\n    return list_fibonacci\\nfibonacci(6)', 'def fibonacci(n):\\n    list_fibonacci = [0 for _ in range(n)]\\n    if n == 1:\\n        list_fibonacci.append(0)\\n    if n == 2:\\n        list_fibonacci.append(1)\\n    for k in range(2, n):\\n        list_fibonacci[k] = list_fibonacci[k-1] + list_fibonacci[k-2]\\n    return list_fibonacci\\nfibonacci(6)', 'def fibonacci(n):\\n    list_fibonacci = [0] *6\\n    if n == 1:\\n        list_fibonacci.append(0)\\n    if n == 2:\\n        list_fibonacci.append(1)\\n    for k in range(2, n):\\n        list_fibonacci[k] = list_fibonacci[k-1] + list_fibonacci[k-2]\\n    return list_fibonacci\\nfibonacci(6)', 'def fibonacci(n):\\n    list_fibonacci = [0] * 6\\n    if n == 1:\\n        list_fibonacci.append(0)\\n        return list_fibonacci\\n    if n == 2:\\n        list_fibonacci.append(1)\\n        return list_fibonacci\\n    for k in range(2, n):\\n        list_fibonacci[k] = list_fibonacci[k-1] + list_fibonacci[k-2]\\n        return list_fibonacci\\nfibonacci(6)', 'def fibonacci(n):\\n    list_fibonacci = [0] * 6\\n    if n == 1:\\n        list_fibonacci.append(0)\\n        return list_fibonacci\\n    if n == 2:\\n        list_fibonacci.append(1)\\n        return list_fibonacci\\n    for k in range(2, n):\\n        list_fibonacci[k] = list_fibonacci[k-1] + list_fibonacci[k-2]\\n        return list_fibonacci\\nfibonacci(6)', 'def fibonacci(n):\\n    if n == 0:\\n        return []\\n    if n == 1:\\n        return [0]\\n    list_fibonacci = [0, 1]\\n    for k in range(2, n):\\n        next_valute = list_fibonacci[k-1] + list_fibonacci[k-2]\\n        return list_fibonacci.append(next_valute)\\nfibonacci(6)', 'def fibonacci(n):\\n    if n == 0:\\n        return []\\n    if n == 1:\\n        return [0]\\n    list_fibonacci = [0, 1]\\n    for k in range(2, n):\\n        next_valute = list_fibonacci[k-1] + list_fibonacci[k-2]\\n        return list_fibonacci.append(next_valute)\\nfibonacci(6)', 'def fibonacci(n):\\n    if n == 0:\\n        return []\\n    if n == 1:\\n        return [0]\\n    list_fibonacci = [0, 1]\\n    for k in range(2, n):\\n        next_valute = list_fibonacci[k-1] + list_fibonacci[k-2]\\n        list_fibonacci.append(next_valute)\\n    return list_fibonacci\\nfibonacci(6)', '# Longitud de cadena\\ndef longitud_cadena(cadena):\\n    if cadena == \"\":\\n        return 0\\n    else:\\n        return 1 + longitud_cadena[1:]\\nlongitud_cadena(\"perro\")', '# Longitud de cadena\\ndef longitud_cadena(cadena):\\n    if cadena == \"\":\\n        return 0\\n    else:\\n        return 1 + longitud_cadena(cadena[1:])\\nlongitud_cadena(\"perro\")', '# Longitud de cadena\\ndef longitud_cadena(cadena):\\n    if cadena == \"\":\\n        return 0\\n    else:\\n        return 1 + longitud_cadena(cadena[1:])\\nlongitud_cadena(\"perro\")', 'def is_multiple_of_five(n):\\n    return not n % 5', 'def is_multiple_of_five(n):\\n    return not n % 5\\nis_multiple_of_five(5)', 'def is_multiple_of_five(n):\\n    return n % 5\\nis_multiple_of_five(5)', 'def is_multiple_of_five(n):\\n    return n % 5\\n\\ndef get_multiples_of_five(n):\\n    return list(filter(is_multiple_of_five, range(n)))', 'def is_multiple_of_five(n):\\n    return n % 5\\n\\ndef get_multiples_of_five(n):\\n    return list(filter(is_multiple_of_five, range(n)))', 'def is_multiple_of_five(n):\\n    return n % 5\\n\\ndef get_multiples_of_five(n):\\n    return list(filter(is_multiple_of_five, range(n)))', 'def get_multiples_of_five(n):\\n    return list(filter(lambda k: not k % 5, range(n)))', 'def is_multiple_of_five(n):\\n    return not n % 5\\n\\ndef get_multiples_of_five(n):\\n    return list(filter(is_multiple_of_five, range(n)))', 'def is_multiple_of_five(n):\\n    return not n % 5\\n\\ndef get_multiples_of_five(n):\\n    return list(filter(is_multiple_of_five, range(n)))\\n\\nget_multiples_of_five(8)', 'def is_multiple_of_five(n):\\n    return not n % 5\\n\\ndef get_multiples_of_five(n):\\n    return list(filter(is_multiple_of_five, range(n)))\\n\\nget_multiples_of_five(6)', 'def is_multiple_of_five(n):\\n    return not n % 5\\n\\ndef get_multiples_of_five(n):\\n    return list(filter(is_multiple_of_five, range(n)))\\n\\nget_multiples_of_five(6)', 'def is_multiple_of_five(n):\\n    return not n % 5\\n\\ndef get_multiples_of_five(n):\\n    return list(filter(is_multiple_of_five, range(n)))\\n\\nget_multiples_of_five(3)', 'def is_multiple_of_five(n):\\n    return not n % 5\\n\\ndef get_multiples_of_five(n):\\n    return list(filter(is_multiple_of_five, range(n)))\\n\\nget_multiples_of_five(8)', 'def is_multiple_of_five(n):\\n    return n % 5\\n\\ndef get_multiples_of_five(n):\\n    return list(filter(is_multiple_of_five, range(n)))\\n\\nget_multiples_of_five(8)', 'def is_multiple_of_five(n):\\n    return not n % 5\\n\\ndef get_multiples_of_five(n):\\n    return list(filter(is_multiple_of_five, range(n)))\\n\\nget_multiples_of_five(8)', 'def get_multiples_of_five(n):\\n    return list(filter(lambda k: not k % 5, range(n)))\\n\\nget_multiples_of_five(8)', '# Función aderir\\ndef adder(a, b):\\n    return a + b\\n# Función aderir usando lambda\\nadder_lambda = lambda a, b: a + b\\n\\n# Función que convierte un texto a mayúscula\\ndef to_upper(s):\\n    return s.upper()\\n\\n# Función que convierte un texto a mayúscula usando lambda\\nto_upper_lambda = lambda s: s.upper()', '# Función aderir\\ndef adder(a, b):\\n    return a + b\\n# Función aderir usando lambda\\nadder_lambda = lambda a, b: a + b\\n\\n# Función que convierte un texto a mayúscula\\ndef to_upper(s):\\n    return s.upper()\\n\\n# Función que convierte un texto a mayúscula usando lambda\\nto_upper_lambda = lambda s: s.upper()\\nto_upper_lambda', '# Función aderir\\ndef adder(a, b):\\n    return a + b\\n# Función aderir usando lambda\\nadder_lambda = lambda a, b: a + b\\n\\n# Función que convierte un texto a mayúscula\\ndef to_upper(s):\\n    return s.upper()\\n\\n# Función que convierte un texto a mayúscula usando lambda\\nto_upper_lambda = lambda s: s.upper()\\nto_upper_lambda(\"perro\")', '# Función aderir\\ndef adder(a, b):\\n    return a + b\\n# Función aderir usando lambda\\nadder_lambda = lambda a, b: a + b\\n\\n# Función que convierte un texto a mayúscula\\ndef to_upper(s):\\n    return s.upper()\\n\\n# Función que convierte un texto a mayúscula usando lambda\\nto_upper_lambda = lambda s: s.upper()', 'def multiplication(a, b=1):\\n    \"\"\"Return a multiplied by b. \"\"\"\\n    return a * b\\nif __name__ == \"__main__\":\\n    special_attributes = [\\n        \"__doc__\", \"__name__\", \"__qualname__\", \"__module__\",\\n        \"__defaults__\", \"__code__\", \"__globals__\", \"__dict__\",\\n    \"__closure__\", \"__annotations__\", \"__kwdefaults__\",\\n    ]\\nfor attribute in special_attributes:\\n    print(attribute, \\'->\\', getattr(multiplication, attribute))', 'def multiplication(a, b=1):\\n    \"\"\"Return a multiplied by b. \"\"\"\\n    return a * b\\nif __name__ == \"__main__\":\\n    special_attributes = [\\n        \"__doc__\", \"__name__\", \"__qualname__\", \"__module__\",\\n        \"__defaults__\", \"__code__\", \"__globals__\", \"__dict__\",\\n    \"__closure__\", \"__annotations__\", \"__kwdefaults__\",\\n    ]\\nfor attribute in special_attributes:\\n    print(attribute, \\'->\\', getattr(multiplication, attribute))\\ndir(multiplication)', 'def multiplication(a, b=1):\\n    \"\"\"Return a multiplied by b. \"\"\"\\n    return a * b\\nif __name__ == \"__main__\":\\n    special_attributes = [\\n        \"__doc__\", \"__name__\", \"__qualname__\", \"__module__\",\\n        \"__defaults__\", \"__code__\", \"__globals__\", \"__dict__\",\\n    \"__closure__\", \"__annotations__\", \"__kwdefaults__\",\\n    ]\\nfor attribute in special_attributes:\\n    print(attribute, \\'->\\', getattr(multiplication, attribute))'], 'Out': {9: 5040, 10: 40320, 11: 10, 12: 0, 13: 24, 15: 0, 16: 0, 17: 1, 18: 120, 19: 0, 20: 40320, 30: [1, 4, 5, 7], 31: [1, 4, 5, 7], 32: [1, 4, 5, 7], 41: 120, 61: [0, 0, 0, 0, 0, 0], 62: [0, 0, 0, 0, 0, 0], 63: [0, 0, 0, 0, 0, 0], 64: [0, 0, 0, 0, 0, 0], 67: [0, 1, 1, 2, 3, 5], 69: 5, 70: 5, 72: True, 73: 0, 79: [0, 5], 80: [0, 5], 81: [0, 5], 82: [0], 83: [0, 5], 84: [1, 2, 3, 4, 6, 7], 85: [0, 5], 86: [0, 5], 88: <function <lambda> at 0x0000016CF10C9F80>, 89: 'PERRO', 92: ['__annotations__', '__builtins__', '__call__', '__class__', '__closure__', '__code__', '__defaults__', '__delattr__', '__dict__', '__dir__', '__doc__', '__eq__', '__format__', '__ge__', '__get__', '__getattribute__', '__getstate__', '__globals__', '__gt__', '__hash__', '__init__', '__init_subclass__', '__kwdefaults__', '__le__', '__lt__', '__module__', '__name__', '__ne__', '__new__', '__qualname__', '__reduce__', '__reduce_ex__', '__repr__', '__setattr__', '__sizeof__', '__str__', '__subclasshook__', '__type_params__']}, 'get_ipython': <bound method InteractiveShell.get_ipython of <ipykernel.zmqshell.ZMQInteractiveShell object at 0x0000016CF0847AA0>>, 'exit': <IPython.core.autocall.ZMQExitAutocall object at 0x0000016CF089DDF0>, 'quit': <IPython.core.autocall.ZMQExitAutocall object at 0x0000016CF089DDF0>, 'open': <function open at 0x0000016CEE723CE0>, '_': ['__annotations__', '__builtins__', '__call__', '__class__', '__closure__', '__code__', '__defaults__', '__delattr__', '__dict__', '__dir__', '__doc__', '__eq__', '__format__', '__ge__', '__get__', '__getattribute__', '__getstate__', '__globals__', '__gt__', '__hash__', '__init__', '__init_subclass__', '__kwdefaults__', '__le__', '__lt__', '__module__', '__name__', '__ne__', '__new__', '__qualname__', '__reduce__', '__reduce_ex__', '__repr__', '__setattr__', '__sizeof__', '__str__', '__subclasshook__', '__type_params__'], '__': 'PERRO', '___': <function <lambda> at 0x0000016CF10C9F80>, '__vsc_ipynb_file__': 'c:\\\\Users\\\\rnico\\\\Documents\\\\Learning_Python\\\\Clase_03_Funciones\\\\Sesion_03.ipynb', '_i': 'def multiplication(a, b=1):\\n    \"\"\"Return a multiplied by b. \"\"\"\\n    return a * b\\nif __name__ == \"__main__\":\\n    special_attributes = [\\n        \"__doc__\", \"__name__\", \"__qualname__\", \"__module__\",\\n        \"__defaults__\", \"__code__\", \"__globals__\", \"__dict__\",\\n    \"__closure__\", \"__annotations__\", \"__kwdefaults__\",\\n    ]\\nfor attribute in special_attributes:\\n    print(attribute, \\'->\\', getattr(multiplication, attribute))\\ndir(multiplication)', '_ii': 'def multiplication(a, b=1):\\n    \"\"\"Return a multiplied by b. \"\"\"\\n    return a * b\\nif __name__ == \"__main__\":\\n    special_attributes = [\\n        \"__doc__\", \"__name__\", \"__qualname__\", \"__module__\",\\n        \"__defaults__\", \"__code__\", \"__globals__\", \"__dict__\",\\n    \"__closure__\", \"__annotations__\", \"__kwdefaults__\",\\n    ]\\nfor attribute in special_attributes:\\n    print(attribute, \\'->\\', getattr(multiplication, attribute))', '_iii': '# Función aderir\\ndef adder(a, b):\\n    return a + b\\n# Función aderir usando lambda\\nadder_lambda = lambda a, b: a + b\\n\\n# Función que convierte un texto a mayúscula\\ndef to_upper(s):\\n    return s.upper()\\n\\n# Función que convierte un texto a mayúscula usando lambda\\nto_upper_lambda = lambda s: s.upper()', '_i1': 'def func():\\n    pass\\nfunc()', 'func': <function func at 0x0000016CF08ECE00>, '_i2': 'def func():\\n    pass\\n(func())', '_i3': 'def func():\\n    pass\\nfunc()\\na = func()', 'a': None, '_i4': 'def func():\\n    pass\\nfunc()\\na = func()\\n(a)', '_i5': 'def func():\\n    pass\\nfunc()\\na = func()\\nprint(f\"{a = }\")', '_i6': 'def factorial(n):\\n    if n in (0, 1):\\n        return 1\\n    result = n\\n    for k in range(2, n):\\n        result *= k\\n    return result\\nf5 = factorial(5)', 'factorial': <function factorial at 0x0000016CF0F24CC0>, 'f5': 40320, '_i7': 'def factorial(n):\\n    if n in (0, 1):\\n        return 1\\n    result = n\\n    for k in range(2, n):\\n        result *= k\\n    return result\\nf5 = factorial(8)\\nprint(f\"{f5 = }\")', '_i8': 'from functools import reduce\\nfrom operator import mul\\nreduce(mul, range(1,8), 1)\\ndef factorial(n):\\n    return reduce(mul, range(1, n + 1), 1)\\nf5 = factorial(8)', 'reduce': <built-in function reduce>, 'mul': <built-in function mul>, '_i9': 'from functools import reduce\\nfrom operator import mul\\nreduce(mul, range(1,8), 1)', '_9': 5040, '_i10': 'from functools import reduce\\nfrom operator import mul\\nreduce(mul, range(1,8+1), 1)', '_10': 40320, '_i11': 'from functools import reduce\\nfrom operator import mul\\nnumbers = [0, 1, 2, 3, 4]\\ndef my_add(a, b):\\n    result = a + b\\n    print(f\"{a} + {b} = {result}\")\\n    return result\\nreduce(my_add, numbers)', 'numbers': [3, 4, 7, 9], 'my_add': <function my_add at 0x0000016CF0998680>, '_11': 10, '_i12': 'from functools import reduce\\nfrom operator import mul\\nnumbers = [0, 1, 2, 3, 4]\\ndef my_add(a, b):\\n    result = a + b\\n    print(f\"{a} + {b} = {result}\")\\n    return result\\nreduce(mul, numbers)', '_12': 0, '_i13': 'from functools import reduce\\nfrom operator import mul\\nnumbers = [1, 2, 3, 4]\\ndef my_add(a, b):\\n    result = a + b\\n    print(f\"{a} + {b} = {result}\")\\n    return result\\nreduce(mul, numbers)', '_13': 24, '_i14': 'from functools import reduce\\nfrom operator import mul\\ndef factorial(n):\\n    return reduce(mul, range(1, n + 1), 0)', '_i15': 'from functools import reduce\\nfrom operator import mul\\ndef factorial(n):\\n    return reduce(mul, range(1, n + 1), 0)\\nfactorial(0)', '_15': 0, '_i16': 'from functools import reduce\\nfrom operator import mul\\ndef factorial(n):\\n    return reduce(mul, range(1, n + 1), 0)\\nfactorial(1)', '_16': 0, '_i17': 'from functools import reduce\\nfrom operator import mul\\ndef factorial(n):\\n    return reduce(mul, range(1, n + 1), 1)\\nfactorial(1)', '_17': 1, '_i18': 'from functools import reduce\\nfrom operator import mul\\ndef factorial(n):\\n    return reduce(mul, range(1, n + 1), 1)\\nfactorial(5)', '_18': 120, '_i19': 'from functools import reduce\\nfrom operator import mul\\ndef factorial(n):\\n    return reduce(mul, range(1, n + 1), 0)\\nfactorial(5)', '_19': 0, '_i20': 'from functools import reduce\\nfrom operator import mul\\ndef factorial(n):\\n    return reduce(mul, range(1, n + 1), 1)\\nfactorial(8)', '_20': 40320, '_i21': 'from functools import reduce\\nfrom operator import mul\\ndef factorial(n):\\n    return reduce(mul, range(1, n + 1), 1)\\nf5 = factorial(8)\\nprint(f\"{f5 = }\")', '_i22': 'from functools import reduce\\nfrom operator import mul\\ndef factorial(n):\\n    return reduce(mul, range(1, n + 1), 1)\\nf5 = factorial(8)\\nprint(f\"{f5 = }\")\\nhelp(reduce)', '_i23': 'from functools import reduce\\nfrom operator import mul\\ndef factorial(n):\\n    return reduce(mul, range(1, n + 1))\\nf5 = factorial(8)\\nprint(f\"{f5 = }\")\\nhelp(reduce)', '_i24': 'from functools import reduce\\nfrom operator import mul\\ndef factorial(n):\\n    return reduce(mul, range(1, n + 1))\\nf5 = factorial(8)\\nprint(f\"{f5 = }\")\\nhelp(reduce)', '_i25': 'from functools import reduce\\nfrom operator import mul\\ndef factorial(n):\\n    return reduce(mul, range(1, n + 1))\\nf5 = factorial(0)\\nprint(f\"{f5 = }\")\\nhelp(reduce)', '_i26': 'from functools import reduce\\nfrom operator import mul\\ndef factorial(n):\\n    return reduce(mul, range(1, n + 1), 1)\\nf5 = factorial(8)\\nprint(f\"{f5 = }\")\\nhelp(reduce)', '_i27': 'def moddiv(a, b):\\n    return a // b, a % b\\nprint(f\"{moddiv(20, 7) = }\")', 'moddiv': <function moddiv at 0x0000016CF09F3CE0>, '_i28': 'def moddiv(a, b):\\n    return (a // b, a % b) # o también: (a // b, a % b)\\nprint(f\"{moddiv(20, 7) = }\")', '_i29': 'def moddiv(a, b):\\n    return (a // b, a % b) # o también: (a // b, a % b)\\nprint(f\"{moddiv(20, 7) = }\")', '_i30': \"numbers = [4, 1, 7, 5]\\n[sorted(numbers)] # won't sort the original 'numbers' list\\nnumbers # let's verify\\n[4, 1, 7, 5] # good, untouched\\nnumbers.sort() # this will act on the list\\nnumbers\\n[1, 4, 5, 7]\", '_30': [1, 4, 5, 7], '_i31': \"numbers = [4, 1, 7, 5]\\n[sorted(numbers)] # won't sort the original 'numbers' list\\n[numbers] # let's verify\\nnumbers.sort() # this will act on the list\\nnumbers\\n[1, 4, 5, 7]\", '_31': [1, 4, 5, 7], '_i32': \"numbers = [4, 1, 7, 5]\\n[sorted(numbers)] # won't sort the original 'numbers' list\\n(numbers) # let's verify\\nnumbers.sort() # this will act on the list\\nnumbers\\n[1, 4, 5, 7]\", '_32': [1, 4, 5, 7], '_i33': 'numbers = [9, 3, 7, 4]\\nprint(f\"{sorted(numbers) = }\")', '_i34': 'numbers = [9, 3, 7, 4]\\nprint(f\"{sorted(numbers) = }\") # No ordena la lista original\\nprint(f\"{numbers = }\")', '_i35': 'numbers = [9, 3, 7, 4]\\nprint(f\"{sorted(numbers) = }\") # No ordena la lista original\\nprint(f\"{numbers = }\")\\nprint(f\"{numbers.sort() = }\")', '_i36': 'numbers = [9, 3, 7, 4]\\nprint(f\"{sorted(numbers) = }\") # No ordena la lista original\\nprint(f\"{numbers = }\")\\nnumbers.sort # Ordena la lista original\\nprint(f\"{numbers = }\")', '_i37': 'numbers = [9, 3, 7, 4]\\nprint(f\"{sorted(numbers) = }\") # No ordena la lista original\\nprint(f\"{numbers = }\")\\nnumbers.sort # Ordena la lista original\\nprint(f\"{numbers = }\")', '_i38': 'numbers = [9, 3, 7, 4]\\nprint(f\"{sorted(numbers) = }\") # No ordena la lista original\\nprint(f\"{numbers = }\")\\nnumbers.sort() # Ordena la lista original\\nprint(f\"{numbers = }\")', '_i39': 'numbers = [9, 3, 7, 4]\\nprint(f\"{sorted(numbers) = }\") # No ordena la lista original\\nprint(f\"{numbers = }\")\\nnumbers.sort() # Ordena la lista original\\nprint(f\"{numbers.sort() = }\")', '_i40': 'numbers = [9, 3, 7, 4]\\nprint(f\"{sorted(numbers) = }\") # No ordena la lista original\\nprint(f\"{numbers = }\")\\nnumbers.sort() # Ordena la lista original\\nprint(f\"{numbers = }\")', '_i41': 'def factorial(n):\\n    if n in (0, 1):\\n        return 1\\n    return n * factorial(n-1)\\n\\nfactorial(5)', '_41': 120, '_i42': 'def factorial(n):\\n    if n in (0, 1):\\n        return 1\\n    return n * factorial(n-1)\\n\\nfactorial(5)\\nlist_fibonacci = []\\nlist_fibonacci.append(0)\\nprint(list_fibonacci)', 'list_fibonacci': [0, 1], '_i43': 'def factorial(n):\\n    if n in (0, 1):\\n        return 1\\n    return n * factorial(n-1)\\n\\nfactorial(5)\\nlist_fibonacci = []\\nlist_fibonacci.append(0)\\nlist_fibonacci.append(1)\\nprint(list_fibonacci)', '_i44': 'def fibonacci(n):\\n    list_fibonacci = []\\n    if n == 1:\\n        list_fibonacci.append(0)\\n    if n == 2:\\n        list_fibonacci.append(1)\\n    for k in range(3, n+1):\\n        list_fibonacci[k] = list_fibonacci[k-1] + list_fibonacci[k-2]\\n    return list_fibonacci', 'fibonacci': <function fibonacci at 0x0000016CF113D940>, '_i45': 'def fibonacci(n):\\n    list_fibonacci = []\\n    if n == 1:\\n        list_fibonacci.append(0)\\n    if n == 2:\\n        list_fibonacci.append(1)\\n    for k in range(3, n+1):\\n        list_fibonacci[k] = list_fibonacci[k-1] + list_fibonacci[k-2]\\n    return list_fibonacci\\nfibonacci(6)', '_i46': 'def fibonacci(n):\\n    list_fibonacci = []\\n    if n == 1:\\n        list_fibonacci.append(0)\\n    if n == 2:\\n        list_fibonacci.append(1)\\n    for k in range(3, n+1):\\n        list_fibonacci[k] = list_fibonacci[k-1] + list_fibonacci[k-2]\\n    return list_fibonacci', '_i47': 'def fibonacci(n):\\n    list_fibonacci = list()\\n    if n == 1:\\n        list_fibonacci.append(0)\\n    if n == 2:\\n        list_fibonacci.append(1)\\n    for k in range(3, n+1):\\n        list_fibonacci[k] = list_fibonacci[k-1] + list_fibonacci[k-2]\\n    return list_fibonacci', '_i48': 'def fibonacci(n):\\n    list_fibonacci = list()\\n    if n == 1:\\n        list_fibonacci.append(0)\\n    if n == 2:\\n        list_fibonacci.append(1)\\n    for k in range(3, n+1):\\n        list_fibonacci[k] = list_fibonacci[k-1] + list_fibonacci[k-2]\\n    return list_fibonacci\\nfibonacci(6)', '_i49': 'def fibonacci(n):\\n    list_fibonacci = list() * 6\\n    if n == 1:\\n        list_fibonacci.append(0)\\n    if n == 2:\\n        list_fibonacci.append(1)\\n    for k in range(3, n+1):\\n        list_fibonacci[k] = list_fibonacci[k-1] + list_fibonacci[k-2]\\n    return list_fibonacci\\nfibonacci(6)', '_i50': 'def fibonacci(n):\\n    list_fibonacci = list() * 6\\n    if n == 1:\\n        list_fibonacci.append(0)\\n    if n == 2:\\n        list_fibonacci.append(1)\\n    for k in range(3, n+1):\\n        list_fibonacci[k] = list_fibonacci[k-1] + list_fibonacci[k-2]\\n    return list_fibonacci\\nfibonacci(6)', '_i51': 'def fibonacci(n):\\n    list_fibonacci = list(0) * 6\\n    if n == 1:\\n        list_fibonacci.append(0)\\n    if n == 2:\\n        list_fibonacci.append(1)\\n    for k in range(3, n+1):\\n        list_fibonacci[k] = list_fibonacci[k-1] + list_fibonacci[k-2]\\n    return list_fibonacci\\nfibonacci(6)', '_i52': 'def fibonacci(n):\\n    list_fibonacci = list(0) * 6\\n    if n == 1:\\n        list_fibonacci.append(0)\\n    if n == 2:\\n        list_fibonacci.append(1)\\n    for k in range(3, n+1):\\n        list_fibonacci[k] = list_fibonacci[k-1] + list_fibonacci[k-2]\\n    return list_fibonacci\\nfibonacci(6)', '_i53': 'def fibonacci(n):\\n    list_fibonacci = list(0) * 6\\n    if n == 1:\\n        list_fibonacci.append(0)\\n    if n == 2:\\n        list_fibonacci.append(1)\\n    for k in range(3, n+1):\\n        list_fibonacci[k] = list_fibonacci[k-1] + list_fibonacci[k-2]\\n    return list_fibonacci\\nfibonacci(6)', '_i54': 'def fibonacci(n):\\n    list_fibonacci = list(0) * 6\\n    if n == 1:\\n        list_fibonacci.append(0)\\n    if n == 2:\\n        list_fibonacci.append(1)\\n    for k in range(3, n+1):\\n        list_fibonacci[k] = list_fibonacci[k-1] + list_fibonacci[k-2]\\n    return list_fibonacci\\nfibonacci(6)', '_i55': 'def fibonacci(n):\\n    list_fibonacci = [0] * 6\\n    if n == 1:\\n        list_fibonacci.append(0)\\n    if n == 2:\\n        list_fibonacci.append(1)\\n    for k in range(3, n+1):\\n        list_fibonacci[k] = list_fibonacci[k-1] + list_fibonacci[k-2]\\n    return list_fibonacci\\nfibonacci(6)', '_i56': 'def fibonacci(n):\\n    list_fibonacci = [0] * 6\\n    if n == 1:\\n        list_fibonacci.append(0)\\n    if n == 2:\\n        list_fibonacci.append(1)\\n    for k in range(3, n+1):\\n        list_fibonacci[k] = list_fibonacci[k-1] + list_fibonacci[k-2]\\n    return list_fibonacci\\nfibonacci(6)', '_i57': 'def fibonacci(n):\\n    list_fibonacci = [0] * n\\n    if n == 1:\\n        list_fibonacci.append(0)\\n    if n == 2:\\n        list_fibonacci.append(1)\\n    for k in range(3, n+1):\\n        list_fibonacci[k] = list_fibonacci[k-1] + list_fibonacci[k-2]\\n    return list_fibonacci\\nfibonacci(6)', '_i58': 'def fibonacci(n):\\n    list_fibonacci = [0] * n\\n    if n == 1:\\n        list_fibonacci.append(0)\\n    if n == 2:\\n        list_fibonacci.append(1)\\n    for k in range(3, n+1):\\n        list_fibonacci[k] = list_fibonacci[k-1] + list_fibonacci[k-2]\\n    return list_fibonacci\\nfibonacci(6)', '_i59': 'def fibonacci(n):\\n    list_fibonacci = [0 for _ in range(n)]\\n    if n == 1:\\n        list_fibonacci.append(0)\\n    if n == 2:\\n        list_fibonacci.append(1)\\n    for k in range(3, n+1):\\n        list_fibonacci[k] = list_fibonacci[k-1] + list_fibonacci[k-2]\\n    return list_fibonacci\\nfibonacci(6)', '_i60': 'def fibonacci(n):\\n    list_fibonacci = [0 for _ in range(n)]\\n    if n == 1:\\n        list_fibonacci.append(0)\\n    if n == 2:\\n        list_fibonacci.append(1)\\n    for k in range(3, n+1):\\n        list_fibonacci[k] = list_fibonacci[k-1] + list_fibonacci[k-2]\\n    return list_fibonacci\\nfibonacci(6)', '_i61': 'def fibonacci(n):\\n    list_fibonacci = [0 for _ in range(n)]\\n    if n == 1:\\n        list_fibonacci.append(0)\\n    if n == 2:\\n        list_fibonacci.append(1)\\n    for k in range(2, n):\\n        list_fibonacci[k] = list_fibonacci[k-1] + list_fibonacci[k-2]\\n    return list_fibonacci\\nfibonacci(6)', '_61': [0, 0, 0, 0, 0, 0], '_i62': 'def fibonacci(n):\\n    list_fibonacci = [0] *6\\n    if n == 1:\\n        list_fibonacci.append(0)\\n    if n == 2:\\n        list_fibonacci.append(1)\\n    for k in range(2, n):\\n        list_fibonacci[k] = list_fibonacci[k-1] + list_fibonacci[k-2]\\n    return list_fibonacci\\nfibonacci(6)', '_62': [0, 0, 0, 0, 0, 0], '_i63': 'def fibonacci(n):\\n    list_fibonacci = [0] * 6\\n    if n == 1:\\n        list_fibonacci.append(0)\\n        return list_fibonacci\\n    if n == 2:\\n        list_fibonacci.append(1)\\n        return list_fibonacci\\n    for k in range(2, n):\\n        list_fibonacci[k] = list_fibonacci[k-1] + list_fibonacci[k-2]\\n        return list_fibonacci\\nfibonacci(6)', '_63': [0, 0, 0, 0, 0, 0], '_i64': 'def fibonacci(n):\\n    list_fibonacci = [0] * 6\\n    if n == 1:\\n        list_fibonacci.append(0)\\n        return list_fibonacci\\n    if n == 2:\\n        list_fibonacci.append(1)\\n        return list_fibonacci\\n    for k in range(2, n):\\n        list_fibonacci[k] = list_fibonacci[k-1] + list_fibonacci[k-2]\\n        return list_fibonacci\\nfibonacci(6)', '_64': [0, 0, 0, 0, 0, 0], '_i65': 'def fibonacci(n):\\n    if n == 0:\\n        return []\\n    if n == 1:\\n        return [0]\\n    list_fibonacci = [0, 1]\\n    for k in range(2, n):\\n        next_valute = list_fibonacci[k-1] + list_fibonacci[k-2]\\n        return list_fibonacci.append(next_valute)\\nfibonacci(6)', '_i66': 'def fibonacci(n):\\n    if n == 0:\\n        return []\\n    if n == 1:\\n        return [0]\\n    list_fibonacci = [0, 1]\\n    for k in range(2, n):\\n        next_valute = list_fibonacci[k-1] + list_fibonacci[k-2]\\n        return list_fibonacci.append(next_valute)\\nfibonacci(6)', '_i67': 'def fibonacci(n):\\n    if n == 0:\\n        return []\\n    if n == 1:\\n        return [0]\\n    list_fibonacci = [0, 1]\\n    for k in range(2, n):\\n        next_valute = list_fibonacci[k-1] + list_fibonacci[k-2]\\n        list_fibonacci.append(next_valute)\\n    return list_fibonacci\\nfibonacci(6)', '_67': [0, 1, 1, 2, 3, 5], '_i68': '# Longitud de cadena\\ndef longitud_cadena(cadena):\\n    if cadena == \"\":\\n        return 0\\n    else:\\n        return 1 + longitud_cadena[1:]\\nlongitud_cadena(\"perro\")', 'longitud_cadena': <function longitud_cadena at 0x0000016CF113DF80>, '_i69': '# Longitud de cadena\\ndef longitud_cadena(cadena):\\n    if cadena == \"\":\\n        return 0\\n    else:\\n        return 1 + longitud_cadena(cadena[1:])\\nlongitud_cadena(\"perro\")', '_69': 5, '_i70': '# Longitud de cadena\\ndef longitud_cadena(cadena):\\n    if cadena == \"\":\\n        return 0\\n    else:\\n        return 1 + longitud_cadena(cadena[1:])\\nlongitud_cadena(\"perro\")', '_70': 5, '_i71': 'def is_multiple_of_five(n):\\n    return not n % 5', 'is_multiple_of_five': <function is_multiple_of_five at 0x0000016CF10476A0>, '_i72': 'def is_multiple_of_five(n):\\n    return not n % 5\\nis_multiple_of_five(5)', '_72': True, '_i73': 'def is_multiple_of_five(n):\\n    return n % 5\\nis_multiple_of_five(5)', '_73': 0, '_i74': 'def is_multiple_of_five(n):\\n    return n % 5\\n\\ndef get_multiples_of_five(n):\\n    return list(filter(is_multiple_of_five, range(n)))', 'get_multiples_of_five': <function get_multiples_of_five at 0x0000016CF113E520>, '_i75': 'def is_multiple_of_five(n):\\n    return n % 5\\n\\ndef get_multiples_of_five(n):\\n    return list(filter(is_multiple_of_five, range(n)))', '_i76': 'def is_multiple_of_five(n):\\n    return n % 5\\n\\ndef get_multiples_of_five(n):\\n    return list(filter(is_multiple_of_five, range(n)))', '_i77': 'def get_multiples_of_five(n):\\n    return list(filter(lambda k: not k % 5, range(n)))', '_i78': 'def is_multiple_of_five(n):\\n    return not n % 5\\n\\ndef get_multiples_of_five(n):\\n    return list(filter(is_multiple_of_five, range(n)))', '_i79': 'def is_multiple_of_five(n):\\n    return not n % 5\\n\\ndef get_multiples_of_five(n):\\n    return list(filter(is_multiple_of_five, range(n)))\\n\\nget_multiples_of_five(8)', '_79': [0, 5], '_i80': 'def is_multiple_of_five(n):\\n    return not n % 5\\n\\ndef get_multiples_of_five(n):\\n    return list(filter(is_multiple_of_five, range(n)))\\n\\nget_multiples_of_five(6)', '_80': [0, 5], '_i81': 'def is_multiple_of_five(n):\\n    return not n % 5\\n\\ndef get_multiples_of_five(n):\\n    return list(filter(is_multiple_of_five, range(n)))\\n\\nget_multiples_of_five(6)', '_81': [0, 5], '_i82': 'def is_multiple_of_five(n):\\n    return not n % 5\\n\\ndef get_multiples_of_five(n):\\n    return list(filter(is_multiple_of_five, range(n)))\\n\\nget_multiples_of_five(3)', '_82': [0], '_i83': 'def is_multiple_of_five(n):\\n    return not n % 5\\n\\ndef get_multiples_of_five(n):\\n    return list(filter(is_multiple_of_five, range(n)))\\n\\nget_multiples_of_five(8)', '_83': [0, 5], '_i84': 'def is_multiple_of_five(n):\\n    return n % 5\\n\\ndef get_multiples_of_five(n):\\n    return list(filter(is_multiple_of_five, range(n)))\\n\\nget_multiples_of_five(8)', '_84': [1, 2, 3, 4, 6, 7], '_i85': 'def is_multiple_of_five(n):\\n    return not n % 5\\n\\ndef get_multiples_of_five(n):\\n    return list(filter(is_multiple_of_five, range(n)))\\n\\nget_multiples_of_five(8)', '_85': [0, 5], '_i86': 'def get_multiples_of_five(n):\\n    return list(filter(lambda k: not k % 5, range(n)))\\n\\nget_multiples_of_five(8)', '_86': [0, 5], '_i87': '# Función aderir\\ndef adder(a, b):\\n    return a + b\\n# Función aderir usando lambda\\nadder_lambda = lambda a, b: a + b\\n\\n# Función que convierte un texto a mayúscula\\ndef to_upper(s):\\n    return s.upper()\\n\\n# Función que convierte un texto a mayúscula usando lambda\\nto_upper_lambda = lambda s: s.upper()', 'adder': <function adder at 0x0000016CF10C8B80>, 'adder_lambda': <function <lambda> at 0x0000016CF10C9080>, 'to_upper': <function to_upper at 0x0000016CF10CA660>, 'to_upper_lambda': <function <lambda> at 0x0000016CF10CBC40>, '_i88': '# Función aderir\\ndef adder(a, b):\\n    return a + b\\n# Función aderir usando lambda\\nadder_lambda = lambda a, b: a + b\\n\\n# Función que convierte un texto a mayúscula\\ndef to_upper(s):\\n    return s.upper()\\n\\n# Función que convierte un texto a mayúscula usando lambda\\nto_upper_lambda = lambda s: s.upper()\\nto_upper_lambda', '_88': <function <lambda> at 0x0000016CF10C9F80>, '_i89': '# Función aderir\\ndef adder(a, b):\\n    return a + b\\n# Función aderir usando lambda\\nadder_lambda = lambda a, b: a + b\\n\\n# Función que convierte un texto a mayúscula\\ndef to_upper(s):\\n    return s.upper()\\n\\n# Función que convierte un texto a mayúscula usando lambda\\nto_upper_lambda = lambda s: s.upper()\\nto_upper_lambda(\"perro\")', '_89': 'PERRO', '_i90': '# Función aderir\\ndef adder(a, b):\\n    return a + b\\n# Función aderir usando lambda\\nadder_lambda = lambda a, b: a + b\\n\\n# Función que convierte un texto a mayúscula\\ndef to_upper(s):\\n    return s.upper()\\n\\n# Función que convierte un texto a mayúscula usando lambda\\nto_upper_lambda = lambda s: s.upper()', '_i91': 'def multiplication(a, b=1):\\n    \"\"\"Return a multiplied by b. \"\"\"\\n    return a * b\\nif __name__ == \"__main__\":\\n    special_attributes = [\\n        \"__doc__\", \"__name__\", \"__qualname__\", \"__module__\",\\n        \"__defaults__\", \"__code__\", \"__globals__\", \"__dict__\",\\n    \"__closure__\", \"__annotations__\", \"__kwdefaults__\",\\n    ]\\nfor attribute in special_attributes:\\n    print(attribute, \\'->\\', getattr(multiplication, attribute))', 'multiplication': <function multiplication at 0x0000016CF10CB2E0>, 'special_attributes': ['__doc__', '__name__', '__qualname__', '__module__', '__defaults__', '__code__', '__globals__', '__dict__', '__closure__', '__annotations__', '__kwdefaults__'], 'attribute': '__globals__', '_i92': 'def multiplication(a, b=1):\\n    \"\"\"Return a multiplied by b. \"\"\"\\n    return a * b\\nif __name__ == \"__main__\":\\n    special_attributes = [\\n        \"__doc__\", \"__name__\", \"__qualname__\", \"__module__\",\\n        \"__defaults__\", \"__code__\", \"__globals__\", \"__dict__\",\\n    \"__closure__\", \"__annotations__\", \"__kwdefaults__\",\\n    ]\\nfor attribute in special_attributes:\\n    print(attribute, \\'->\\', getattr(multiplication, attribute))\\ndir(multiplication)', '_92': ['__annotations__', '__builtins__', '__call__', '__class__', '__closure__', '__code__', '__defaults__', '__delattr__', '__dict__', '__dir__', '__doc__', '__eq__', '__format__', '__ge__', '__get__', '__getattribute__', '__getstate__', '__globals__', '__gt__', '__hash__', '__init__', '__init_subclass__', '__kwdefaults__', '__le__', '__lt__', '__module__', '__name__', '__ne__', '__new__', '__qualname__', '__reduce__', '__reduce_ex__', '__repr__', '__setattr__', '__sizeof__', '__str__', '__subclasshook__', '__type_params__'], '_i93': 'def multiplication(a, b=1):\\n    \"\"\"Return a multiplied by b. \"\"\"\\n    return a * b\\nif __name__ == \"__main__\":\\n    special_attributes = [\\n        \"__doc__\", \"__name__\", \"__qualname__\", \"__module__\",\\n        \"__defaults__\", \"__code__\", \"__globals__\", \"__dict__\",\\n    \"__closure__\", \"__annotations__\", \"__kwdefaults__\",\\n    ]\\nfor attribute in special_attributes:\\n    print(attribute, \\'->\\', getattr(multiplication, attribute))'}\n",
      "__dict__ -> {}\n",
      "__closure__ -> None\n",
      "__annotations__ -> {}\n",
      "__kwdefaults__ -> None\n"
     ]
    }
   ],
   "source": [
    "def multiplication(a, b=1):\n",
    "    \"\"\"Return a multiplied by b. \"\"\"\n",
    "    return a * b\n",
    "if __name__ == \"__main__\":\n",
    "    special_attributes = [\n",
    "        \"__doc__\", \"__name__\", \"__qualname__\", \"__module__\",\n",
    "        \"__defaults__\", \"__code__\", \"__globals__\", \"__dict__\",\n",
    "    \"__closure__\", \"__annotations__\", \"__kwdefaults__\",\n",
    "    ]\n",
    "for attribute in special_attributes:\n",
    "    print(attribute, '->', getattr(multiplication, attribute))"
   ]
  },
  {
   "cell_type": "markdown",
   "metadata": {},
   "source": [
    "Usamos la función *getattr()* para obtener el valor de esos atributos. *getattr(obj, attribute)* es equivalente a *obj.attribute* y resulta útil cuando necesitamos obtener dinámicamente un atributo en tiempo de ejecución, tomando el nombre del atributo de una variable (como en este ejemplo). Si se desea ver todos los atributos de un objeto, basta con llamar a *dir(nombre_objeto)* y obtendrá una lista de todos sus atributos.\n",
    "\n",
    "Tener en cuenta que Python viene con un montón de funciones incorporadas. Están disponibles en cualquier parte, y puedes obtener una lista de ellas inspeccionando el módulo builtins con dir(__builtins__), o yendo a la documentación oficial de Python.\n",
    "\n",
    "Otro punto importante corresponde a la documentación del código. Cuando programamos correctamente, elegimos los nombres adecuados y cuidamos los detalles, el código debería salir autoexplicativo, siendo la documentación casi innecesaria. Sin embargo, a veces un comentario es muy útil, y también lo es algo de documentación.\n",
    "\n",
    "Python se documenta con cadenas, que se llaman *docstrings*. Cualquier objeto puede ser documentado, y podemos usar *docstrings* de una o varias líneas. Los *oneliners* son muy simples. No deben proporcionar otra firma para la función, sino indicar su propósito:"
   ]
  },
  {
   "cell_type": "code",
   "execution_count": 96,
   "metadata": {},
   "outputs": [],
   "source": [
    "def square(n):\n",
    "    \"\"\"Return the square of a number n. \"\"\"\n",
    "    return n ** 2"
   ]
  },
  {
   "cell_type": "markdown",
   "metadata": {},
   "source": [
    "Utilizar cadenas de comillas dobles triples te permitirá ampliarlas fácilmente más adelante. Además, se deben usar frases que terminen en punto y no dejar líneas en blanco ni antes ni después.\n",
    "\n",
    "Los comentarios multilínea se estructuran de forma similar. Debe haber una línea que describa brevemente el objeto y, a continuación, una descripción más detallada. Como ejemplo, hemos documentado una función ficticia *connect()*, usando la notación *Sphinx*, en el siguiente ejemplo:"
   ]
  },
  {
   "cell_type": "code",
   "execution_count": 99,
   "metadata": {},
   "outputs": [],
   "source": [
    "def connect(host, port, user, password):\n",
    "    \"\"\"Connect to a database.\n",
    "    \n",
    "    Connect to a PostgreSQL database directly, using the given parameters.\n",
    "    \n",
    "    :param host: The host IP.\n",
    "    :param port: The desired port.\n",
    "    :param user: The connection username.\n",
    "    :param password: The connection password.\n",
    "    :return: The connection object.\n",
    "    \"\"\"\n",
    "    # body of the function here...\n",
    "    return host, port, user, password"
   ]
  },
  {
   "cell_type": "markdown",
   "metadata": {},
   "source": [
    "# Importar objetos\n",
    "El objetivo de escribir funciones es poder reutilizarlas más tarde, y en Python, esto se traduce en importarlas al espacio de nombres donde las necesites. Hay muchas formas diferentes de importar objetos a un espacio de nombres, pero las más comunes son *import nombre_módulo* y *from nombre_módulo import nombre_función*.\n",
    "\n",
    "La forma *import nombre_módulo* encuentra el módulo *nombre_módulo* y define un nombre para él en el espacio de nombres local, donde se ejecuta la sentencia *import*. La forma *from nombre_módulo import identificador* es un poco más complicada, pero básicamente hace lo mismo. Encuentra *nombre_módulo* y busca un atributo (o un submódulo) y almacena una referencia al identificador en el espacio de nombres local. Ambas formas tienen la opción de cambiar el nombre del objeto importado usando la cláusula *as*:"
   ]
  },
  {
   "cell_type": "code",
   "execution_count": 112,
   "metadata": {},
   "outputs": [],
   "source": [
    "from datetime import datetime, timezone # two imports on the same line\n",
    "from unittest.mock import patch # single import\n",
    "import pytest # third party library"
   ]
  },
  {
   "cell_type": "markdown",
   "metadata": {},
   "source": [
    "Cuando tenemos una estructura de archivos que comienza en la raíz de nuestro proyecto, podemos utilizar la notación dot para llegar al objeto que queremos importar a nuestro espacio de nombres actual, ya sea un paquete, un módulo, una clase, una función o cualquier otra cosa.\n",
    "\n",
    "La sintaxis *from module import* también permite una cláusula *catch-all*, from module import *, que a veces se utiliza para obtener todos los nombres de un módulo en el espacio de nombres actual a la vez; sin embargo, esto no está bien visto por varias razones, relacionadas con el rendimiento y el riesgo de ensombrecer silenciosamente otros nombres.\n",
    "\n",
    "El tipo de importación que hemos visto hasta ahora se llama importación absoluta; es decir, define la ruta completa del módulo que queremos importar o del que queremos importar un objeto. Hay otra forma de importar objetos en Python, que se llama importación relativa. Las importaciones relativas se hacen añadiendo tantos puntos delante del módulo como carpetas tengamos que retroceder para encontrar lo que estamos buscando. En pocas palabras, es algo como esto: from .mymodule import myfunc \n",
    "\n",
    "Las importaciones relativas son muy útiles cuando se reestructuran proyectos. No tener la ruta completa en las importaciones permite al desarrollador mover cosas sin tener que renombrar demasiadas de esas rutas."
   ]
  },
  {
   "cell_type": "markdown",
   "metadata": {},
   "source": [
    "# Recapitulando lo aprendido: Ejemplo final\n",
    "Antes de terminar este sesión, veamos un último ejemplo donde vamos a escribir una función para generar una lista de números primos hasta un límite. Para realizar este ejemplo, no se necesita dividir por todos los números de 2 a N-1 para decidir si un número, N, es primo. Podemos detenernos en √N (la raíz cuadrada de N). Además, no necesitamos probar la división para todos los números de 2 a √N, ya que podemos utilizar simplemente los primos de ese rango:"
   ]
  },
  {
   "cell_type": "code",
   "execution_count": 115,
   "metadata": {},
   "outputs": [
    {
     "data": {
      "text/plain": [
       "[2, 3, 5, 7, 11, 13]"
      ]
     },
     "execution_count": 115,
     "metadata": {},
     "output_type": "execute_result"
    }
   ],
   "source": [
    "from math import sqrt, ceil\n",
    "def get_primes(n):\n",
    "    \"\"\"Calculate a list of primes up to n (included). \"\"\"\n",
    "    primelist = []\n",
    "    for candidate in range(2, n + 1):\n",
    "        is_prime = True\n",
    "        root = ceil(sqrt(candidate)) # division limit\n",
    "        for prime in primelist: # we try only the primes\n",
    "            if prime > root: # no need to check any further\n",
    "                break\n",
    "            if candidate % prime == 0:\n",
    "                is_prime = False\n",
    "                break\n",
    "        if is_prime:\n",
    "            primelist.append(candidate)\n",
    "    return primelist\n",
    "\n",
    "def criba_eratostenes(n):\n",
    "    primos = []\n",
    "    no_primos = []\n",
    "\n",
    "    for i in range(2, n + 1):\n",
    "        if i not in no_primos:\n",
    "            primos.append(i)\n",
    "\n",
    "            for j in range(i * i, n + 1, i):\n",
    "                no_primos.append(j)\n",
    "    \n",
    "    return primos\n",
    "get_primes(15)\n",
    "criba_eratostenes(15)"
   ]
  },
  {
   "cell_type": "markdown",
   "metadata": {},
   "source": [
    "Se ha explorado el mundo de las funciones. Son muy importantes y, a partir de ahora, las utilizaremos en prácticamente todo lo que hagamos. Hemos hablado de las principales razones para usarlas, siendo las más importantes: la reutilización del código y la ocultación de la implementación.\n",
    "\n",
    "Además, vimos que un objeto función es como una caja que toma entradas opcionales y puede producir salidas. Podemos introducir argumentos de entrada a una función de muchas maneras diferentes, utilizando argumentos posicionales y de palabra clave, y utilizando sintaxis variable para ambos tipos. \n",
    "\n",
    "Ahora deberías saber cómo escribir una función, documentarla, importarla a tu código y llamarla."
   ]
  }
 ],
 "metadata": {
  "kernelspec": {
   "display_name": ".venv",
   "language": "python",
   "name": "python3"
  },
  "language_info": {
   "codemirror_mode": {
    "name": "ipython",
    "version": 3
   },
   "file_extension": ".py",
   "mimetype": "text/x-python",
   "name": "python",
   "nbconvert_exporter": "python",
   "pygments_lexer": "ipython3",
   "version": "3.12.3"
  }
 },
 "nbformat": 4,
 "nbformat_minor": 2
}
