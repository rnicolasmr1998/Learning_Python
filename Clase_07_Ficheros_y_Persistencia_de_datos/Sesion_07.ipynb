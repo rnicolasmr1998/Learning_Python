{
 "cells": [
  {
   "cell_type": "markdown",
   "metadata": {},
   "source": [
    "# Ficheros y persistencia de datos\n",
    "En sesiones anteriores, hemos explorado diferentes aspectos de Python acompañados de ejemplos. Estos tienen un propósito didáctico, por ello se han ejecutado en un simple shell de Python o en forma de módulo de Python. Se ejecutaban, tal vez imprimían algo en la consola, y luego terminaban, sin dejar rastro de su breve existencia.\n",
    "\n",
    "Las aplicaciones del mundo real, sin embargo, son muy diferentes. Naturalmente, siguen ejecutándose en memoria, pero interactúan con redes, discos y bases de datos. También intercambian información con otras aplicaciones y dispositivos, utilizando formatos adecuados a la situación.\n",
    "\n",
    "En esta sesión, vamos a empezar a acercarnos al mundo real explorando lo siguiente:\n",
    "- [Archivos y directorios]()\n",
    "- [Compresión]()\n",
    "- [Redes y flujos]()\n",
    "- [El formato de intercambio de datos JSON]()\n",
    "- [Persistencia de datos con pickle y shelve, de la biblioteca estándar]()\n",
    "- [Persistencia de datos con SQLAlchemy]()\n",
    "\n",
    "Como de costumbre, se intenta equilibrar amplitud y profundidad para que, al final se pueda tener un sólido conocimiento de los fundamentos y poder saber cómo buscar más información en la red."
   ]
  },
  {
   "cell_type": "markdown",
   "metadata": {},
   "source": [
    "# Trabajando con archivos y directorios\n",
    "Cuando se trata de archivos y directorios, Python ofrece un montón de herramientas útiles. En particular, en los siguientes ejemplos, aprovecharemos los módulos `os`, `pathlib` y `shutil`. Como vamos a leer y escribir en el disco, vamos a utilizar un archivo, fear.txt, que contiene la sinopsis del libro \"LAS INTERMITENCIAS DE LA MUERTE\" escrito por José Saramago como conejillo de indias para algunos de nuestros ejemplos."
   ]
  },
  {
   "cell_type": "markdown",
   "metadata": {},
   "source": [
    "## Abrir archivos\n",
    "Abrir un archivo en Python es muy sencillo e intuitivo. De hecho, sólo tenemos que utilizar la función `open()`. Veamos un ejemplo rápido:"
   ]
  },
  {
   "cell_type": "code",
   "execution_count": 2,
   "metadata": {},
   "outputs": [
    {
     "name": "stdout",
     "output_type": "stream",
     "text": [
      "Sinopsis de LAS INTERMITENCIAS DE LA MUERTE\n",
      "Autor: JOSÉ SARAMAGO\n",
      "Una brillante sátira que juega con el miedo más profundo del ser humano, el de perder la vida. En un país cuyo nombre no será mencionado se produce algo nunca visto desde el principio del mundo: la muerte decide suspender su trabajo letal, la gente deja de morir. La eurofia colectiva se desata, pero muy pronto dará paso a la desesperación y al caos. Sobran los motivos. Si es cierto que las personas ya no mueren, eso no significa que el tiempo haya parado. el destino de los humanos será una vejez eterna. Se buscarán maneras de forzar a la muerte a matar aunque no lo quiera, se corromperán las conciencias en los \"acuerdos de caballeros\" explícitos o tácitos entre el poder político, las mafias y las familias, los ancianos serán detestados ppor haberse convertido en estorbos irremovibles. Hasta el día en que la muerte decide volver...\n"
     ]
    }
   ],
   "source": [
    "fh = open('fear.txt', 'rt', encoding='utf-8') # r: read, t: text\n",
    "for line in fh.readlines():\n",
    "    print(line.strip())                       # removemos los espacios en blanco e imprimimos\n",
    "fh.close()"
   ]
  },
  {
   "cell_type": "markdown",
   "metadata": {},
   "source": [
    "El código anterior es muy sencillo. Llamamos a `open()`, pasándole el nombre del fichero, y diciéndole a `open()` que queremos leerlo en modo texto (además, le pasamos un parámetro `encoding='utf-8'` para el tema de las tildes en el archivo). No hay información de ruta antes del nombre del archivo; por lo tanto, open() asumirá que el archivo está en la misma carpeta en la que se ejecuta el script. Esto significa que si ejecutamos este script desde fuera de la carpeta donde estamos trabajando, el archivo fear.txt no será encontrado.\n",
    "\n",
    "Una vez que el archivo ha sido abierto, obtenemos de vuelta un objeto archivo, `fh`, que podemos usar para trabajar en el contenido del archivo. En este caso, utilizamos el método `readlines()` para recorrer todas las líneas del fichero e imprimirlas. Llamamos a `strip()` en cada línea para deshacernos de cualquier espacio extra alrededor del contenido, incluyendo el carácter de terminación de línea al final, ya que `print` añadirá uno por nosotros. Esta es una solución rápida y sucia que funciona en este ejemplo, pero si el contenido del archivo contiene espacios significativos que deben ser preservados, tendrá que ser un poco más cuidadoso en la forma de desinfectar los datos. Al final del script, cerramos el flujo.\n",
    "\n",
    "Cerrar un archivo es muy importante, ya que no queremos arriesgarnos a no liberar el handle (es un identificador o referencia que el sistema proporciona para acceder a un recurso, como un archivo, una ventana, o una conexión a la base de datos, este permite interactuar con ese recurso sin exponer los detalles internos de su implementación) que tenemos sobre él. Cuando eso ocurre, podemos encontrarnos con problemas como fugas de memoria, o la molesta ventana emergente «no puede eliminar este archivo» que nos informa de que algún software todavía lo está utilizando. Por lo tanto, necesitamos aplicar algunas precauciones, y envolver la lógica anterior en un bloque `try/finally`. Esto significa que, sea cual sea el error que se produzca cuando intentemos abrir y leer el archivo, podemos estar seguros de que se llamará a `close()`:"
   ]
  },
  {
   "cell_type": "code",
   "execution_count": 5,
   "metadata": {},
   "outputs": [
    {
     "name": "stdout",
     "output_type": "stream",
     "text": [
      "Sinopsis de LAS INTERMITENCIAS DE LA MUERTE\n",
      "Autor: JOSÉ SARAMAGO\n",
      "Una brillante sátira que juega con el miedo más profundo del ser humano, el de perder la vida. En un país cuyo nombre no será mencionado se produce algo nunca visto desde el principio del mundo: la muerte decide suspender su trabajo letal, la gente deja de morir. La eurofia colectiva se desata, pero muy pronto dará paso a la desesperación y al caos. Sobran los motivos. Si es cierto que las personas ya no mueren, eso no significa que el tiempo haya parado. el destino de los humanos será una vejez eterna. Se buscarán maneras de forzar a la muerte a matar aunque no lo quiera, se corromperán las conciencias en los \"acuerdos de caballeros\" explícitos o tácitos entre el poder político, las mafias y las familias, los ancianos serán detestados ppor haberse convertido en estorbos irremovibles. Hasta el día en que la muerte decide volver...\n"
     ]
    }
   ],
   "source": [
    "fh = open('fear.txt', 'rt', encoding='utf-8')\n",
    "try:\n",
    "    for line in fh.readlines():\n",
    "        print(line.strip())\n",
    "finally:\n",
    "    fh.close()"
   ]
  },
  {
   "cell_type": "markdown",
   "metadata": {},
   "source": [
    "La lógica es exactamente la misma al primer ejercicio, pero este le brinda mayor seguridad a la hora de ejecutarlo.\n",
    "\n",
    "Podemos simplificar aún más el ejemplo anterior, de la siguiente manera:"
   ]
  },
  {
   "cell_type": "code",
   "execution_count": 6,
   "metadata": {},
   "outputs": [
    {
     "name": "stdout",
     "output_type": "stream",
     "text": [
      "Sinopsis de LAS INTERMITENCIAS DE LA MUERTE\n",
      "Autor: JOSÉ SARAMAGO\n",
      "Una brillante sátira que juega con el miedo más profundo del ser humano, el de perder la vida. En un país cuyo nombre no será mencionado se produce algo nunca visto desde el principio del mundo: la muerte decide suspender su trabajo letal, la gente deja de morir. La eurofia colectiva se desata, pero muy pronto dará paso a la desesperación y al caos. Sobran los motivos. Si es cierto que las personas ya no mueren, eso no significa que el tiempo haya parado. el destino de los humanos será una vejez eterna. Se buscarán maneras de forzar a la muerte a matar aunque no lo quiera, se corromperán las conciencias en los \"acuerdos de caballeros\" explícitos o tácitos entre el poder político, las mafias y las familias, los ancianos serán detestados ppor haberse convertido en estorbos irremovibles. Hasta el día en que la muerte decide volver...\n"
     ]
    }
   ],
   "source": [
    "fh = open('fear.txt', encoding='utf-8')       # rt es el valor por default\n",
    "try:\n",
    "    for line in fh:         # se puede interactuar directamente en fh\n",
    "        print(line.strip())\n",
    "finally:\n",
    "    fh.close()"
   ]
  },
  {
   "cell_type": "markdown",
   "metadata": {},
   "source": [
    "Como se puede ver, `rt` es el modo por defecto para abrir ficheros, por lo que no necesitamos especificarlo. Además, podemos simplemente iterar sobre `fh`, sin llamar explícitamente a `readlines()` sobre él. Python es muy agradable y nos da atajos para hacer nuestro código más corto y simple de leer."
   ]
  },
  {
   "cell_type": "markdown",
   "metadata": {},
   "source": [
    "### Usando un gestor de contexto para abrir archivos\n",
    "La perspectiva de tener que diseminar nuestro código con bloques `try/finally` no es de las mejores. Como siempre, Python nos da una forma mucho más agradable de abrir un archivo de forma segura: usando un gestor de contexto. Veamos primero el código:"
   ]
  },
  {
   "cell_type": "code",
   "execution_count": 7,
   "metadata": {},
   "outputs": [
    {
     "name": "stdout",
     "output_type": "stream",
     "text": [
      "Sinopsis de LAS INTERMITENCIAS DE LA MUERTE\n",
      "Autor: JOSÉ SARAMAGO\n",
      "Una brillante sátira que juega con el miedo más profundo del ser humano, el de perder la vida. En un país cuyo nombre no será mencionado se produce algo nunca visto desde el principio del mundo: la muerte decide suspender su trabajo letal, la gente deja de morir. La eurofia colectiva se desata, pero muy pronto dará paso a la desesperación y al caos. Sobran los motivos. Si es cierto que las personas ya no mueren, eso no significa que el tiempo haya parado. el destino de los humanos será una vejez eterna. Se buscarán maneras de forzar a la muerte a matar aunque no lo quiera, se corromperán las conciencias en los \"acuerdos de caballeros\" explícitos o tácitos entre el poder político, las mafias y las familias, los ancianos serán detestados ppor haberse convertido en estorbos irremovibles. Hasta el día en que la muerte decide volver...\n"
     ]
    }
   ],
   "source": [
    "with open('fear.txt', encoding='utf-8') as fh:\n",
    "    for line in fh:\n",
    "        print(line.strip())"
   ]
  },
  {
   "cell_type": "markdown",
   "metadata": {},
   "source": [
    "Este ejemplo es equivalente al anterior, pero se lee mucho mejor. La función `open()` es capaz de producir un objeto fichero cuando es invocada por un gestor de contexto, pero la verdadera belleza reside en que `fh.close()` será llamada automáticamente por nosotros, incluso en caso de error."
   ]
  },
  {
   "cell_type": "markdown",
   "metadata": {},
   "source": [
    "## Lectura y escritura en un fichero\n",
    "Ahora que ya sabemos cómo abrir un archivo, veamos un par de formas distintas de leer y escribir en él:"
   ]
  },
  {
   "cell_type": "code",
   "execution_count": 8,
   "metadata": {},
   "outputs": [],
   "source": [
    "with open('print_example.txt', 'w') as fw:\n",
    "    print('Hola, Yo estoy escribiendo dentro de un archivo!!!', file=fw)"
   ]
  },
  {
   "cell_type": "markdown",
   "metadata": {},
   "source": [
    "Una primera forma es utilizar la función `print()`, que hemos visto muchas veces en las sesiones anteriores. Después de obtener un objeto fichero, esta vez especificando que pretendemos escribir en él `('w')`, podemos decirle a la llamada a `print()` que dirija su salida al fichero, en lugar de al flujo de salida estándar como hace normalmente.\n",
    "\n",
    "En Python, los flujos estándar de entrada, salida y error están representados por los objetos de archivo `sys.stdin`, `sys.stdout` y `sys.stderr`. A menos que se redirija la entrada o la salida, leer de `sys.stdin` normalmente corresponde a leer del teclado y escribir en `sys.stdout` o `sys.stderr` normalmente imprime en la pantalla de la consola.\n",
    "\n",
    "Retomando con el código, este tiene el efecto de crear el fichero `print_example.txt` si no existe, o truncarlo en caso afirmativo (truncar un archivo significa borrar su contenido sin eliminarlo; es decir, el archivo sigue existiendo en el sistema de archivos, pero está vacío.), y escribe en él la línea 'Hola, Yo estoy escribiendo dentro de un archivo!!!'.\n",
    "\n",
    "Todo esto es bonito y fácil, pero no es lo que solemos hacer cuando queremos escribir en un archivo. Veamos un enfoque mucho más común:"
   ]
  },
  {
   "cell_type": "code",
   "execution_count": 12,
   "metadata": {},
   "outputs": [],
   "source": [
    "with open('fear.txt', encoding='utf-8') as f:\n",
    "    lines = [line.rstrip() for line in f]\n",
    "\n",
    "with open('fear_copy.txt', 'w') as fw:\n",
    "    fw.write('\\n'.join(lines))"
   ]
  },
  {
   "cell_type": "markdown",
   "metadata": {},
   "source": [
    "En este ejemplo, primero abrimos fear.txt y recopilamos su contenido en una lista, línea por línea. Observa que esta vez, estamos llamando a un método diferente, `rstrip()`, como ejemplo, para asegurarnos de que sólo eliminamos los espacios en blanco de la parte derecha de cada línea.\n",
    "\n",
    "En la segunda parte del fragmento, creamos un nuevo archivo, fear_copy.txt, y escribimos en él todas las líneas del archivo original, unidas por una nueva línea, \\n. Python es gracioso y trabaja por defecto con nuevas líneas universales, lo que significa que aunque el archivo original pueda tener una nueva línea diferente a \\n, será traducida automáticamente para nosotros antes de que la línea sea devuelta. Este comportamiento es, por supuesto, personalizable, pero normalmente es exactamente lo que quieres."
   ]
  },
  {
   "cell_type": "markdown",
   "metadata": {},
   "source": [
    "### Lectura y escritura en modo binario\n",
    "Observe que al abrir un fichero pasando t en las opciones (u omitiéndola, ya que es la opción por defecto), estamos abriendo el fichero en modo texto. Esto significa que el contenido del fichero se trata e interpreta como texto.\n",
    "\n",
    "Si desea escribir bytes en un fichero, puede abrirlo en modo binario. Este es un requisito habitual cuando se trabaja con ficheros que no sólo contienen texto en bruto, como imágenes, audio/vídeo y, en general, cualquier otro formato propietario.\n",
    "\n",
    "Para manejar ficheros en modo binario, basta con especificar la bandera b al abrirlos, como en el siguiente ejemplo:"
   ]
  },
  {
   "cell_type": "code",
   "execution_count": 13,
   "metadata": {},
   "outputs": [
    {
     "name": "stdout",
     "output_type": "stream",
     "text": [
      "b'Este es un archivo binario...'\n"
     ]
    }
   ],
   "source": [
    "with open('example.bin', 'wb') as fw:\n",
    "    fw.write(b'Este es un archivo binario...')\n",
    "\n",
    "with open('example.bin', 'rb') as f:\n",
    "    print(f.read())"
   ]
  },
  {
   "cell_type": "markdown",
   "metadata": {},
   "source": [
    "Seguimos utilizando texto como datos binarios, por simplicidad, pero podría ser cualquier cosa que quieras. Puedes ver que se trata como binario por el hecho de que obtienes el prefijo b'Este ...' en la salida."
   ]
  },
  {
   "cell_type": "markdown",
   "metadata": {},
   "source": [
    "### Protección contra la sobrescritura de un archivo existente\n",
    "Python nos ofrece la posibilidad de abrir archivos para escribir en ellos. Usando la bandera $w$, abrimos un archivo y truncamos su contenido. Esto significa que el archivo se sobrescribe con un archivo vacío, y el contenido original se pierde. Si sólo desea abrir un archivo para escribir si aún no existe, puede utilizar la bandera $x$ en su lugar, como en el siguiente ejemplo:"
   ]
  },
  {
   "cell_type": "code",
   "execution_count": 18,
   "metadata": {},
   "outputs": [
    {
     "name": "stdout",
     "output_type": "stream",
     "text": [
      "[Errno 17] File exists: 'write_x.txt'\n"
     ]
    }
   ],
   "source": [
    "with open('write_x.txt', 'x') as fw: # esto funciona\n",
    "    fw.write('Escribiendo linea 1')\n",
    "\n",
    "try:\n",
    "    with open('write_x.txt', 'x') as fw: # esto falla\n",
    "        fw.write('Escribiendo linea 2')\n",
    "except Exception as e:\n",
    "    print(e)"
   ]
  },
  {
   "cell_type": "markdown",
   "metadata": {},
   "source": [
    "Al ejecutar el código, encontramos un archivo llamado write_x.txt en su directorio, que contiene una sola línea de texto. De hecho, la segunda parte del fragmento no se ejecuta. Esta es la salida que obtenemos en nuestra consola [Errno 17] File exists: 'write_x.txt'."
   ]
  },
  {
   "cell_type": "markdown",
   "metadata": {},
   "source": [
    "## Comprobación de la existencia de archivos y directorios\n",
    "Si quieres asegurarte de que un archivo o directorio existe (o no), el módulo pathlib es lo que necesitas. Veamos un pequeño ejemplo:"
   ]
  },
  {
   "cell_type": "code",
   "execution_count": 8,
   "metadata": {},
   "outputs": [
    {
     "name": "stdout",
     "output_type": "stream",
     "text": [
      "p.is_file() = True\n",
      "path = WindowsPath('c:/Users/rnico/Documents/Learning_Python/Clase_07_Ficheros_y_Persistencia_de_datos')\n",
      "path.is_dir() = True\n",
      "q.is_dir() = True\n"
     ]
    }
   ],
   "source": [
    "from pathlib import Path\n",
    "p = Path('fear.txt')\n",
    "path = p.parent.absolute()\n",
    "print(f\"{p.is_file() = }\")\n",
    "print(f\"{path = }\")\n",
    "print(f\"{path.is_dir() = }\")\n",
    "q = Path('/Users/rnico/Documents/Proyectos')\n",
    "print(f\"{q.is_dir() = }\")"
   ]
  },
  {
   "cell_type": "markdown",
   "metadata": {},
   "source": [
    "El fragmento anterior es bastante interesante. Creamos un objeto `Path` que configuramos con el nombre del fichero de texto que queremos inspeccionar. Usamos el método `parent()` para recuperar la carpeta en la que está contenido el fichero, y llamamos al método `absolute()` sobre él, para extraer la información de la ruta absoluta.\n",
    "\n",
    "Comprobamos si 'fear.txt' es un fichero, y la carpeta en la que está contenido es efectivamente una carpeta (o directorio, que es equivalente).\n",
    "\n",
    "La forma antigua de realizar estas operaciones era utilizar el módulo os.path de la biblioteca estándar. Mientras que os.path trabaja con cadenas, pathlib ofrece clases que representan rutas del sistema de ficheros con una semántica apropiada para diferentes sistemas operativos. Por lo tanto, sugerimos utilizar pathlib siempre que sea posible, y volver a la antigua forma de hacer las cosas sólo cuando no haya alternativa."
   ]
  },
  {
   "cell_type": "markdown",
   "metadata": {},
   "source": [
    "## Manipulando archivos y directorios\n",
    "Veamos un par de ejemplos rápidos sobre cómo manipular archivos y directorios.\n",
    "\n",
    "El primer ejemplo manipula el contenido:"
   ]
  },
  {
   "cell_type": "code",
   "execution_count": 14,
   "metadata": {},
   "outputs": [
    {
     "name": "stdout",
     "output_type": "stream",
     "text": [
      "[('la', 8), ('de', 7), ('el', 7), ('las', 5)]\n"
     ]
    }
   ],
   "source": [
    "from collections import Counter\n",
    "from string import ascii_letters\n",
    "\n",
    "chars = ascii_letters + ' '\n",
    "\n",
    "def sanitize(s, chars):\n",
    "    return ''.join(c for c in s if c in chars)\n",
    "\n",
    "def reverse(s):\n",
    "    return s[::-1]\n",
    "\n",
    "with open('fear.txt', encoding='utf-8') as stream:\n",
    "    lines = [line.rstrip() for line in stream]\n",
    "\n",
    "# escribamos la versión reflejada del archivo\n",
    "with open('raef.txt', 'w', encoding='utf-8') as stream:\n",
    "    stream.write('\\n'.join(reverse(line) for line in lines))\n",
    "\n",
    "# ahora podemos calcular algunas estadísticas\n",
    "lines = [sanitize(line, chars) for line in lines]\n",
    "whole = ' '.join(lines)\n",
    "\n",
    "# realizamos comparaciones con la versión minúscula de «whole».\n",
    "cnt = Counter(whole.lower().split())\n",
    "\n",
    "# podemos imprimir las N palabras más comunes\n",
    "print(cnt.most_common(4))"
   ]
  },
  {
   "cell_type": "markdown",
   "metadata": {},
   "source": [
    "En este ejemplo se han definido dos funciones: `sanitize()` y `reverse()`. Son funciones simples cuyo propósito es eliminar cualquier cosa que no sea una letra o un espacio de una cadena, y producir la copia invertida de una cadena, respectivamente.\n",
    "\n",
    "Abrimos `fear.txt` y leemos su contenido en una lista. Luego se crea un nuevo fichero, `raef.txt`, que contendrá la versión invertida horizontalmente del original. Escribimos todo el contenido de las líneas con una sola operación, usando `join` sobre un carácter de nueva línea. Quizá sea más interesante la parte del final. Primero, reasignamos las líneas a una versión saneada de sí misma mediante una comprensión de lista. Luego juntamos las líneas en la cadena completa, y finalmente, pasamos el resultado a un objeto `Counter`. Observe que dividimos la versión en minúsculas de la cadena en una lista de palabras. De esta forma, cada palabra será contada correctamente, independientemente de su mayúscula o minúscula, y, gracias a `split()`, no tenemos que preocuparnos de espacios extra en ningún sitio. Cuando imprimimos las cuatras palabras más comunes, nos damos cuenta de que la palabra más común del texto es $\"la\"$.\n",
    "\n",
    "Veamos ahora un ejemplo de manipulación más orientado a operaciones de disco, en el que ponemos en uso el módulo `shutil`:"
   ]
  },
  {
   "cell_type": "code",
   "execution_count": 15,
   "metadata": {},
   "outputs": [
    {
     "data": {
      "text/plain": [
       "WindowsPath('ops_example/A/D/ex1.renamed.txt')"
      ]
     },
     "execution_count": 15,
     "metadata": {},
     "output_type": "execute_result"
    }
   ],
   "source": [
    "import shutil\n",
    "from pathlib import Path\n",
    "\n",
    "base_path = Path('ops_example')\n",
    "\n",
    "# vamos a realizar una limpieza inicial por si acaso\n",
    "if base_path.exists() and base_path.is_dir():\n",
    "    shutil.rmtree(base_path)\n",
    "\n",
    "# creamos el directorio\n",
    "base_path.mkdir()\n",
    "path_b = base_path / 'A' / 'B'\n",
    "path_c = base_path / 'A' / 'C'\n",
    "path_d = base_path / 'A' / 'D'\n",
    "path_b.mkdir(parents=True)\n",
    "path_c.mkdir()  # ya no son necesarios los padres, puesto que se ha creado «A»\n",
    "\n",
    "# añadimos tres archivos en 'ops_example/A/B'\n",
    "for filename in ('ex1.txt', 'ex2.txt', 'ex3.txt'):\n",
    "    with open(path_b / filename, 'w') as stream:\n",
    "        stream.write(f'Some content here in {filename}\\n')\n",
    "shutil.move(path_b, path_d)\n",
    "\n",
    "# también podemos renombrar archivos\n",
    "ex1 = path_d / 'ex1.txt'\n",
    "ex1.rename(ex1.parent / 'ex1.renamed.txt')"
   ]
  },
  {
   "cell_type": "markdown",
   "metadata": {},
   "source": [
    "En el código anterior, comenzamos declarando una ruta base, que contendrá de forma segura todos los archivos y carpetas que vamos a crear. Luego usamos `mkdir()` para crear dos directorios: `ops_example/A/B` y `ops_example/A/C`. Observa que no necesitamos especificar `parents=True` cuando llamamos a `path_c.mkdir()`, ya que todos los padres ya han sido creados por la llamada anterior en `path_b`.\n",
    "\n",
    "Usamos el operador `\"/\"` para concatenar nombres de directorio; `pathlib` se encarga de usar el separador de ruta correcto por nosotros, entre bastidores.\n",
    "\n",
    "Después de crear los directorios, utilizamos un simple bucle `for` para crear tres ficheros en el directorio B. A continuación, movemos el directorio B y su contenido a un nombre diferente: D. Y finalmente, renombramos **ex1.txt** a **ex1.renamed.txt**. Si abres ese fichero, verás que todavía contiene el texto original de la lógica del bucle `for`."
   ]
  },
  {
   "cell_type": "markdown",
   "metadata": {},
   "source": [
    "### Manipulación de nombres de ruta\n",
    "Exploremos un poco más las capacidades de pathlib mediante un sencillo ejemplo:"
   ]
  },
  {
   "cell_type": "code",
   "execution_count": 16,
   "metadata": {},
   "outputs": [
    {
     "name": "stdout",
     "output_type": "stream",
     "text": [
      "p.absolute() = WindowsPath('c:/Users/rnico/Documents/Learning_Python/Clase_07_Ficheros_y_Persistencia_de_datos/fear.txt')\n",
      "p.name = 'fear.txt'\n",
      "p.parent.absolute() = WindowsPath('c:/Users/rnico/Documents/Learning_Python/Clase_07_Ficheros_y_Persistencia_de_datos')\n",
      "p.suffix = '.txt'\n",
      "p.parts = ('fear.txt',)\n",
      "p.absolute().parts = ('c:\\\\', 'Users', 'rnico', 'Documents', 'Learning_Python', 'Clase_07_Ficheros_y_Persistencia_de_datos', 'fear.txt')\n",
      "readme_path.absolute() = WindowsPath('c:/Users/rnico/Documents/Learning_Python/Clase_07_Ficheros_y_Persistencia_de_datos/../../README.rst')\n",
      "readme_path.resolve() = WindowsPath('C:/Users/rnico/Documents/README.rst')\n"
     ]
    }
   ],
   "source": [
    "from pathlib import Path\n",
    "\n",
    "p = Path('fear.txt')\n",
    "print(f\"{p.absolute() = }\")\n",
    "print(f\"{p.name = }\")\n",
    "print(f\"{p.parent.absolute() = }\")\n",
    "print(f\"{p.suffix = }\")\n",
    "print(f\"{p.parts = }\")\n",
    "print(f\"{p.absolute().parts = }\")\n",
    "\n",
    "readme_path = p.parent / '..' / '..' / 'README.rst'\n",
    "print(f\"{readme_path.absolute() = }\")\n",
    "print(f\"{readme_path.resolve() = }\")"
   ]
  },
  {
   "cell_type": "markdown",
   "metadata": {},
   "source": [
    "Observe cómo, en las dos últimas líneas, tenemos dos representaciones diferentes de la misma ruta. La primera (`readme_path.absolute()`) muestra dos `'..'`, una sola de las cuales, en términos de ruta, indica el cambio a la carpeta padre. Así, cambiando a la carpeta padre dos veces seguidas, de .../Documents/Learning_Python/ volvemos a .../Documents/. Esto se confirma en la última línea del ejemplo, que muestra la salida de readme_path.resolve()."
   ]
  },
  {
   "cell_type": "markdown",
   "metadata": {},
   "source": [
    "## Archivos y directorios temporales\n",
    "A veces, es muy útil poder crear un directorio o archivo temporal al ejecutar algún código. Por ejemplo, cuando escribes pruebas que afectan al disco, puedes utilizar ficheros y directorios temporales para ejecutar tu lógica y afirmar que es correcta, y para asegurarte de que al final de la ejecución de la prueba, la carpeta de pruebas no tiene restos. Veamos cómo hacerlo en Python:"
   ]
  },
  {
   "cell_type": "code",
   "execution_count": 18,
   "metadata": {},
   "outputs": [
    {
     "name": "stdout",
     "output_type": "stream",
     "text": [
      "Temp directory: c:\\Users\\rnico\\Documents\\Learning_Python\\Clase_07_Ficheros_y_Persistencia_de_datos\\tmp5pctr8q2\n",
      "c:\\Users\\rnico\\Documents\\Learning_Python\\Clase_07_Ficheros_y_Persistencia_de_datos\\tmp5pctr8q2\\tmpwech_qbd\n"
     ]
    }
   ],
   "source": [
    "from tempfile import NamedTemporaryFile, TemporaryDirectory\n",
    "\n",
    "with TemporaryDirectory(dir='.') as td:\n",
    "    print('Temp directory:', td)\n",
    "    with NamedTemporaryFile(dir=td) as t:\n",
    "        name = t.name\n",
    "        print(name)"
   ]
  },
  {
   "cell_type": "markdown",
   "metadata": {},
   "source": [
    "El ejemplo anterior es bastante sencillo: creamos un directorio temporal en el actual («.»), y creamos en él un fichero temporal con nombre. Imprimimos el nombre del fichero, así como su ruta completa; además, tener en cuenta que la ejecución de este script producirá un resultado diferente cada vez."
   ]
  },
  {
   "cell_type": "markdown",
   "metadata": {},
   "source": [
    "## Contenido del directorio\n",
    "Con Python, también puedes inspeccionar el contenido de un directorio. Te mostraremos dos formas de hacerlo. Esta es la primera:"
   ]
  },
  {
   "cell_type": "code",
   "execution_count": 19,
   "metadata": {},
   "outputs": [
    {
     "name": "stdout",
     "output_type": "stream",
     "text": [
      "File: example.bin\n",
      "File: fear.txt\n",
      "File: fear_copy.txt\n",
      "Folder: ops_example\n",
      "File: print_example.txt\n",
      "File: raef.txt\n",
      "File: Sesion_07.ipynb\n",
      "File: write_x.txt\n"
     ]
    }
   ],
   "source": [
    "from pathlib import Path\n",
    "p = Path('.')\n",
    "for entry in p.glob('*'):\n",
    "    print('File:' if entry.is_file() else 'Folder:', entry)"
   ]
  },
  {
   "cell_type": "markdown",
   "metadata": {},
   "source": [
    "Este fragmento utiliza el método `glob()` de un objeto `Path`, aplicado desde el directorio actual. Iteramos sobre los resultados, cada uno de los cuales es una instancia de una subclase de `Path` (`PosixPath` o `WindowsPath`, según el Sistema Operativo que estemos ejecutando). Para cada entrada, inspeccionamos si es un directorio, e imprimimos el resultado.\n",
    "\n",
    "Una forma alternativa de escanear un árbol de directorios es mediante `os.walk`. Veamos un ejemplo:"
   ]
  },
  {
   "cell_type": "code",
   "execution_count": 20,
   "metadata": {},
   "outputs": [
    {
     "name": "stdout",
     "output_type": "stream",
     "text": [
      "c:\\Users\\rnico\\Documents\\Learning_Python\\Clase_07_Ficheros_y_Persistencia_de_datos\n",
      "Directories:\n",
      "ops_example\n",
      "\n",
      "Files:\n",
      "example.bin\n",
      "fear.txt\n",
      "fear_copy.txt\n",
      "print_example.txt\n",
      "raef.txt\n",
      "Sesion_07.ipynb\n",
      "write_x.txt\n",
      "\n",
      "c:\\Users\\rnico\\Documents\\Learning_Python\\Clase_07_Ficheros_y_Persistencia_de_datos\\ops_example\n",
      "Directories:\n",
      "A\n",
      "\n",
      "c:\\Users\\rnico\\Documents\\Learning_Python\\Clase_07_Ficheros_y_Persistencia_de_datos\\ops_example\\A\n",
      "Directories:\n",
      "C\n",
      "D\n",
      "\n",
      "c:\\Users\\rnico\\Documents\\Learning_Python\\Clase_07_Ficheros_y_Persistencia_de_datos\\ops_example\\A\\C\n",
      "c:\\Users\\rnico\\Documents\\Learning_Python\\Clase_07_Ficheros_y_Persistencia_de_datos\\ops_example\\A\\D\n",
      "Files:\n",
      "ex1.renamed.txt\n",
      "ex2.txt\n",
      "ex3.txt\n",
      "\n"
     ]
    }
   ],
   "source": [
    "import os\n",
    "\n",
    "for root, dirs, files in os.walk('.'):\n",
    "    abs_root = os.path.abspath(root)\n",
    "    print(abs_root)\n",
    "\n",
    "    if dirs:\n",
    "        print('Directories:')\n",
    "        for dir_ in dirs:\n",
    "            print(dir_)\n",
    "        print()\n",
    "\n",
    "    if files:\n",
    "        print('Files:')\n",
    "        for filename in files:\n",
    "            print(filename)\n",
    "        print()"
   ]
  },
  {
   "cell_type": "markdown",
   "metadata": {},
   "source": [
    "La ejecución del fragmento anterior producirá una lista de todos los archivos y directorios del actual, y hará lo mismo para cada subdirectorio."
   ]
  },
  {
   "cell_type": "markdown",
   "metadata": {},
   "source": [
    "## Compresión de archivos y directorios\n",
    "Veamos un ejemplo de cómo crear un archivo comprimido. Python te permite crear archivos comprimidos de varias formas y formatos diferentes. Aquí, vamos a mostrarte cómo crear el más común, ZIP:"
   ]
  },
  {
   "cell_type": "code",
   "execution_count": 22,
   "metadata": {},
   "outputs": [],
   "source": [
    "from zipfile import ZipFile\n",
    "import os\n",
    "\n",
    "# Crear la carpeta 'subfolder' si no existe\n",
    "if not os.path.exists('subfolder'):\n",
    "    os.makedirs('subfolder')\n",
    "\n",
    "# Archivos de prueba\n",
    "with open('content1.txt', 'w') as f:\n",
    "    f.write(\"Este es el contenido del archivo 1.\")\n",
    "\n",
    "with open('content2.txt', 'w') as f:\n",
    "    f.write(\"Este es el contenido del archivo 2.\")\n",
    "\n",
    "# Crear los archivos en la carpeta 'subfolder'\n",
    "with open('subfolder/content3.txt', 'w') as f:\n",
    "    f.write(\"Este es el contenido del archivo 3 en la subcarpeta.\")\n",
    "\n",
    "with open('subfolder/content4.txt', 'w') as f:\n",
    "    f.write(\"Este es el contenido del archivo 4 en la subcarpeta.\")\n",
    "\n",
    "\n",
    "with ZipFile('example.zip', 'w') as zp:\n",
    "    zp.write('content1.txt')\n",
    "    zp.write('content2.txt')\n",
    "    zp.write('subfolder/content3.txt')\n",
    "    zp.write('subfolder/content4.txt')\n",
    "\n",
    "with ZipFile('example.zip') as zp:\n",
    "    zp.extract('content1.txt', 'extract_zip')\n",
    "    zp.extract('subfolder/content3.txt', 'extract_zip')"
   ]
  },
  {
   "cell_type": "markdown",
   "metadata": {},
   "source": [
    "En el código anterior, importamos `ZipFile` y, luego, dentro de un gestor de contexto, escribimos en él cuatro archivos (dos de los cuales están en una subcarpeta, para mostrar cómo ZIP conserva la ruta completa). Después, a modo de ejemplo, abrimos el archivo comprimido y extraemos de él un par de ficheros al directorio `extract_zip`."
   ]
  },
  {
   "cell_type": "markdown",
   "metadata": {},
   "source": [
    "# Formatos de intercambio de datos\n",
    "La arquitectura de software moderna tiende a dividir una aplicación en varios componentes. Tanto si adopta el paradigma de la arquitectura orientada a servicios como si lo lleva aún más lejos en el ámbito de los microservicios, estos componentes tendrán que intercambiar datos. Pero incluso si está codificando una aplicación monolítica cuya base de código está contenida en un proyecto, lo más probable es que todavía tenga que intercambiar datos con API, otros programas, o simplemente manejar el flujo de datos entre las partes frontend y backend de su sitio web, que muy probablemente no hablen el mismo idioma.\n",
    "\n",
    "Elegir el formato adecuado para intercambiar información es crucial. Un formato específico del lenguaje tiene la ventaja de que el lenguaje en sí es muy probable que le proporcione todas las herramientas para hacer la serialización y deserialización de una brisa. Sin embargo, perderás la capacidad de comunicarte con otros componentes que hayan sido escritos en versiones diferentes del mismo lenguaje, o en lenguajes completamente diferentes. Independientemente de cómo sea el futuro, sólo se debería optar por un formato específico para un idioma si es la única opción posible para una situación determinada.\n",
    "\n",
    "Según Wikipedia (https://en.wikipedia.org/wiki/Serialization):\n",
    "En informática, la serialización es el proceso de traducir una estructura de datos o el estado de un objeto a un formato que pueda almacenarse (por ejemplo, en un archivo o en un búfer de datos de memoria) o transmitirse (por ejemplo, a través de una red informática) y reconstruirse más tarde (posiblemente en un entorno informático diferente).\n",
    "\n",
    "Un enfoque mucho mejor es elegir un formato que sea agnóstico con respecto al idioma y que pueda ser utilizado por todos los idiomas (o al menos por la mayoría). \n",
    "\n",
    "En el mundo del software, algunos formatos populares se han convertido en la norma de facto para el intercambio de datos. Los más famosos son probablemente XML, YAML y JSON. La biblioteca estándar de Python incluye los módulos xml y json y, en PyPI (https://pypi.org/), puedes encontrar algunos paquetes diferentes para trabajar con YAML. \n",
    "\n",
    "En el entorno Python, JSON es quizás el más utilizado. Gana a los otros dos por ser parte de la librería estándar, y por su simplicidad. Si alguna vez has trabajado con XML, sabes la pesadilla que puede llegar a ser.\n",
    "\n",
    "Además, cuando se trabaja con una base de datos como PostgreSQL, la posibilidad de utilizar campos JSON nativos constituye un argumento de peso para adoptar también JSON en la aplicación."
   ]
  },
  {
   "cell_type": "markdown",
   "metadata": {},
   "source": [
    "### Trabajando con JSON\n",
    "JSON es el acrónimo de JavaScript Object Notation, y es un subconjunto del lenguaje JavaScript. Existe desde hace casi dos décadas, por lo que es bien conocido y ampliamente adoptado por la mayoría de los lenguajes, aunque en realidad es independiente del lenguaje. Puedes leer todo sobre él en su página web (https://www.json.org/).\n",
    "\n",
    "JSON se basa en dos estructuras: una colección de pares nombre/valor y una lista ordenada de valores. Es bastante sencillo darse cuenta de que estos dos objetos son similares con los tipos de datos dict y list de Python, respectivamente. Como tipos de datos, JSON ofrece cadenas, números, objetos y valores que consisten en verdadero, falso y nulo. Veamos un ejemplo rápido para empezar:"
   ]
  },
  {
   "cell_type": "code",
   "execution_count": 1,
   "metadata": {},
   "outputs": [],
   "source": [
    "import sys\n",
    "import json\n",
    "\n",
    "data = {\n",
    "    'big_number': 2 ** 3141,\n",
    "    'max_float': sys.float_info.max,\n",
    "    'a_list': [2, 3, 5, 7],\n",
    "}\n",
    "\n",
    "json_data = json.dumps(data)\n",
    "data_out = json.loads(json_data)\n",
    "assert data == data_out # json and back, data matches"
   ]
  },
  {
   "cell_type": "markdown",
   "metadata": {},
   "source": [
    "Comenzamos importando los módulos `sys` y `json`. Luego creamos un diccionario simple con algunos valores númericos y una lista. En este ejemplo, estamos probando la serialización y deserialización usando números muy grandes, tanto int como float, así que ponemos 23141 y lo que sea el mayor número en coma flotante que nuestro sistema pueda manejar.\n",
    "\n",
    "Serializamos con `json.dumps()`, que toma los datos y los convierte en una cadena con formato `JSON`. Esos datos se introducen en `json.loads()`, que hace lo contrario: a partir de una cadena con formato `JSON`, reconstruye los datos en Python. En la última línea, nos aseguramos de que los datos originales y el resultado de la serialización/deserialización a través de JSON coinciden.\n",
    "\n",
    "Veamos qué aspecto tendrían los datos `JSON` si los imprimiéramos:"
   ]
  },
  {
   "cell_type": "code",
   "execution_count": 6,
   "metadata": {},
   "outputs": [
    {
     "name": "stdout",
     "output_type": "stream",
     "text": [
      "{\n",
      "  \"address\": {\n",
      "    \"city\": \"London\",\n",
      "    \"country\": \"UK\",\n",
      "    \"street\": \"221B Baker St\",\n",
      "    \"zip\": \"NW1 6XE\"\n",
      "  },\n",
      "  \"full_name\": \"Sherlock Holmes\"\n",
      "}\n"
     ]
    }
   ],
   "source": [
    "import json\n",
    "info = {\n",
    "    'full_name': 'Sherlock Holmes',\n",
    "    'address': {\n",
    "        'street': '221B Baker St',\n",
    "        'zip': 'NW1 6XE',\n",
    "        'city': 'London',\n",
    "        'country': 'UK',\n",
    "    }\n",
    "}\n",
    "print(json.dumps(info, indent=2, sort_keys=True))"
   ]
  },
  {
   "cell_type": "markdown",
   "metadata": {},
   "source": [
    "En este ejemplo, creamos un diccionario con los datos de Sherlock Holmes. Además, nos podemos dar cuenta de cómo llamamos a `json.dumps`. Le hemos dicho que haga sangría con dos espacios, y que ordene las claves alfabéticamente.\n",
    "\n",
    "La similitud con Python es evidente. La única diferencia es que si colocas una coma en el último elemento de un diccionario, como es habitual en Python, JSON se quejará.\n",
    "\n",
    "Veamos algo interesante:"
   ]
  },
  {
   "cell_type": "code",
   "execution_count": 7,
   "metadata": {},
   "outputs": [
    {
     "name": "stdout",
     "output_type": "stream",
     "text": [
      "json_data = '{\"a_tuple\": [1, 2, 3, 4, 5]}'\n",
      "data_out = {'a_tuple': [1, 2, 3, 4, 5]}\n"
     ]
    }
   ],
   "source": [
    "import json\n",
    "data_in = {\n",
    "    'a_tuple': (1, 2, 3, 4, 5),\n",
    "}\n",
    "json_data = json.dumps(data_in)\n",
    "print(f\"{json_data = }\")\n",
    "data_out = json.loads(json_data)\n",
    "print(f\"{data_out = }\")"
   ]
  },
  {
   "cell_type": "markdown",
   "metadata": {},
   "source": [
    "En este ejemplo, hemos utilizado una tupla en lugar de una lista. Lo interesante es que, conceptualmente, una tupla es también una lista ordenada de elementos. No tiene la flexibilidad de una lista, pero aún así, se considera lo mismo desde la perspectiva de JSON. Por lo tanto, como se puede ver por la primera impresión, en JSON una tupla se transforma en una lista. Naturalmente entonces, la información de que el objeto original era una tupla se pierde, y cuando ocurre la deserialización, `a_tupla` es en realidad traducida a una lista Python. Es importante que tengas esto en cuenta cuando trates con datos, ya que pasar por un proceso de transformación que implica un formato que sólo comprende un subconjunto de las estructuras de datos que puedes usar implica que puede haber pérdida de información. En este caso, hemos perdido la información sobre el tipo (tupla frente a lista).\n",
    "\n",
    "En realidad, se trata de un problema habitual. Por ejemplo, no puedes serializar todos los objetos Python a JSON, ya que no siempre está claro cómo JSON debe revertir ese objeto. Piensa en `datetime`, por ejemplo. Una instancia de esa clase es un objeto Python que JSON no podrá serializar. Si lo transformamos en una cadena como $2018-03-04T12:00:30Z$, que es la representación ISO 8601 de una fecha con información de hora y zona horaria, JSON tendría limitaciones ya que cuando se trata de intercambio de datos, a menudo necesitamos transformar nuestros objetos a un formato más simple antes de serializarlos con JSON. Cuanto más consigamos simplificar nuestros datos, más fácil será representarlos en un formato como JSON.\n",
    "\n",
    "En algunos casos, sin embargo, y sobre todo para uso interno, es útil poder serializar objetos personalizados, así que vamos a mostrarte cómo con dos ejemplos: números complejos y objetos datetime."
   ]
  },
  {
   "cell_type": "markdown",
   "metadata": {},
   "source": [
    "#### Codificación/decodificación personalizada con JSON\n",
    "En el mundo JSON, podemos considerar términos como codificación/decodificación como sinónimos de serialización/deserialización. En el siguiente ejemplo, vamos a aprender cómo codificar números complejos - que no son serializables a JSON por defecto - escribiendo un codificador personalizado:"
   ]
  },
  {
   "cell_type": "code",
   "execution_count": 9,
   "metadata": {},
   "outputs": [
    {
     "name": "stdout",
     "output_type": "stream",
     "text": [
      "ComplexEncoder.default: obj=(3+4j)\n",
      "json_data = '{\"an_int\": 42, \"a_float\": 3.14159265, \"a_complex\": {\"_meta\": \"_complex\", \"num\": [3.0, 4.0]}}'\n",
      "object_hook: obj={'_meta': '_complex', 'num': [3.0, 4.0]}\n",
      "object_hook: obj={'an_int': 42, 'a_float': 3.14159265, 'a_complex': (3+4j)}\n",
      "data_out = {'an_int': 42, 'a_float': 3.14159265, 'a_complex': (3+4j)}\n"
     ]
    }
   ],
   "source": [
    "import json\n",
    "\n",
    "class ComplexEncoder(json.JSONEncoder):\n",
    "    def default(self, obj):\n",
    "        \n",
    "        print(f\"ComplexEncoder.default: {obj=}\")\n",
    "        if isinstance(obj, complex):\n",
    "            return {\n",
    "                '_meta': '_complex',\n",
    "                'num': [obj.real, obj.imag],\n",
    "            }\n",
    "        return super().default(obj)\n",
    "\n",
    "data = {\n",
    "    'an_int': 42,\n",
    "    'a_float': 3.14159265,\n",
    "    'a_complex': 3 + 4j,\n",
    "}\n",
    "\n",
    "json_data = json.dumps(data, cls=ComplexEncoder)\n",
    "print(f\"{json_data = }\")\n",
    "\n",
    "def object_hook(obj):\n",
    "    print(f\"object_hook: {obj=}\")\n",
    "    try:\n",
    "        if obj['_meta'] == '_complex':\n",
    "            return complex(*obj['num'])\n",
    "    except KeyError:\n",
    "        return obj\n",
    "\n",
    "data_out = json.loads(json_data, object_hook=object_hook)\n",
    "print(f\"{data_out = }\")"
   ]
  },
  {
   "cell_type": "markdown",
   "metadata": {},
   "source": [
    "Comenzamos definiendo una clase `ComplexEncoder` como subclase de la clase `JSONEncoder`. Nuestra clase sobrescribe el método por defecto. Este método es llamado cada vez que el codificador encuentra un objeto que no puede codificar y se espera que devuelva una representación codificable de ese objeto.\n",
    "\n",
    "Nuestro método `default()` comprueba si su argumento es un objeto complejo, en cuyo caso devuelve un diccionario con alguna meta información personalizada, y una lista que contiene tanto la parte real como la imaginaria del número. Eso es todo lo que tenemos que hacer para evitar perder la información de un número complejo. Si recibimos cualquier cosa que no sea una instancia de complex, llamamos al método `default()` de la clase padre, que simplemente lanza un `TypeError`. A continuación llamamos a `json.dumps()`, pero esta vez utilizamos el argumento `cls` para especificar nuestro codificador personalizado.\n",
    "\n",
    "La mitad del trabajo está hecho. Para la parte de deserialización, podríamos haber escrito otra clase que heredara de `JSONDecoder`, pero en su lugar hemos optado por utilizar una técnica diferente que es más sencilla y utiliza una pequeña función: `object_hook`.\n",
    "\n",
    "Dentro del cuerpo de `object_hook()`, encontramos un bloque `try`. La parte importante son las dos líneas dentro del cuerpo del propio bloque `try`. La función recibe un objeto (observe que la función sólo se llama cuando `obj` es un diccionario), y si los metadatos coinciden con nuestra convención para números complejos, pasamos las partes real e imaginaria a la función `complex()`. El bloque `try/except` está ahí porque nuestra función será llamada para cada objeto diccionario que sea decodificado, así que necesitamos manejar el caso en el que nuestra clave _meta no esté presente. \n",
    "\n",
    "Puedes ver que `a_complex` se ha deserializado correctamente en el ejercicio anterior.\n",
    "\n",
    "Consideremos ahora un ejemplo un poco más complejo: tratar con objetos `datetime`. Vamos a dividir el código en dos bloques, primero la parte de serialización y luego la de deserialización:"
   ]
  },
  {
   "cell_type": "code",
   "execution_count": 10,
   "metadata": {},
   "outputs": [
    {
     "name": "stdout",
     "output_type": "stream",
     "text": [
      "json_data = '{\"an_int\": 42, \"a_float\": 3.14159265, \"a_datetime\": {\"_meta\": \"_datetime\", \"data\": [2024, 9, 14, 18, 46, 31, 903758], \"utcoffset\": null}, \"a_datetime_tz\": {\"_meta\": \"_datetime\", \"data\": [2024, 9, 15, 0, 46, 31, 903758], \"utcoffset\": 3600}}'\n"
     ]
    }
   ],
   "source": [
    "import json\n",
    "from datetime import datetime, timedelta, timezone\n",
    "\n",
    "now = datetime.now()\n",
    "now_tz = datetime.now(tz=timezone(timedelta(hours=1)))\n",
    "\n",
    "class DatetimeEncoder(json.JSONEncoder):\n",
    "    def default(self, obj):\n",
    "        if isinstance(obj, datetime):\n",
    "            try:\n",
    "                off = obj.utcoffset().seconds\n",
    "            except AttributeError:\n",
    "                off = None\n",
    "            \n",
    "            return {\n",
    "                '_meta': '_datetime',\n",
    "                'data': obj.timetuple()[:6] + (obj.microsecond, ),\n",
    "                'utcoffset': off,\n",
    "            }\n",
    "        \n",
    "        return super().default(obj)\n",
    "\n",
    "data = {\n",
    "    'an_int': 42,\n",
    "    'a_float': 3.14159265,\n",
    "    'a_datetime': now,\n",
    "    'a_datetime_tz': now_tz,\n",
    "}\n",
    "\n",
    "json_data = json.dumps(data, cls=DatetimeEncoder)\n",
    "print(f\"{json_data = }\")"
   ]
  },
  {
   "cell_type": "markdown",
   "metadata": {},
   "source": [
    "La razón por la que este ejemplo es ligeramente más complejo reside en el hecho de que los objetos `datetime` en Python pueden tener en cuenta la zona horaria o no; por lo tanto, tenemos que ser más cuidadosos. El flujo es el mismo que antes, sólo que estamos tratando con un tipo de datos diferente. Comenzamos obteniendo la información de la fecha y hora actuales, y lo hacemos tanto sin (`now`) como con (`now_tz`) conocimiento de la zona horaria, sólo para asegurarnos de que nuestro script funciona. Luego procedemos a definir un codificador personalizado como antes, sobrescribiendo el método `default()`. Lo importante en ese método es cómo obtenemos la información de la zona horaria (off), en segundos, y cómo estructuramos el diccionario que devuelve los datos. Esta vez, los metadatos dicen que es información de fecha y hora. Guardamos los seis primeros elementos de la tupla de tiempo (año, mes, día, hora, minuto y segundo), más los microsegundos en la clave de datos, y el desfase después de eso.\n",
    "\n",
    "Cuando tenemos nuestro codificador personalizado, procedemos a crear algunos datos, y luego serializamos.\n",
    "\n",
    "Curiosamente, descubrimos que `None` se traduce a `null`, su equivalente en JavaScript. Además, podemos ver que nuestros datos parecen haber sido codificados correctamente. Procedamos con la segunda parte del script:"
   ]
  },
  {
   "cell_type": "code",
   "execution_count": 12,
   "metadata": {},
   "outputs": [
    {
     "name": "stdout",
     "output_type": "stream",
     "text": [
      "data_out = {'an_int': 42, 'a_float': 3.14159265, 'a_datetime': datetime.datetime(2024, 9, 14, 18, 46, 31, 903758), 'a_datetime_tz': datetime.datetime(2024, 9, 15, 0, 46, 31, 903758, tzinfo=datetime.timezone(datetime.timedelta(seconds=3600)))}\n"
     ]
    }
   ],
   "source": [
    "def object_hook(obj):\n",
    "    try:\n",
    "        if obj['_meta'] == '_datetime':\n",
    "            if obj['utcoffset'] is None:\n",
    "                tz = None\n",
    "            else:\n",
    "                tz = timezone(timedelta(seconds=obj['utcoffset']))\n",
    "            return datetime(*obj['data'], tzinfo=tz)\n",
    "    except KeyError:\n",
    "        return obj\n",
    "data_out = json.loads(json_data, object_hook=object_hook)\n",
    "print(f\"{data_out = }\")"
   ]
  },
  {
   "cell_type": "markdown",
   "metadata": {},
   "source": [
    "Una vez más, primero verificamos que los metadatos nos indican que se trata de una fecha y hora y, a continuación, obtenemos la información sobre la zona horaria. Una vez que tenemos eso, pasamos la tupla (usando * para descomprimir sus valores en la llamada) y la información de la zona horaria a la llamada `datetime()`, obteniendo de vuelta nuestro objeto original."
   ]
  },
  {
   "cell_type": "markdown",
   "metadata": {},
   "source": [
    "# I/O, flujos y peticiones\n",
    "I/O son las siglas de input/output, y en términos generales se refiere a la comunicación entre un ordenador y el mundo exterior. Hay varios tipos diferentes de I/O, y está fuera del alcance de esta sesión explicarlos todos, pero vale la pena repasar un par de ejemplos. El primero introducirá la clase `io.StringIO`, que es un flujo en memoria para I/O de texto. El segundo en cambio escapará a la localidad de nuestro ordenador, y demostrará cómo realizar una petición HTTP."
   ]
  },
  {
   "cell_type": "markdown",
   "metadata": {},
   "source": [
    "## Utilización de un flujo en memoria\n",
    "Los objetos en memoria pueden ser útiles en multitud de situaciones. La memoria es mucho más rápida que un disco, siempre está disponible, y para pequeñas cantidades de datos puede ser la elección perfecta.\n",
    "\n",
    "Veamos el primer ejemplo:"
   ]
  },
  {
   "cell_type": "code",
   "execution_count": 15,
   "metadata": {},
   "outputs": [
    {
     "name": "stdout",
     "output_type": "stream",
     "text": [
      "Aprendiendo a programar en Python.\n",
      "Conviértete en un ninja de Python!\n",
      "\n"
     ]
    }
   ],
   "source": [
    "import io\n",
    "stream = io.StringIO()\n",
    "stream.write('Aprendiendo a programar en Python.\\n')\n",
    "print('Conviértete en un ninja de Python!', file=stream)\n",
    "contents = stream.getvalue()\n",
    "print(contents)\n",
    "stream.close()"
   ]
  },
  {
   "cell_type": "markdown",
   "metadata": {},
   "source": [
    "En el fragmento de código anterior, importamos el módulo `io` de la biblioteca estándar. Este es un módulo muy interesante que cuenta con muchas herramientas relacionadas con flujos e I/O. Una de ellas es `StringIO`, que es un buffer en memoria en el que vamos a escribir dos sentencias, utilizando dos métodos diferentes. Podemos llamar a `StringIO.write()` o podemos usar `print`, indicándole que dirija los datos a nuestro stream.\n",
    "\n",
    "Llamando a `getvalue()`, podemos obtener el contenido del `stream`. Luego procedemos a imprimirlo, y finalmente lo cerramos. La llamada a `close()` hace que el buffer de texto sea descartado inmediatamente.\n",
    "\n",
    "Hay una forma más elegante de escribir el código anterior usando un gestor de contexto:"
   ]
  },
  {
   "cell_type": "code",
   "execution_count": 17,
   "metadata": {},
   "outputs": [
    {
     "name": "stdout",
     "output_type": "stream",
     "text": [
      "Aprendiendo a programar en Python.\n",
      "Conviértete en un ninja de Python!\n",
      "\n"
     ]
    }
   ],
   "source": [
    "with io.StringIO() as stream:\n",
    "    stream.write('Aprendiendo a programar en Python.\\n')\n",
    "    print('Conviértete en un ninja de Python!', file=stream)\n",
    "    contents = stream.getvalue()\n",
    "    print(contents)"
   ]
  },
  {
   "cell_type": "markdown",
   "metadata": {},
   "source": [
    "## Realizar peticiones HTTP\n",
    "En esta sección, exploraremos dos ejemplos sobre peticiones HTTP. Usaremos la librería `requests` para estos ejemplos, la cual puedes instalar con pip.\n",
    "\n",
    "Vamos a realizar peticiones HTTP a la API httpbin.org (http://httpbin.org/), que, curiosamente, fue desarrollada por Kenneth Reitz, el creador de la propia librería requests.\n",
    "\n",
    "Esta librería está entre las más adoptadas en todo el mundo:"
   ]
  },
  {
   "cell_type": "code",
   "execution_count": 19,
   "metadata": {},
   "outputs": [
    {
     "name": "stdout",
     "output_type": "stream",
     "text": [
      "Response for get\n",
      "{'args': {'t': 'learn python programming'}, 'headers': {'Accept': '*/*', 'Accept-Encoding': 'gzip, deflate', 'Host': 'httpbin.org', 'User-Agent': 'python-requests/2.32.3', 'X-Amzn-Trace-Id': 'Root=1-66e626a2-2f7ebd1431e75d7e2e41270a'}, 'origin': '38.250.152.202', 'url': 'https://httpbin.org/get?t=learn+python+programming'}\n",
      "----------------------------------------\n",
      "Response for headers\n",
      "{'headers': {'Accept': '*/*', 'Accept-Encoding': 'gzip, deflate', 'Host': 'httpbin.org', 'User-Agent': 'python-requests/2.32.3', 'X-Amzn-Trace-Id': 'Root=1-66e626a2-42b1ffaf416c747f37be6f5b'}}\n",
      "----------------------------------------\n",
      "Response for ip\n",
      "{'origin': '38.250.152.202'}\n",
      "----------------------------------------\n",
      "Response for user-agent\n",
      "{'user-agent': 'python-requests/2.32.3'}\n",
      "----------------------------------------\n",
      "Response for UUID\n",
      "{'uuid': 'a8bf6799-c55d-4150-9e11-ec5791f96f0d'}\n",
      "----------------------------------------\n",
      "Response for JSON\n",
      "{'slideshow': {'author': 'Yours Truly', 'date': 'date of publication', 'slides': [{'title': 'Wake up to WonderWidgets!', 'type': 'all'}, {'items': ['Why <em>WonderWidgets</em> are great', 'Who <em>buys</em> WonderWidgets'], 'title': 'Overview', 'type': 'all'}], 'title': 'Sample Slide Show'}}\n",
      "----------------------------------------\n"
     ]
    }
   ],
   "source": [
    "import requests\n",
    "\n",
    "urls = {\n",
    "    \"get\": \"https://httpbin.org/get?t=learn+python+programming\",\n",
    "    \"headers\": \"https://httpbin.org/headers\",\n",
    "    \"ip\": \"https://httpbin.org/ip\",\n",
    "    \"user-agent\": \"https://httpbin.org/user-agent\",\n",
    "    \"UUID\": \"https://httpbin.org/uuid\",\n",
    "    \"JSON\": \"https://httpbin.org/json\",\n",
    "}\n",
    "\n",
    "def get_content(title, url):\n",
    "    resp = requests.get(url)\n",
    "    print(f\"Response for {title}\")\n",
    "    print(resp.json())\n",
    "\n",
    "for title, url in urls.items():\n",
    "    get_content(title, url)\n",
    "    print(\"-\" * 40)"
   ]
  },
  {
   "cell_type": "markdown",
   "metadata": {},
   "source": [
    "El fragmento anterior debería ser fácil de entender. Declaramos un diccionario de URLs a las que queremos realizar peticiones HTTP. Se ha encapsulado el código que realiza la petición en una pequeña función, `get_content()`. Como puedes ver, realizamos una petición GET (usando `requests.get()`), e imprimimos el título y la versión decodificada JSON del cuerpo de la respuesta.\n",
    "\n",
    "Cuando realizamos una solicitud a un sitio web, o a una API, obtenemos un objeto de respuesta, que es, simplemente, lo que nos devuelve el servidor al que hemos realizado la solicitud. El cuerpo de algunas respuestas de httpbin.org está codificado en JSON, así que en lugar de obtener el cuerpo tal cual (usando resp.text) y decodificarlo manualmente llamando a `json.loads()`, simplemente combinamos los dos métodos utilizando `json()` en el objeto de respuesta. Hay muchas razones por las que el paquete `requests` ha sido tan ampliamente adoptado, y una de ellas es sin duda su facilidad de uso.\n",
    "\n",
    "Al final del código, ejecutamos un bucle `for` y obtenemos todas las URLs. Cuando lo ejecutamos, vemos el resultado de cada llamada impreso en la consola.\n",
    "\n",
    "Tenga en cuenta que puede obtener un resultado ligeramente diferente en términos de números de versión e IPs, lo cual está bien si lo corre en otra computadora y en otro momento. Ahora, GET es sólo uno de los verbos HTTP, aunque uno de los más utilizados. Veamos también cómo utilizar el verbo POST. Este es el tipo de petición que haces cuando necesitas enviar datos al servidor. Cada vez que envías un formulario en la web, estás haciendo una petición POST. Así que, veamos un ejemplo:"
   ]
  },
  {
   "cell_type": "code",
   "execution_count": 20,
   "metadata": {},
   "outputs": [
    {
     "name": "stdout",
     "output_type": "stream",
     "text": [
      "Response for POST\n",
      "{'args': {}, 'data': '', 'files': {}, 'form': {'title': 'Learn Python Programming'}, 'headers': {'Accept': '*/*', 'Accept-Encoding': 'gzip, deflate', 'Content-Length': '30', 'Content-Type': 'application/x-www-form-urlencoded', 'Host': 'httpbin.org', 'User-Agent': 'python-requests/2.32.3', 'X-Amzn-Trace-Id': 'Root=1-66e62857-6fe5e4887caf3ae171008852'}, 'json': None, 'origin': '38.250.152.202', 'url': 'https://httpbin.org/post'}\n"
     ]
    }
   ],
   "source": [
    "import requests\n",
    "\n",
    "url = 'https://httpbin.org/post'\n",
    "data = dict(title='Learn Python Programming')\n",
    "resp = requests.post(url, data=data)\n",
    "print('Response for POST')\n",
    "print(resp.json())"
   ]
  },
  {
   "cell_type": "markdown",
   "metadata": {},
   "source": [
    "El código anterior es muy similar al que vimos antes, sólo que esta vez no llamamos a `get()`, sino a `post()`, y como queremos enviar algunos datos, lo especificamos en la llamada. La librería `requests` ofrece mucho más que esto.\n",
    "\n",
    "Observa que la salida del fragmento de código tiene las cabeceras diferentes, y encontramos los datos que enviamos en el par clave/valor del formulario del cuerpo de la respuesta."
   ]
  },
  {
   "cell_type": "markdown",
   "metadata": {},
   "source": [
    "# Persistencia de datos en disco\n",
    "En esta última sección de este capítulo, veremos cómo persistir datos en disco en tres formatos diferentes. Persistir datos significa que los datos se escriben en un almacenamiento no volátil, como un disco duro, por ejemplo, y no se borran cuando el proceso que los escribió termina su ciclo de vida. Exploraremos `pickle` y `shelve`, así como un breve ejemplo que implicará acceder a una base de datos usando `SQLAlchemy`, quizás la librería ORM más ampliamente adoptada en el ecosistema Python."
   ]
  },
  {
   "cell_type": "markdown",
   "metadata": {},
   "source": [
    "## Serialización de datos con pickle\n",
    "El módulo `pickle`, de la biblioteca estándar de Python, ofrece herramientas para convertir objetos Python en flujos de bytes, y viceversa. Aunque hay un solapamiento parcial en la API que pickle y json exponen, los dos son bastante diferentes. Como hemos visto anteriormente en este capítulo, JSON es un formato de texto legible por humanos, independiente del lenguaje y que sólo soporta un subconjunto restringido de tipos de datos de Python. El módulo `pickle`, por otro lado, no es legible por humanos, se traduce a bytes, es específico de Python y, gracias a las maravillosas capacidades de introspección de Python, soporta un gran número de tipos de datos.\n",
    "\n",
    "Además de las diferencias mencionadas entre pickle y json, también hay algunos problemas de seguridad importantes que debes tener en cuenta si estás considerando usar pickle. Unpickle datos erróneos o maliciosos de una fuente no confiable puede ser peligroso, por lo que si decidimos adoptarlo en nuestra aplicación, tenemos que tener mucho cuidado.\n",
    "\n",
    "Dicho esto, veámoslo en acción mediante un sencillo ejemplo:"
   ]
  },
  {
   "cell_type": "code",
   "execution_count": 23,
   "metadata": {},
   "outputs": [
    {
     "name": "stdout",
     "output_type": "stream",
     "text": [
      "Hola, Yo soy Nicolas Marroquin y mi ID es 123\n",
      "Hola, Yo soy Jairo Rubio y mi ID es 456\n"
     ]
    }
   ],
   "source": [
    "import pickle\n",
    "from dataclasses import dataclass\n",
    "\n",
    "@dataclass\n",
    "class Person:\n",
    "    first_name: str\n",
    "    last_name: str\n",
    "    id: int\n",
    "\n",
    "    def greet(self):\n",
    "        print(f'Hola, Yo soy {self.first_name} {self.last_name}'\n",
    "              f' y mi ID es {self.id}')\n",
    "\n",
    "people = [\n",
    "    Person('Nicolas', 'Marroquin', 123),\n",
    "    Person('Jairo', 'Rubio', 456),\n",
    "]\n",
    "\n",
    "# guardar datos en formato binario en un archivo\n",
    "with open('data.pickle', 'wb') as stream:\n",
    "    pickle.dump(people, stream)\n",
    "\n",
    "# cargar datos de un archivo\n",
    "with open('data.pickle', 'rb') as stream:\n",
    "    peeps = pickle.load(stream)\n",
    "\n",
    "for person in peeps:\n",
    "    person.greet()"
   ]
  },
  {
   "cell_type": "markdown",
   "metadata": {},
   "source": [
    "En este ejemplo, creamos una clase Persona utilizando el decorador dataclass. La única razón por la que escribimos este ejemplo con una clase de datos es para mostrarte la facilidad con la que pickle trata con ella, sin necesidad de que hagamos nada que no haríamos para un tipo de datos más simple.\n",
    "\n",
    "La clase tiene tres atributos: nombre, apellido e id. También expone un método `greet()`, que simplemente imprime un mensaje hola con los datos.\n",
    "\n",
    "Creamos una lista de instancias y la guardamos en un fichero. Para ello, utilizamos `pickle.dump()`, a la que introducimos el contenido a recoger, y el `stream` en el que queremos escribir. Inmediatamente después, leemos desde ese mismo fichero, usando `pickle.load()` para convertir todo el contenido del flujo de nuevo en objetos Python. Para asegurarnos de que los objetos se han convertido correctamente, llamamos al método `greet()` en ambos casos.\n",
    "\n",
    "El módulo `pickle` también permite convertir a (y desde) objetos byte, mediante las funciones `dumps()` y `loads()` (nótese la $s$ al final de ambos nombres). En las aplicaciones del día a día, `pickle` se suele utilizar cuando necesitamos persistir datos de Python que se supone que no se van a intercambiar con otra aplicación.\n",
    "\n",
    "Otra herramienta que posiblemente se utiliza aún menos, pero que resulta ser muy útil cuando estás corto de recursos, es `shelve`."
   ]
  },
  {
   "cell_type": "markdown",
   "metadata": {},
   "source": [
    "## Guardar datos con shelve\n",
    "`Shelve` es un objeto persistente similar a un diccionario. Lo bueno de esto es que los valores que guardas en un `shelf` pueden ser cualquier objeto que puedas seleccionar, así que no estás restringido como lo estarías si estuvieras usando una base de datos. Aunque interesante y útil, el módulo `shelve` se utiliza muy poco en la práctica. Sólo para completar, veamos un ejemplo rápido de cómo funciona:"
   ]
  },
  {
   "cell_type": "code",
   "execution_count": 25,
   "metadata": {},
   "outputs": [
    {
     "name": "stdout",
     "output_type": "stream",
     "text": [
      "list(db.keys()) = ['obi1', 'ani', 'a_list', 'delete_me']\n",
      "list(db.keys()) = ['obi1', 'ani', 'a_list']\n",
      "'delete_me' in db = False\n",
      "'ani' in db = True\n",
      "db['a_list'] = [2, 3, 5, 7]\n"
     ]
    }
   ],
   "source": [
    "import shelve\n",
    "\n",
    "class Person:\n",
    "    def __init__(self, name, id):\n",
    "        self.name = name\n",
    "        self.id = id\n",
    "\n",
    "with shelve.open('shelf1.shelve') as db:\n",
    "    db['obi1'] = Person('Obi-Wan', 123)\n",
    "    db['ani'] = Person('Anakin', 456)\n",
    "    db['a_list'] = [2, 3, 5]\n",
    "    db['delete_me'] = 'we will have to delete this one...'\n",
    "    print(f\"{list(db.keys()) = }\")\n",
    "    \n",
    "    del db['delete_me']\n",
    "    print(f\"{list(db.keys()) = }\")\n",
    "    print(f\"{'delete_me' in db = }\")\n",
    "    print(f\"{'ani' in db = }\")\n",
    "\n",
    "    a_list = db['a_list']\n",
    "    a_list.append(7)\n",
    "    db['a_list'] = a_list\n",
    "    print(f\"{db['a_list'] = }\")"
   ]
  },
  {
   "cell_type": "markdown",
   "metadata": {},
   "source": [
    "Este ejemplo se parece a un ejercicio con diccionarios. Creamos una simple clase `Person` y luego abrimos un archivo de `shelve` dentro de un gestor de contexto. Como puedes ver, utilizamos la sintaxis de diccionario para almacenar cuatro objetos: dos instancias de `Person`, una lista y una cadena. Si imprimimos las claves, obtenemos una lista que contiene las cuatro claves que hemos utilizado. Inmediatamente después de imprimirla, borramos el par clave/valor (acertadamente llamado) delete_me del `shelf`. Si volvemos a imprimir las claves, veremos que la eliminación se ha realizado correctamente. A continuación, comprobamos la pertenencia de un par de claves y, por último, añadimos el número 7 a `a_list`. Observa cómo tenemos que extraer la lista del `shelf`, modificarla y guardarla de nuevo.\n",
    "\n",
    "Si este comportamiento no es deseado, hay algo que podemos hacer:"
   ]
  },
  {
   "cell_type": "code",
   "execution_count": 26,
   "metadata": {},
   "outputs": [
    {
     "name": "stdout",
     "output_type": "stream",
     "text": [
      "db['a_list'] = [11, 13, 17, 19]\n"
     ]
    }
   ],
   "source": [
    "with shelve.open('shelf2.shelve', writeback=True) as db:\n",
    "    db['a_list'] = [11, 13, 17]\n",
    "    db['a_list'].append(19)\n",
    "    print(f\"{db['a_list'] = }\")"
   ]
  },
  {
   "cell_type": "markdown",
   "metadata": {},
   "source": [
    "Al abrir el `shelf` con `writeback=True`, habilitamos la función de reescritura, que nos permite simplemente agregar a `a_list` como si realmente fuera un valor dentro de un diccionario normal. La razón por la que esta función no está activa de forma predeterminada es que tiene un precio que pagas en términos de consumo de memoria y cierre más lento de la estantería.\n",
    "\n",
    "Ahora que hemos rendido homenaje a los módulos de biblioteca estándar relacionados con la persistencia de datos, echemos un vistazo a uno de los ORM más adoptados en el ecosistema Python: `SQLAlchemy`."
   ]
  },
  {
   "cell_type": "markdown",
   "metadata": {},
   "source": [
    "## Guardar datos en una base de datos\n",
    "Para este ejemplo, vamos a trabajar con una base de datos en memoria, lo que nos simplificará las cosas.\n",
    "\n",
    "Antes de sumergirnos en el código, permítanos introducir brevemente el concepto de una base de datos relacional.\n",
    "\n",
    "Una base de datos relacional es una base de datos que le permite guardar datos siguiendo el modelo relacional, inventado en 1969 por Edgar F. Codd. En este modelo, los datos se almacenan en una o más tablas. Cada tabla tiene filas (también conocidas como registros, o tuplas), cada una de las cuales representa una entrada en la tabla. Las tablas también tienen columnas (también conocidas como atributos), cada una de las cuales representa un atributo de los registros. Cada registro se identifica a través de una clave única (unique key), más comúnmente conocida como la clave principal (primary key), que es la unión de una o más columnas en la tabla. Para darle un ejemplo: imagine una tabla llamada usuarios, con ID de columnas, nombre de usuario, contraseña, nombre y apellido.\n",
    "\n",
    "Una tabla de este tipo sería perfecta para contener a los usuarios de nuestro sistema. Cada fila representaría a un usuario diferente. Por ejemplo, una fila con los valores 3, fab, my_wonderful_pwd, Fabrizio y Romano representaría al usuario de Fabrizio en el sistema.\n",
    "\n",
    "La razón por la que el modelo se llama relacional es porque se pueden establecer relaciones entre tablas. Por ejemplo, si se agrega una tabla llamada PhoneNumbers a nuestra base de datos ficticia, podría insertar números de teléfono en ella y, a continuación, a través de una relación, establecer qué número de teléfono pertenece a qué usuario.\n",
    "\n",
    "Para consultar una base de datos relacional, necesitamos un lenguaje especial. El estándar principal se llama SQL, que significa Structured Query Language (Lenguaje de Consulta Estructurado). Nace de algo llamado álgebra relacional, que es una familia de álgebras que se utilizan para modelar datos almacenados de acuerdo con el modelo relacional y realizar consultas sobre ellos. Las operaciones más comunes que se pueden realizar suelen consistir en filtrar por filas o columnas, unir tablas, agregar los resultados según algunos criterios, etc. Para darte un ejemplo, una consulta en nuestra base de datos imaginaria podría ser: Obtener todos los usuarios (nombre de usuario, nombre, apellido) cuyo nombre de usuario comience con \"m\", que tengan como máximo un número de teléfono. En esta consulta, solicitamos un subconjunto de las columnas de la tabla Usuario. Estamos filtrando a los usuarios tomando solo aquellos cuyo nombre de usuario comienza con la letra m, e incluso más allá, solo aquellos que tienen como máximo un número de teléfono.\n",
    "\n",
    "Ahora, cada base de datos viene con su propio sabor de SQL. Todos respetan la norma hasta cierto punto, pero ninguno lo hace plenamente, y todos son diferentes entre sí en algunos aspectos. Esto plantea un problema en el desarrollo de software moderno. Si nuestra aplicación contiene código SQL, es bastante probable que si decidimos usar un motor de base de datos diferente, o tal vez una versión diferente del mismo motor, encontraríamos que nuestro código SQL necesita ser modificado.\n",
    "\n",
    "Esto puede ser bastante doloroso, especialmente porque las consultas SQL pueden complicarse con bastante rapidez. Para aliviar un poco este dolor, los informáticos han creado un código que mapea objetos de un lenguaje de programación a tablas de una base de datos relacional. Como era de esperar, el nombre de dicha herramienta es Object-Relational Mapping (ORM) que en español se traduce como Mapeo Relacional de Objetos.\n",
    "\n",
    "En el desarrollo de aplicaciones modernas, normalmente comenzaría a interactuar con una base de datos mediante el uso de un ORM, y si se encuentra en una situación en la que no puede realizar una consulta que necesita realizar a través del ORM, recurriría al uso de SQL directamente. Este es un buen compromiso entre no tener SQL en absoluto y no usar ORM, lo que en última instancia significa especializar el código que interactúa con la base de datos, con las desventajas antes mencionadas.\n",
    "\n",
    "En esta sección, vamos mostrar un ejemplo que aprovecha `SQLAlchemy`, uno de los ORM de Python de terceros más populares. Para ello, se tendrá que instalar en el entorno virtual usando `pip install SQLAlchemy`. Se van a definir dos modelos (Person y Address), cada uno de los cuales se asigna a una tabla, y luego vamos a completar la base de datos y realizar algunas consultas en ella. \n",
    "\n",
    "Comencemos con las declaraciones del modelo:"
   ]
  },
  {
   "cell_type": "code",
   "execution_count": 27,
   "metadata": {},
   "outputs": [],
   "source": [
    "# pip install SQLAlchemy\n",
    "from sqlalchemy.ext.declarative import declarative_base\n",
    "from sqlalchemy import (Column, Integer, String, ForeignKey, create_engine)\n",
    "from sqlalchemy.orm import relationship"
   ]
  },
  {
   "cell_type": "markdown",
   "metadata": {},
   "source": [
    "Al principio, importamos algunas funciones y tipos. Lo primero que tenemos que hacer entonces es crear un motor. Este motor le dice a `SQLAlchemy` sobre el tipo de base de datos que hemos elegido para nuestro ejemplo, y cómo conectarnos a ella:"
   ]
  },
  {
   "cell_type": "code",
   "execution_count": 31,
   "metadata": {},
   "outputs": [
    {
     "name": "stderr",
     "output_type": "stream",
     "text": [
      "C:\\Users\\rnico\\AppData\\Local\\Temp\\ipykernel_6396\\620246408.py:2: MovedIn20Warning: The ``declarative_base()`` function is now available as sqlalchemy.orm.declarative_base(). (deprecated since: 2.0) (Background on SQLAlchemy 2.0 at: https://sqlalche.me/e/b8d9)\n",
      "  Base = declarative_base()\n"
     ]
    }
   ],
   "source": [
    "engine = create_engine('sqlite:///:memory:')\n",
    "Base = declarative_base()\n",
    "\n",
    "class Person(Base):\n",
    "    __tablename__ = 'person'\n",
    "    id = Column(Integer, primary_key=True)\n",
    "    name = Column(String)\n",
    "    age = Column(Integer)\n",
    "    addresses = relationship(\n",
    "        'Address',\n",
    "        back_populates='person',\n",
    "        order_by='Address.email',\n",
    "        cascade='all, delete-orphan'\n",
    "    )\n",
    "\n",
    "    def __repr__(self):\n",
    "        return f'{self.name}(id={self.id})'\n",
    "\n",
    "class Address(Base):\n",
    "    __tablename__ = 'address'\n",
    "    id = Column(Integer, primary_key=True)\n",
    "    email = Column(String)\n",
    "    person_id = Column(ForeignKey('person.id'))\n",
    "    person = relationship('Person', back_populates='addresses')\n",
    "\n",
    "    def __str__(self):\n",
    "        return self.email\n",
    "    __repr__ = __str__\n",
    "\n",
    "Base.metadata.create_all(engine)"
   ]
  },
  {
   "cell_type": "markdown",
   "metadata": {},
   "source": [
    "A continuación, cada modelo hereda de la tabla `Base`, que en este ejemplo simplemente consta del valor predeterminado, devuelto por `declarative_base()`. Definimos `Person`, que se asigna a una tabla llamada `person` y expone los atributos id, name y age. También declaramos una relación con el modelo de `Address`, al indicar que al acceder al atributo `addresses` se obtendrán todas las entradas de la tabla de direcciones que estén relacionadas con la instancia de `Person` en particular con la que estamos tratando. La opción de `cascade` afecta al funcionamiento de la creación y la eliminación, pero es un concepto más avanzado, por lo que le sugerimos que lo ignore por ahora y tal vez investigue más más adelante.\n",
    "\n",
    "Lo último que declaramos es el método `__rep __ ()`, que nos proporciona la representación oficial de una cadena de un objeto. Se supone que esta es una representación que se puede usar para reconstruir completamente el objeto, pero en este ejemplo, simplemente lo usamos para proporcionar algo en la salida. Python redirige `repr(obj)` a un llamado a `obj.__repr__ ()`.\n",
    "\n",
    "También declaramos el modelo `Address`, que contendrá direcciones de correo electrónico y una referencia a la persona a la que pertenecen. Puede ver que los atributos person_id y person tienen que ver con la configuración de una relación entre las instancias `Address` y `Person`. Observe también cómo declaramos el método `__str__()` en `Address`, y luego le asignamos un alias, llamado `__repr__()`. Esto significa que llamar a `repr()` o `str()` en objetos `Address` resultará en última instancia en llamar al método `__str__()`. Esta es una técnica bastante común en Python, utilizada para evitar duplicar el mismo código, por lo que aprovechamos para mostrártela aquí. \n",
    "\n",
    "En la última línea, le decimos al motor que cree tablas en la base de datos de acuerdo con nuestros modelos.\n",
    "\n",
    "Tener en cuenta que la función `create_engine()` admite un parámetro llamado `echo`, que se puede establecer en `True`, `False` o la cadena `\"debug\"`, para habilitar diferentes niveles de registro de todas las declaraciones y el `repr()` de sus parámetros.\n",
    "\n",
    "Para una mayor comprensión de este código y base de datos, se recomienda que lea sobre los sistemas de administración de bases de datos (DBMS por sus siglás en inglés), SQL, álgebra relacional y SQLAlchemy. \n",
    "\n",
    "Continuando con el código, ahoa que tenemos nuestros modelos, vamos a usarlo para guardar algunos datos:"
   ]
  },
  {
   "cell_type": "code",
   "execution_count": 51,
   "metadata": {},
   "outputs": [],
   "source": [
    "from sqlalchemy.orm import sessionmaker\n",
    "\n",
    "Session = sessionmaker(bind=engine)\n",
    "session = Session()"
   ]
  },
  {
   "cell_type": "markdown",
   "metadata": {},
   "source": [
    "Primero creamos `Session`, que es el objeto que usamos para administrar la base de datos. A continuación, procedemos creando dos personas:"
   ]
  },
  {
   "cell_type": "code",
   "execution_count": 52,
   "metadata": {},
   "outputs": [],
   "source": [
    "person_1 = Person(name='Juan Martinez', age=32)\n",
    "person_2 = Person(name='Karla Quispe', age=40)"
   ]
  },
  {
   "cell_type": "markdown",
   "metadata": {},
   "source": [
    "A continuación, añadimos direcciones de correo electrónico a ambos, utilizando dos técnicas diferentes. Uno los asigna a una lista y el otro simplemente los agrega:"
   ]
  },
  {
   "cell_type": "code",
   "execution_count": 53,
   "metadata": {},
   "outputs": [],
   "source": [
    "person_1.addresses = [\n",
    "    Address(email='juanmartinez32@example.com'),\n",
    "    Address(email='jmartinez32@example.com'),\n",
    "]\n",
    "\n",
    "person_2.addresses.append(Address(email='karlaquispe40@example.com'))\n",
    "person_2.addresses.append(Address(email='karla.quispe.40@example.com'))\n",
    "person_2.addresses.append(Address(email='quispe.karla.40@example.com'))"
   ]
  },
  {
   "cell_type": "markdown",
   "metadata": {},
   "source": [
    "Todavía no hemos tocado la base de datos. Es solo cuando usamos el objeto `session` que algo realmente sucede en él:"
   ]
  },
  {
   "cell_type": "code",
   "execution_count": 54,
   "metadata": {},
   "outputs": [],
   "source": [
    "session.add(person_1)\n",
    "session.add(person_2)\n",
    "session.commit()"
   ]
  },
  {
   "cell_type": "markdown",
   "metadata": {},
   "source": [
    "Agregar las dos instancias de `Person` es suficiente para agregar también sus direcciones (esto es gracias al efecto en cascada). Llamar a `commit()` es lo que realmente le dice a `SQLAlchemy` que confirme la transacción y guarde los datos en la base de datos. Una transacción es una operación que proporciona algo así como un espacio aislado, pero en un contexto de base de datos.\n",
    "\n",
    "Mientras la transacción no se haya confirmado, podemos revertir cualquier modificación que hayamos realizado en la base de datos y, al hacerlo, volver al estado en el que nos encontrábamos antes de comenzar la transacción en sí. `SQLAlchemy` ofrece formas más complejas y granulares de lidiar con las transacciones, las cuales puedes estudiar en su documentación oficial, ya que es un tema bastante avanzado. Ahora consultamos a todas las personas cuyo nombre comienza con Jua usando `like()`, que se engancha al operador `LIKE` en SQL:"
   ]
  },
  {
   "cell_type": "code",
   "execution_count": 55,
   "metadata": {},
   "outputs": [
    {
     "name": "stdout",
     "output_type": "stream",
     "text": [
      "Juan Martinez(id=1) [jmartinez32@example.com, juanmartinez32@example.com]\n"
     ]
    }
   ],
   "source": [
    "jua1 = session.query(Person).filter(\n",
    "    Person.name.like('Jua%')\n",
    ").first()\n",
    "\n",
    "print(jua1, jua1.addresses)"
   ]
  },
  {
   "cell_type": "markdown",
   "metadata": {},
   "source": [
    "Tomamos el primer resultado de esa consulta (sabemos que solo tenemos a Juan Martinez de todos modos) y lo imprimimos. A continuación, obtenemos a Karla utilizando una coincidencia exacta con su nombre, sólo para mostrarte una forma diferente de filtrar:"
   ]
  },
  {
   "cell_type": "code",
   "execution_count": 56,
   "metadata": {},
   "outputs": [
    {
     "name": "stdout",
     "output_type": "stream",
     "text": [
      "Karla Quispe(id=4) [karla.quispe.40@example.com, karlaquispe40@example.com, quispe.karla.40@example.com]\n"
     ]
    }
   ],
   "source": [
    "karla = session.query(Person).filter(\n",
    "    Person.name=='Karla Quispe'\n",
    ").first()\n",
    "\n",
    "print(karla, karla.addresses)"
   ]
  },
  {
   "cell_type": "markdown",
   "metadata": {},
   "source": [
    "A continuación, capturamos el ID de Karla y eliminamos el objeto karla del marco global (esto no elimina la entrada de la base de datos):"
   ]
  },
  {
   "cell_type": "code",
   "execution_count": 57,
   "metadata": {},
   "outputs": [],
   "source": [
    "karla_id = karla.id\n",
    "del karla"
   ]
  },
  {
   "cell_type": "markdown",
   "metadata": {},
   "source": [
    "La razón por la que hacemos esto es porque queremos mostrarle cómo obtener un objeto por su ID. Antes de hacer eso, escribimos la función `display_info()`, que usaremos para mostrar el contenido completo de la base de datos (obtenido a partir de las direcciones, para demostrar cómo obtener objetos usando un atributo de relación en `SQLAlchemy`):"
   ]
  },
  {
   "cell_type": "code",
   "execution_count": 58,
   "metadata": {},
   "outputs": [],
   "source": [
    "def display_info():\n",
    "    # Obtener todas las direcciones primero\n",
    "    addresses = session.query(Address).all()\n",
    "    \n",
    "    # mostrar resultados\n",
    "    for address in addresses:\n",
    "        print(f'{address.person.name} <{address.email}>')\n",
    "\n",
    "    # Mostrar cuántos objetos tenemos en total\n",
    "    print('people: {}, addresses: {}'.format(\n",
    "        session.query(Person).count(),\n",
    "        session.query(Address).count())\n",
    "    )"
   ]
  },
  {
   "cell_type": "markdown",
   "metadata": {},
   "source": [
    "La función `display_info()` imprime todas las direcciones, junto con el nombre de la persona respectiva, y, al final, produce una información final sobre el número de objetos en la base de datos. Llamamos a la función, luego recuperamos y eliminamos karla. Por último, volvemos a mostrar la información, para verificar que realmente ha desaparecido de la base de datos:"
   ]
  },
  {
   "cell_type": "code",
   "execution_count": 59,
   "metadata": {},
   "outputs": [
    {
     "name": "stdout",
     "output_type": "stream",
     "text": [
      "Juan Martinez <juanmartinez32@example.com>\n",
      "Juan Martinez <jmartinez32@example.com>\n",
      "Juan Martinez <juanmartinez32@example.com>\n",
      "Juan Martinez <jmartinez32@example.com>\n",
      "Juan Martinez <juanmartinez32@example.com>\n",
      "Juan Martinez <jmartinez32@example.com>\n",
      "Karla Quispe <karlaquispe40@example.com>\n",
      "Karla Quispe <karla.quispe.40@example.com>\n",
      "Karla Quispe <quispe.karla.40@example.com>\n",
      "people: 4, addresses: 9\n",
      "Juan Martinez <juanmartinez32@example.com>\n",
      "Juan Martinez <jmartinez32@example.com>\n",
      "Juan Martinez <juanmartinez32@example.com>\n",
      "Juan Martinez <jmartinez32@example.com>\n",
      "Juan Martinez <juanmartinez32@example.com>\n",
      "Juan Martinez <jmartinez32@example.com>\n",
      "people: 3, addresses: 6\n"
     ]
    }
   ],
   "source": [
    "display_info()\n",
    "karla = session.get(Person, karla_id)\n",
    "session.delete(karla)\n",
    "session.commit()\n",
    "display_info()"
   ]
  },
  {
   "cell_type": "markdown",
   "metadata": {},
   "source": [
    "Como se puede ver en los dos últimos bloques, al eliminar karla se ha eliminado un objeto `Person` y las tres direcciones asociadas a él. Una vez más, esto se debe al hecho de que la cascada tuvo lugar cuando eliminamos karla.\n",
    "\n",
    "Con esto concluye nuestra breve introducción a la persistencia de datos. Es un dominio vasto y, a veces, complejo que te animamos a explorar, aprendiendo tanta teoría como sea posible. La falta de conocimiento o comprensión adecuada, cuando se trata de sistemas de bases de datos, puede ser realmente perjudicial."
   ]
  }
 ],
 "metadata": {
  "kernelspec": {
   "display_name": ".venv",
   "language": "python",
   "name": "python3"
  },
  "language_info": {
   "codemirror_mode": {
    "name": "ipython",
    "version": 3
   },
   "file_extension": ".py",
   "mimetype": "text/x-python",
   "name": "python",
   "nbconvert_exporter": "python",
   "pygments_lexer": "ipython3",
   "version": "3.12.3"
  }
 },
 "nbformat": 4,
 "nbformat_minor": 2
}
