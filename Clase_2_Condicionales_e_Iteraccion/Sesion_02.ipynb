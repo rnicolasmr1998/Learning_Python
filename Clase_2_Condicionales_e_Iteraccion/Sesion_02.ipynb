{
 "cells": [
  {
   "cell_type": "markdown",
   "metadata": {},
   "source": [
    "# CONDICIONALES E ITERACIÓN\n",
    "Para controlar el flujo de un programa, disponemos de dos armas principales: la programación condicional (también conocida como ramificación) y los bucles. \n",
    "\n",
    "En este sesión, vamos a cubrir lo siguiente:\n",
    "- [Programación condicional]()\n",
    "- [Bucles en Python]()\n",
    "- [Expresiones de asignación]()\n",
    "- [Módulo itertools]()\n"
   ]
  },
  {
   "cell_type": "markdown",
   "metadata": {},
   "source": [
    "# Programación condicional\n",
    "La programación condicional, o ramificación, es algo que se hace todos los días, a cada momento. Se trata de evaluar condiciones: si el semáforo está en verde, puedo cruzar; si está lloviendo, cojo el paraguas; y si llego tarde al trabajo, llamo a mi jefe.\n",
    "\n",
    "La herramienta principal es la sentencia if, que viene en diferentes formas y colores, pero su función básica es evaluar una expresión y, basándose en el resultado, elegir qué parte del código ejecutar."
   ]
  },
  {
   "cell_type": "code",
   "execution_count": 7,
   "metadata": {},
   "outputs": [
    {
     "name": "stdout",
     "output_type": "stream",
     "text": [
      "Tengo que llamar a mi jefe!\n"
     ]
    }
   ],
   "source": [
    "late = True\n",
    "if late:\n",
    "    print(f\"Tengo que llamar a mi jefe!\")"
   ]
  },
  {
   "cell_type": "markdown",
   "metadata": {},
   "source": [
    "En este ejemplo, cuando se alimenta a la sentencia if, late actúa como una expresión condicional, que se evalúa en un contexto booleano (exactamente como si estuviéramos llamando a bool(late)). Si el resultado de la evaluación es True, entonces entramos en el cuerpo del código inmediatamente después de la sentencia if. Observe que la instrucción print está sangrada, lo que significa que pertenece a un ámbito definido por la cláusula if."
   ]
  },
  {
   "cell_type": "code",
   "execution_count": 9,
   "metadata": {},
   "outputs": [
    {
     "name": "stdout",
     "output_type": "stream",
     "text": [
      "No necesito llamar a mi jefe ...\n",
      "Tengo que llamar a mi jefe!\n"
     ]
    }
   ],
   "source": [
    "late = False\n",
    "if late:\n",
    "    print('Tengo que llamar a mi jefe!') #Bloque #1\n",
    "else:\n",
    "    print('No necesito llamar a mi jefe ...') #Bloque #2\n",
    "\n",
    "late_numeric = 4\n",
    "if late_numeric:\n",
    "    print('Tengo que llamar a mi jefe!') #Bloque #1\n",
    "else:\n",
    "    print('No necesito llamar a mi jefe ...') #Bloque #2"
   ]
  },
  {
   "cell_type": "markdown",
   "metadata": {},
   "source": [
    "Dependiendo del resultado de la evaluación de la expresión *late*, podemos entrar en el bloque #1 o en el bloque #2, pero no en ambos. El bloque #1 se ejecuta cuando *late* se evalúa como *True* o un número mayor a cero, mientras que el bloque #2 se ejecuta cuando *late* se evalúa como *False* o un número cuyo valor es cero.\n",
    "\n",
    "El ejemplo anterior también introduce la cláusula *else*, que resulta muy útil cuando queremos proporcionar un conjunto alternativo de instrucciones a ejecutar cuando una expresión se evalúa como *False* dentro de una cláusula *if*."
   ]
  },
  {
   "cell_type": "markdown",
   "metadata": {},
   "source": [
    "## Una versión mejorada de else: elif\n",
    "A veces basta con hacer algo si se cumple una condición (una simple cláusula *if*). Otras veces, necesitas proporcionar una alternativa, en caso de que la condición sea *False* (cláusula *if*/*else*). Pero hay situaciones en las que puedes tener más de dos caminos entre los que elegir. Un ejemplo de ello es el siguiente, si tus ingresos mensuales son inferiores a 1.050 soles, no tienes que pagar impuestos. Si está entre 1.050 y 3.000 soles, tienes que pagar un 20% de impuestos. Si está entre 3.000 y 10.000 soles, paga un 35% de impuestos, y si tiene la suerte de ganar más de 10.000 soles, debe pagar un 45% de impuestos. \n",
    "\n",
    "En Python se escribiría de la siguiente forma:"
   ]
  },
  {
   "cell_type": "code",
   "execution_count": 10,
   "metadata": {},
   "outputs": [
    {
     "name": "stdout",
     "output_type": "stream",
     "text": [
      "Tú debes pagar 210.0 soles en impuestos.\n"
     ]
    }
   ],
   "source": [
    "income_user = float(input('¿Cuánto es tu ingreso mensual? ')) #La función input solicita al usuario un valor\n",
    "if income_user < 1050:\n",
    "    tax_coefficient = 0.0\n",
    "elif income_user < 3000:\n",
    "    tax_coefficient = 0.2\n",
    "elif income_user < 10000:\n",
    "    tax_coefficient = 0.35\n",
    "else:\n",
    "    tax_coefficient = 0.45\n",
    "print(f\"Tú debes pagar {income_user * tax_coefficient} soles en impuestos.\")"
   ]
  },
  {
   "cell_type": "markdown",
   "metadata": {},
   "source": [
    "Ahora vamos a realizar otro ejemplo que nos muestra cómo anidar cláusulas *if*. Digamos que tu programa encuentra un error. Si el sistema de alerta es la consola, imprimimos el error. Si el sistema de alerta es un correo electrónico, lo enviamos según la gravedad del error. Si el sistema de alerta es otro que la consola o el correo electrónico, no sabemos qué hacer, por lo tanto no hacemos nada. Pongamos esto en código:"
   ]
  },
  {
   "cell_type": "code",
   "execution_count": 11,
   "metadata": {},
   "outputs": [
    {
     "name": "stdout",
     "output_type": "stream",
     "text": [
      "OMG! Something terrible happened!\n"
     ]
    }
   ],
   "source": [
    "alert_system = \"console\"\n",
    "error_severity = \"critical\"\n",
    "error_mesage = \"OMG! Something terrible happened!\"\n",
    "\n",
    "if alert_system == \"console\":\n",
    "    print(error_mesage)\n",
    "elif alert_system == \"email\":\n",
    "    if error_severity == \"critical\":\n",
    "        print(f\"Enviar un mensaje a admi@example.com con el siguiente error: {error_mesage}\")\n",
    "    elif error_severity == \"medium\":\n",
    "        print(f\"Enviar un mensaje a support1@example.com con el siguiente error: {error_mesage}\")\n",
    "    else:\n",
    "        print(f\"Enviar un mensaje a support2@example.com con el siguiente error: {error_mesage}\")"
   ]
  },
  {
   "cell_type": "markdown",
   "metadata": {},
   "source": [
    "El ejemplo anterior nos muestra dos cláusulas *if* anidadas (externa e interna). También nos muestra que la cláusula *if* externa no tiene ningún *else*, mientras que la interna sí. Fíjate en que la indentación es lo que nos permite anidar una cláusula dentro de otra."
   ]
  },
  {
   "cell_type": "markdown",
   "metadata": {},
   "source": [
    "## El operador ternario\n",
    "El operador ternario resulta ser la versión corta de una cláusula *if*/*else*. Cuando el valor de un nombre debe asignarse según alguna condición, a veces es más fácil y legible utilizar el operador ternario en lugar de una cláusula if propiamente dicha. Veremos un ejemplo:"
   ]
  },
  {
   "cell_type": "code",
   "execution_count": 12,
   "metadata": {},
   "outputs": [
    {
     "name": "stdout",
     "output_type": "stream",
     "text": [
      "El descuento es: 25\n",
      "El descuento es: 25\n"
     ]
    }
   ],
   "source": [
    "# if/ else normal\n",
    "order_total = 350\n",
    "if order_total > 100:\n",
    "    discount = 25\n",
    "else:\n",
    "    discount = 0\n",
    "print(f\"El descuento es: {discount}\")\n",
    "\n",
    "# operador ternario\n",
    "discount_ternario = 25 if order_total > 100 else 0\n",
    "print(f\"El descuento es: {discount_ternario}\")"
   ]
  },
  {
   "cell_type": "markdown",
   "metadata": {},
   "source": [
    "Básicamente es: nombre_variable = algo si cumple condición, caso contrario, otro valor."
   ]
  },
  {
   "cell_type": "markdown",
   "metadata": {},
   "source": [
    "# Bucle\n",
    "Un bucle significa ser capaz de repetir la ejecución de un bloque de código más de una vez, de acuerdo con los parámetros otorgados. Hay diferentes construcciones de bucle, que sirven para diferentes propósitos, y Python las ha reducido todas a sólo dos, que puedes usar para conseguir todo lo que necesites. Estas son las sentencias *for* y *while*.\n",
    "\n",
    "Aunque es posible hacer todo lo que necesitas utilizando cualquiera de ellos, tienen propósitos diferentes y, por lo tanto, suelen utilizarse en contextos distintos."
   ]
  },
  {
   "cell_type": "markdown",
   "metadata": {},
   "source": [
    "## El bucle for\n",
    "El bucle *for* se utiliza para recorrer una secuencia, como una lista, tupla o colección de objetos. \n"
   ]
  },
  {
   "cell_type": "code",
   "execution_count": 13,
   "metadata": {},
   "outputs": [
    {
     "name": "stdout",
     "output_type": "stream",
     "text": [
      "0\n",
      "1\n",
      "2\n",
      "3\n",
      "4\n"
     ]
    }
   ],
   "source": [
    "for number in [0, 1, 2, 3, 4]:\n",
    "    print(number)"
   ]
  },
  {
   "cell_type": "markdown",
   "metadata": {},
   "source": [
    "Este simple fragmento de código, cuando se ejecuta, imprime todos los números del 0 al 4. El bucle *for* se alimenta de la lista [0, 1, 2, 3, 4] y, en cada número de iteración, se le da un valor de la secuencia (que se itera secuencialmente en el orden dado), luego se ejecuta el cuerpo del bucle (la línea *print()*). El valor numérico cambia en cada iteración, de acuerdo con el valor que viene a continuación de la secuencia. Cuando se agota la secuencia, el bucle for termina y la ejecución del código se reanuda normalmente con el código después del bucle."
   ]
  },
  {
   "cell_type": "markdown",
   "metadata": {},
   "source": [
    "### Iteracción sobre un intervalo\n",
    "A veces necesitamos iterar sobre un rango de números, y sería bastante fastidioso tener que hacerlo codificando una lista. En tales casos, la función *range()* viene al rescate. Veamos el equivalente del fragmento anterior del código:"
   ]
  },
  {
   "cell_type": "code",
   "execution_count": 14,
   "metadata": {},
   "outputs": [
    {
     "name": "stdout",
     "output_type": "stream",
     "text": [
      "0\n",
      "1\n",
      "2\n",
      "3\n",
      "4\n"
     ]
    }
   ],
   "source": [
    "for number in range(5):\n",
    "    print(number)"
   ]
  },
  {
   "cell_type": "markdown",
   "metadata": {},
   "source": [
    "La función *range()* se usa ampliamente en los programas de Python cuando se trata de crear secuencias; Se puede colocar solo un parametro, que actúa como stop (contando desde 0), o puede pasar dos parametros (start y stop), o incluso tres (start, stop y step)."
   ]
  },
  {
   "cell_type": "code",
   "execution_count": 15,
   "metadata": {},
   "outputs": [
    {
     "name": "stdout",
     "output_type": "stream",
     "text": [
      "list(range(8)) = [0, 1, 2, 3, 4, 5, 6, 7]\n",
      "list(range(2, 8)) = [2, 3, 4, 5, 6, 7]\n",
      "list(range(2, 8, 2)) = [2, 4, 6]\n",
      "list(range(8, 2, -2)) = [8, 6, 4]\n"
     ]
    }
   ],
   "source": [
    "print(f\"{list(range(8)) = }\")\n",
    "print(f\"{list(range(2, 8)) = }\")\n",
    "print(f\"{list(range(2, 8, 2)) = }\")\n",
    "print(f\"{list(range(8, 2, -2)) = }\")"
   ]
  },
  {
   "cell_type": "markdown",
   "metadata": {},
   "source": [
    "### Iteracción sobre una secuencia\n",
    "Ahora, vamos a realizar un pequeño ejercicio para iterar sobre una secuncia con los conceptos aprendidos:"
   ]
  },
  {
   "cell_type": "code",
   "execution_count": 16,
   "metadata": {},
   "outputs": [
    {
     "name": "stdout",
     "output_type": "stream",
     "text": [
      "La posición 0 tiene el apellido Marroquin\n",
      "La posición 1 tiene el apellido Perez\n",
      "La posición 2 tiene el apellido Lopez\n"
     ]
    }
   ],
   "source": [
    "last_names = [\"Marroquin\", \"Perez\", \"Lopez\"]\n",
    "for position in range(len(last_names)):\n",
    "    print(f\"La posición {position} tiene el apellido {last_names[position]}\")"
   ]
  },
  {
   "cell_type": "markdown",
   "metadata": {},
   "source": [
    "Explicamos el código partiendo de la parte más interna de lo que intentamos comprender y nos expandimos hacia afuera. Entonces, *len(last_names)* es la longitud de la lista de las_names: 3. Por lo tanto, *range(len(last_names))* se transforma en *range(3)*. Esto nos da el rango [0, 3), que es básicamente la secuencia (0, 1, 2). Esto significa que el bucle *for* ejecutará tres iteraciones. En el primero, la posición tomará el valor 0, mientras que en el segundo tomará el valor 1, y el valor 2 en la tercera y última iteración. Estos valores corresponden a las posibles posiciones de indexación para la lista de *last_names*.\n",
    "\n",
    "En Python, se puede iterar sobre cualquier secuencia o colección; por ello, el código resumido es:"
   ]
  },
  {
   "cell_type": "code",
   "execution_count": 17,
   "metadata": {},
   "outputs": [
    {
     "name": "stdout",
     "output_type": "stream",
     "text": [
      "El apellido es Marroquin\n",
      "El apellido es Perez\n",
      "El apellido es Lopez\n"
     ]
    }
   ],
   "source": [
    "last_names = [\"Marroquin\", \"Perez\", \"Lopez\"]\n",
    "for last_name in last_names:\n",
    "    print(f\"El apellido es {last_name}\")"
   ]
  },
  {
   "cell_type": "markdown",
   "metadata": {},
   "source": [
    "y si necesitamos imprimir la posición, se puede usar la función incorporada *enumerate()* como se muestra a continuación:"
   ]
  },
  {
   "cell_type": "code",
   "execution_count": 18,
   "metadata": {},
   "outputs": [
    {
     "name": "stdout",
     "output_type": "stream",
     "text": [
      "La posición 0 tiene el apellido Marroquin\n",
      "La posición 1 tiene el apellido Perez\n",
      "La posición 2 tiene el apellido Lopez\n"
     ]
    }
   ],
   "source": [
    "last_names = [\"Marroquin\", \"Perez\", \"Lopez\"]\n",
    "for position, last_name in enumerate(last_names):\n",
    "    print(f\"La posición {position} tiene el apellido {last_name}\")\n",
    "\n"
   ]
  },
  {
   "cell_type": "markdown",
   "metadata": {},
   "source": [
    "Tenga en cuenta que enumerate() devuelve una tupla doble (position, last_name) en cada iteración, pero aún así, es mucho más legible (y más eficiente) que el ejemplo *range(len(...))*. Puedes llamar a *enumerate()* con un parámetro de inicio, como *enumerate(iterable, start)*, y comenzará desde el principio, en lugar de 0."
   ]
  },
  {
   "cell_type": "markdown",
   "metadata": {},
   "source": [
    "### Iteradores e Iterables\n",
    "Un interable es un objeto capaz de devolver a sus miembros uno a la vez. Los ejemplos de iterables incluyen todos los tipos de secuencia (como list, string y tuple) y algunos tipos que no son de secuencia como dict, objetos de archivo y objetos de cualquier clase que defina con un método __iter__() o con un método __getitem__() que implementa la semántica de secuencia.\n",
    "\n",
    "Los iterables se pueden usar en un bucle *for* y en muchos otros lugares donde se necesita una secuencia (*zip()*, *map()*, entre otros). Cuando un objeto iterable se pasa como argumento a la función incorporada *iter()*, devuelve un iterador para el objeto. Este iterador es bueno para una pasada sobre el conjunto de valores. Cuando se utilizan iterables, normalmente no es necesario llamar a *iter()* ni tratar con objetos iteradores usted mismo. La declaración *for* lo hace automáticamente, creando una variable temporal sin nombre para contener el iterador durante la duración del ciclo.\n",
    "\n",
    "En cambio, un iterador es un objeto que representa un flujo de datos. Las llamadas repetidas al método __next__() del iterador (o pasarlo a la función integrada next()) devuelven elementos sucesivos en la secuencia. Cuando no hay más datos disponibles, se genera una excepción StopIteration. En este punto, el objeto iterador está agotado y cualquier llamada adicional a su método __next__() simplemente genera StopIteration nuevamente. Se requiere que los iteradores tengan un método __iter__() que devuelva el objeto iterador en sí, de modo que cada iterador también sea iterable y pueda usarse en la mayoría de los lugares donde se aceptan otros iterables. Una excepción notable es el código que intenta múltiples pasadas de iteración. Un objeto contenedor (como una lista) produce un nuevo iterador cada vez que lo pasa a la función iter() o lo usa en un bucle for. Intentar esto con un iterador simplemente devolverá el mismo objeto iterador agotado utilizado en la pasada de iteración anterior, haciéndolo parecer un contenedor vacío.\n",
    "\n",
    "Se podría explicar la diferencia entre iteradores e iterables usando un libro como analogía. El libro sería nuestra clase iterable, ya que tiene diferentes páginas a las que podemos acceder. El libro podría ser una lista, y cada página un elemento de la lista. Por otro lado, el iterador sería un marcapáginas, es decir, una referencia que nos indica en qué posición estamos del libro, y que puede ser usado para “navegar” por él.\n",
    "\n",
    "Es posible obtener un iterador a partir de una clase iterable con la función iter(). En el siguiente ejemplo podemos ver como obtenemos el iterador del libro."
   ]
  },
  {
   "cell_type": "code",
   "execution_count": 4,
   "metadata": {},
   "outputs": [],
   "source": [
    "libro = ['página1', 'página2', 'página3', 'página4']\n",
    "marcapaginas = iter(libro)"
   ]
  },
  {
   "cell_type": "markdown",
   "metadata": {},
   "source": [
    "Llegados a este punto, nuestro marcapaginas almacena un iterador. Se trata de un objeto que podemos usar para navegar a través del libro. Usando la función next() sobre el iterador, podemos ir accediendo secuencialmente a cada elemento de nuestra lista (las páginas de libro)."
   ]
  },
  {
   "cell_type": "code",
   "execution_count": 5,
   "metadata": {},
   "outputs": [
    {
     "name": "stdout",
     "output_type": "stream",
     "text": [
      "página1\n",
      "página2\n",
      "página3\n",
      "página4\n"
     ]
    }
   ],
   "source": [
    "print(next(marcapaginas))\n",
    "print(next(marcapaginas))\n",
    "print(next(marcapaginas))\n",
    "print(next(marcapaginas))"
   ]
  },
  {
   "cell_type": "markdown",
   "metadata": {},
   "source": [
    "Se lanza una exceptión *StopIteration* cuando no hay más elementos que iterar."
   ]
  },
  {
   "cell_type": "code",
   "execution_count": 6,
   "metadata": {},
   "outputs": [
    {
     "name": "stdout",
     "output_type": "stream",
     "text": [
      "Ya no hay paginas\n"
     ]
    }
   ],
   "source": [
    "try:\n",
    "    print(next(marcapaginas))\n",
    "except StopIteration:\n",
    "    print(f\"Ya no hay paginas\")"
   ]
  },
  {
   "cell_type": "markdown",
   "metadata": {},
   "source": [
    "### Iteracción sobre secuencias múltiples\n",
    "Veamos un ejemplo de cómo iterar sobre dos secuencias que poseen la misma longitud, para trabajar sobre sus respectivos elementos de dos en dos. Supongamos que tenemos una lista de personas y una lista de números que representan la edad de las personas de la primera lista. Queremos imprimir el par persona/edad en una línea para cada una de ellas. Una manera de hacerlo sería:"
   ]
  },
  {
   "cell_type": "code",
   "execution_count": 20,
   "metadata": {},
   "outputs": [
    {
     "name": "stdout",
     "output_type": "stream",
     "text": [
      "Nicolas tiene 26 años\n",
      "Piero tiene 27 años\n",
      "Junior tiene 28 años\n",
      "Alonso tiene 26 años\n"
     ]
    }
   ],
   "source": [
    "people = [\"Nicolas\", \"Piero\", \"Junior\", \"Alonso\"]\n",
    "ages = [26, 27, 28, 26]\n",
    "for position in range(len(people)):\n",
    "    person = people[position]\n",
    "    age = ages[position]\n",
    "    print(f\"{person} tiene {age} años\")"
   ]
  },
  {
   "cell_type": "markdown",
   "metadata": {},
   "source": [
    "El código funciona, pero no es muy pitónico ya que resulta bastante engorroso tener que obtener la longitud de las personas, construir un rango, y luego iterar sobre ello. Para algunas estructuras de datos también puede ser costoso recuperar elementos por su posición. Por ello, vamos a reescribir el código usando la función *enumerate()*."
   ]
  },
  {
   "cell_type": "code",
   "execution_count": 22,
   "metadata": {},
   "outputs": [
    {
     "name": "stdout",
     "output_type": "stream",
     "text": [
      "Nicolas tiene 26 años\n",
      "Piero tiene 27 años\n",
      "Junior tiene 28 años\n",
      "Alonso tiene 26 años\n"
     ]
    }
   ],
   "source": [
    "people = [\"Nicolas\", \"Piero\", \"Junior\", \"Alonso\"]\n",
    "ages = [26, 27, 28, 26]\n",
    "for position, person in enumerate(people):\n",
    "    age = ages[position]\n",
    "    print(f\"{person} tiene {age} años\")"
   ]
  },
  {
   "cell_type": "markdown",
   "metadata": {},
   "source": [
    "El código se ve mejor ya que se está iterando correctamente en las personas, pero todavía estamos obteniendo la edad utilizando la indexación posicional. Ante ello, Python nos ofrece una gran herramienta que responde a la función *zip()*."
   ]
  },
  {
   "cell_type": "code",
   "execution_count": 30,
   "metadata": {},
   "outputs": [
    {
     "name": "stdout",
     "output_type": "stream",
     "text": [
      "Nicolas tiene 26 años\n",
      "Piero tiene 27 años\n",
      "Junior tiene 28 años\n",
      "Alonso tiene 26 años\n"
     ]
    }
   ],
   "source": [
    "people = [\"Nicolas\", \"Piero\", \"Junior\", \"Alonso\"]\n",
    "ages = [26, 27, 28, 26]\n",
    "for person, age in zip(people, ages):\n",
    "    print(f\"{person} tiene {age} años\")"
   ]
  },
  {
   "cell_type": "markdown",
   "metadata": {},
   "source": [
    "Otro ejemplo que muestra la elegancia de Python para trabajar con el bucle *for* en varias listas, es el siguiente:"
   ]
  },
  {
   "cell_type": "code",
   "execution_count": 31,
   "metadata": {},
   "outputs": [
    {
     "name": "stdout",
     "output_type": "stream",
     "text": [
      "Nicolas tiene 26 años y es Economista\n",
      "Piero tiene 27 años y es Ingeniero Ambiental\n",
      "Junior tiene 28 años y es Diseñador Gráfico\n",
      "Alonso tiene 26 años y es Administrador Logístico\n",
      "Jairo tiene 20 años y es Ingeniero de Software\n"
     ]
    }
   ],
   "source": [
    "people = [\"Nicolas\", \"Piero\", \"Junior\", \"Alonso\", \"Jairo\"]\n",
    "ages = [26, 27, 28, 26, 20]\n",
    "careers = [\"Economista\", \"Ingeniero Ambiental\", \"Diseñador Gráfico\", \"Administrador Logístico\", \"Ingeniero de Software\"]\n",
    "\n",
    "for data in zip(people, ages, careers):\n",
    "    person, age, career = data\n",
    "    print(f\"{person} tiene {age} años y es {career}\")"
   ]
  },
  {
   "cell_type": "markdown",
   "metadata": {},
   "source": [
    "## El bucle While\n",
    "El bucle *for* es increíblemente útil cuando necesitas hacer un iteracción sobre una secuencia o una colección de elementos; sin embargo, existen casos en los que sólo necesitas hacer un bucle hasta que se cumpla alguna condición, o incluso un bucle indefinido hasta que la aplicación se detenga, como los casos en los que realmente no tenemos algo sobre lo que iterar, y por lo tanto el bucle *for* sería una mala elección. Para esos casos, Python nos proporciona el bucle *while*.\n",
    "\n",
    "El bucle *while* es similar al bucle *for* en que ambos hacen un bucle, y en cada iteración ejecutan un cuerpo de instrucciones. La diferencia es que el bucle *while* no hace un bucle sobre una secuencia (puede, pero tienes que escribir la lógica manualmente, lo que no tendría mucho sentido ya que sólo usarías un bucle *for*); sino que hace un bucle mientras se cumpla una determinada condición. Cuando la condición deja de cumplirse, el bucle termina.\n",
    "\n",
    "Realizaremos un código que calcula la representación binaria del número 39:"
   ]
  },
  {
   "cell_type": "code",
   "execution_count": 47,
   "metadata": {},
   "outputs": [
    {
     "name": "stdout",
     "output_type": "stream",
     "text": [
      "La representación binaria de 39 es: 100111\n"
     ]
    }
   ],
   "source": [
    "numero_no_binario = 39\n",
    "remainders_numero = []\n",
    "while numero_no_binario > 0:\n",
    "    remainder_numero = numero_no_binario % 2\n",
    "    remainders_numero.append(remainder_numero)\n",
    "    numero_no_binario //= 2\n",
    "remainders_numero.reverse()\n",
    "binario = int(\"\".join(map(str, remainders_numero)))\n",
    "print(f\"La representación binaria de 39 es: {binario}\")"
   ]
  },
  {
   "cell_type": "markdown",
   "metadata": {},
   "source": [
    "Podemos mejorar el código usando la función *divmod()* que tiene como parametro un número y un divisor y devuelve como parametro una tupla con la división entera y el resto. Un ejemplo sería, *divmod(19,3)* y nos daría como resultado *(6,1)* que sería: *6 x 3 + 1 = 19*"
   ]
  },
  {
   "cell_type": "code",
   "execution_count": 57,
   "metadata": {},
   "outputs": [
    {
     "name": "stdout",
     "output_type": "stream",
     "text": [
      "La representación binaria de 39 es: 100111\n"
     ]
    }
   ],
   "source": [
    "numero_no_binario = 39\n",
    "remainders_numero = []\n",
    "while numero_no_binario > 0:\n",
    "    numero_no_binario, remainder = divmod(numero_no_binario, 2)\n",
    "    remainders_numero.append(remainder)\n",
    "remainders_numero.reverse()\n",
    "binario = int(\"\".join(map(str, remainders_numero)))\n",
    "print(f\"La representación binaria de 39 es: {binario}\")"
   ]
  },
  {
   "cell_type": "markdown",
   "metadata": {},
   "source": [
    "Finalmente, realizaremos un ejercicio anterior usando el bucle *while* para dejar en claro que todo lo que se hace con el bucle *for* se puede hacer con el *while* (aunque se tendría que usar código repetitivo que no lo hace eficiente)."
   ]
  },
  {
   "cell_type": "code",
   "execution_count": 49,
   "metadata": {},
   "outputs": [
    {
     "name": "stdout",
     "output_type": "stream",
     "text": [
      "Nicolas tiene 26 años y es Economista\n",
      "Piero tiene 27 años y es Ingeniero Ambiental\n",
      "Junior tiene 28 años y es Diseñador Gráfico\n",
      "Alonso tiene 26 años y es Administrador Logístico\n",
      "Jairo tiene 20 años y es Ingeniero de Software\n"
     ]
    }
   ],
   "source": [
    "people = [\"Nicolas\", \"Piero\", \"Junior\", \"Alonso\", \"Jairo\"]\n",
    "ages = [26, 27, 28, 26, 20]\n",
    "careers = [\"Economista\", \"Ingeniero Ambiental\", \"Diseñador Gráfico\", \"Administrador Logístico\", \"Ingeniero de Software\"]\n",
    "position = 0\n",
    "\n",
    "while position < len(people):\n",
    "    person = people[position]\n",
    "    age = ages[position]\n",
    "    career = careers[position]\n",
    "    print(f\"{person} tiene {age} años y es {career}\")\n",
    "    position += 1"
   ]
  },
  {
   "cell_type": "markdown",
   "metadata": {},
   "source": [
    "## Las sentencias break y continue\n",
    "Según la tarea a realizar, a veces se necesita alterar el flujo regular de un bucle. Puedes saltarte una iteración (tantas veces como quieras) o salirte del bucle por completo. Un caso de uso común para saltarse iteraciones es, por ejemplo, cuando estás iterando sobre una lista de elementos y necesitas trabajar en cada uno de ellos sólo si se verifica alguna condición. Por otro lado, si estás iterando sobre una colección de elementos, y has encontrado uno de ellos que satisface alguna necesidad que tienes, puedes decidir no continuar el bucle por completo y, por tanto, salir de él.\n",
    "\n",
    "Supongamos que quieres aplicar un descuento del 20% a todos los productos de una lista de la cesta para los que tienen fecha de caducidad hoy. La forma de conseguirlo es utilizar la sentencia continue, que indica a la construcción de bucle (*for* o *while*) que detenga inmediatamente la ejecución del cuerpo y pase a la siguiente iteración, si la hubiera. La representación en código sería de la siguiente manera:\n"
   ]
  },
  {
   "cell_type": "code",
   "execution_count": 52,
   "metadata": {},
   "outputs": [
    {
     "name": "stdout",
     "output_type": "stream",
     "text": [
      "Price for sku 1 is now 80.0\n",
      "Price for sku 3 is now 16.0\n"
     ]
    }
   ],
   "source": [
    "from datetime import date, timedelta\n",
    "today = date.today()\n",
    "tomorrow = today + timedelta(days=1)\n",
    "products = [\n",
    "    {'sku': '1', 'expiration_date': today, 'price': 100.0},\n",
    "    {'sku': '2', 'expiration_date': tomorrow, 'price': 50},\n",
    "    {'sku': '3', 'expiration_date': today, 'price': 20}\n",
    "]\n",
    "\n",
    "for product in products:\n",
    "    if product[\"expiration_date\"] != today:\n",
    "        continue\n",
    "    product[\"price\"] *= 0.8\n",
    "    print(\n",
    "        'Price for sku', product['sku'],\n",
    "        'is now', product['price'])"
   ]
  },
  {
   "cell_type": "markdown",
   "metadata": {},
   "source": [
    "Veamos ahora un ejemplo de salida de un bucle. Supongamos que queremos saber si al menos uno de los elementos de una lista se evalúa como *True* al introducirlo en la función *bool()*. Dado que necesitamos saber si hay al menos uno, cuando lo encontremos, no necesitamos seguir escaneando la lista. En código Python, esto se traduce en el uso de la sentencia *break*."
   ]
  },
  {
   "cell_type": "code",
   "execution_count": null,
   "metadata": {},
   "outputs": [],
   "source": [
    "items = [0, None, 0.0, True, 0, 7]\n",
    "found = False   # we initialize the flag\n",
    "for item in items:\n",
    "    print('Escaneando item', item)\n",
    "    if item:\n",
    "        found = True # we update the flag\n",
    "        break\n",
    "    if found: # we inspect the flag\n",
    "        print('Al menos un item evaluado es True')\n",
    "    else:\n",
    "        print('Todos los items evaluados son False')"
   ]
  },
  {
   "cell_type": "markdown",
   "metadata": {},
   "source": [
    "La sentencia *break* actúa exactamente igual que la *continue*, en el sentido de que detiene inmediatamente la ejecución del cuerpo del bucle, pero también impide que se ejecuten más iteraciones, con lo que se sale del bucle. Las sentencias *continue* y *break* pueden usarse juntas sin limitación en su número, tanto en las construcciones de bucle *for* como *while*."
   ]
  },
  {
   "cell_type": "markdown",
   "metadata": {},
   "source": [
    "## Una cláusula especial else\n",
    "Una de las características que hemos visto sólo en el lenguaje Python es la posibilidad de tener cláusulas *else* después de los bucles *while* y *for*. Se usa muy raramente, pero es definitivamente útil tenerla. En resumen, puedes tener un conjunto *else* después de un bucle *for* o *while*. Si el bucle termina normalmente, por agotamiento del iterador (bucle *for*) o porque la condición finalmente no se cumple (bucle *while*), entonces se ejecuta el conjunto *else* (si está presente). Si la ejecución se interrumpe por una sentencia *break*, la cláusula else no se ejecuta.\n",
    "\n",
    "Veamos dos ejemplos que hacen exactamente lo mismo, pero uno de ellos utiliza la sintaxis especial for...else. Se quiere encontrar, entre una colección de personas, una que pueda conducir un coche:"
   ]
  },
  {
   "cell_type": "code",
   "execution_count": 58,
   "metadata": {},
   "outputs": [],
   "source": [
    "# for.no.else.py\n",
    "class DriverException(Exception):\n",
    "    pass\n",
    "people = [('Nicolas', 26), ('Piero', 27), ('Junior', 28), ('Alonso', 26), ('Matias', 17)]\n",
    "driver = None # we update the flag (patrón bandera)\n",
    "for person, age in people:\n",
    "    if age >= 18:\n",
    "        driver = (person, age)\n",
    "        break\n",
    "if driver is None:\n",
    "    raise DriverException('Driver not found.')"
   ]
  },
  {
   "cell_type": "markdown",
   "metadata": {},
   "source": [
    "Observe de nuevo el patrón de la bandera. Establecemos que el conductor sea Ninguno, luego si encontramos uno, actualizamos la bandera del conductor, y luego, al final del bucle, lo inspeccionamos para ver si se encontró uno. De todas formas, fíjate en que si no se encuentra un driver, se lanza DriverException, indicando al programa que la ejecución no puede continuar (nos falta el driver).\n",
    "\n",
    "La misma funcionalidad puede reescribirse de forma un poco más elegante utilizando el siguiente código:"
   ]
  },
  {
   "cell_type": "code",
   "execution_count": 59,
   "metadata": {},
   "outputs": [],
   "source": [
    "class DriverException(Exception):\n",
    "    pass\n",
    "people = [('Nicolas', 26), ('Piero', 27), ('Junior', 28), ('Alonso', 26), ('Matias', 17)]\n",
    "for person, age in people:\n",
    "    if age >= 18:\n",
    "        driver = (person, age)\n",
    "        break\n",
    "else:\n",
    "    raise DriverException('Driver not found.')"
   ]
  },
  {
   "cell_type": "markdown",
   "metadata": {},
   "source": [
    "Observe que ya no estamos obligados a utilizar el patrón de bandera. La excepción se lanza como parte de la lógica del bucle for, lo cual tiene sentido, porque el bucle for está comprobando alguna condición. Todo lo que necesitamos es establecer un objeto controlador en caso de que encontremos uno, porque el resto del código va a utilizar esa información en algún lugar. Observa que el código es más corto y más elegante, porque la lógica está ahora correctamente agrupada donde debe estar."
   ]
  },
  {
   "cell_type": "markdown",
   "metadata": {},
   "source": [
    "# Expresiones de asignación\n",
    "Las expresiones de asignación nos permiten vincular un valor a un nombre en lugares donde las sentencias de asignación normales no están permitidas. En lugar del operador de asignación normal \"=\", las expresiones de asignación utilizan \":=\" (conocido como el operador walrus o morsa porque se parece a los ojos y colmillos de una morsa)."
   ]
  },
  {
   "cell_type": "markdown",
   "metadata": {},
   "source": [
    "## Statements y expressions\n",
    "Para entender la diferencia entre asignaciones normales y expresiones de asignación, necesitamos entender la diferencia entre sentencias y expresiones. Según la documentación de Python, un *statement* es parte de un conjunto (un «bloque» de código). Un *statement* puede ser una expresión o una de varias construcciones con una palabra clave, como *if*, *while* o *for*. \n",
    "\n",
    "En cambio, una *expression* es un fragmento de código que puede evaluarse para obtener algún valor. En otras palabras, una *expression* es una acumulación de elementos de expresión como literales, nombres, acceso a atributos, operadores o llamadas a funciones que devuelven un valor.\n",
    "\n",
    "La principal característica de una *expression* es que tiene un valor de retorno. Tener en cuenta que una *expression* puede ser un *statement*, pero no todas los *statement* son *expressions*. Por ejemplo, las asignaciones como *nombre = \"Nicolas\"* no son *expressions*, por lo que no tienen valor de retorno. Esto significa que no puede utilizar una sentencia de asignación en la expresión condicional de un bucle *while* o una sentencia *if* (o en cualquier otro lugar donde se requiera un valor)."
   ]
  },
  {
   "cell_type": "markdown",
   "metadata": {},
   "source": [
    "## Usando el operador walrus o morsa\n",
    "Sin expresiones de asignación, tendría que utilizar dos sentencias distintas si desea vincular un valor a un nombre y utilizar ese valor en una expresión. Por ejemplo, es bastante común ver código similar a:"
   ]
  },
  {
   "cell_type": "code",
   "execution_count": 4,
   "metadata": {},
   "outputs": [
    {
     "name": "stdout",
     "output_type": "stream",
     "text": [
      "No es divisible! El resto es 1.\n"
     ]
    }
   ],
   "source": [
    "value = 10\n",
    "modulus = 3\n",
    "remainder = value % modulus\n",
    "if remainder:\n",
    "    print(f\"No es divisible! El resto es {remainder}.\")\n",
    "else:\n",
    "    print(\"Es divisible!\")"
   ]
  },
  {
   "cell_type": "markdown",
   "metadata": {},
   "source": [
    "Con expresiones de asignación, se puede reescribir de la siguiente manera:"
   ]
  },
  {
   "cell_type": "code",
   "execution_count": 7,
   "metadata": {},
   "outputs": [
    {
     "name": "stdout",
     "output_type": "stream",
     "text": [
      "Es divisible!\n"
     ]
    }
   ],
   "source": [
    "value = 10\n",
    "modulus = 2\n",
    "if remainder := value % modulus:\n",
    "    print(f\"No es divisible! El resto es {remainder}.\")\n",
    "else:\n",
    "    print(\"Es divisible!\")"
   ]
  },
  {
   "cell_type": "markdown",
   "metadata": {},
   "source": [
    "Las expresiones de asignación nos permiten escribir menos líneas de código. Veamos otro ejemplo un poco más grande para ver cómo una expresión de asignación puede realmente simplificar un bucle *while*.\n",
    "\n",
    "En los scripts interactivos, a menudo necesitamos pedir al usuario que elija entre varias opciones. Por ejemplo, supongamos que estamos escribiendo un script interactivo que permite a los clientes de una pastelería elegir qué sabor quieren. Para evitar confusiones a la hora de preparar los pedidos, queremos asegurarnos de que el usuario elige uno de los sabores disponibles. Sin expresiones de asignación, podríamos escribir algo como esto:"
   ]
  },
  {
   "cell_type": "code",
   "execution_count": 1,
   "metadata": {},
   "outputs": [
    {
     "name": "stdout",
     "output_type": "stream",
     "text": [
      "['Torta helada', 'Tres leches lucúma', 'Selva Negra', 'Pie de limón', 'Red velvet']\n",
      "Disculpe, '' no es una opción válida.\n",
      "Tú escogiste: 'Torta helada'.\n"
     ]
    }
   ],
   "source": [
    "cakes = [\"Torta helada\", \"Tres leches lucúma\", \"Selva Negra\", \"Pie de limón\", \"Red velvet\"]\n",
    "prompt = \"Escoger una torta: \"\n",
    "print(cakes)\n",
    "while True:\n",
    "    choice = input(prompt)\n",
    "    if choice in cakes:\n",
    "        break\n",
    "    print(f\"Disculpe, '{choice}' no es una opción válida.\")\n",
    "print(f\"Tú escogiste: '{choice}'.\")"
   ]
  },
  {
   "cell_type": "markdown",
   "metadata": {},
   "source": [
    "Utilizando una expresión de asignación, el código se reescribiría de la siguiente manera:"
   ]
  },
  {
   "cell_type": "code",
   "execution_count": 4,
   "metadata": {},
   "outputs": [
    {
     "name": "stdout",
     "output_type": "stream",
     "text": [
      "['Torta helada', 'Tres leches', 'Selva Negra', 'Pie de limón', 'Red velvet']\n",
      "Disculpe, 'perro' no es una opción válida.\n",
      "Disculpe, 'perro' no es una opción válida.\n",
      "Tú escogiste: 'Pie de limón'.\n"
     ]
    }
   ],
   "source": [
    "cakes = [\"Torta helada\", \"Tres leches\", \"Selva Negra\", \"Pie de limón\", \"Red velvet\"]\n",
    "prompt = \"Escoger una torta: \"\n",
    "print(cakes)\n",
    "while (choice := input(prompt)) not in cakes:\n",
    "    print(f\"Disculpe, '{choice}' no es una opción válida.\")\n",
    "print(f\"Tú escogiste: '{choice}'.\")"
   ]
  },
  {
   "cell_type": "markdown",
   "metadata": {},
   "source": [
    "## Advertencia\n",
    "La introducción del operador walrus en Python fue algo controvertida; ya que, para algunas personas temían que facilitaría demasiado la escritura de código feo y no Python. El operador walrus o morsa puede mejorar el código y hacerlo más fácil de leer. Sin embargo, como cualquier característica poderosa, puede ser abusada para escribir código ofuscado. Es recomendable que se utilice con moderación para no afectar la legibilidad del código."
   ]
  },
  {
   "cell_type": "markdown",
   "metadata": {},
   "source": [
    "# Poniendo todo esto junto\n",
    "Ahora que ya hemos visto los aspectos básicos sobre condicionales y bucles, realizaremos dos ejemplos que van a combinar todos estos conceptos. Ten en cuenta que se va a escribir un algoritmo muy ineficiente y rudimentario para detectar primos ya que lo importante es concentrarnos en aquellas partes del código que pertenecen al tema que hemos estado revisando:"
   ]
  },
  {
   "cell_type": "markdown",
   "metadata": {},
   "source": [
    "## Un generador de números primos\n",
    "Un número primo (o primo) es un número natural mayor que 1 que no es producto de dos números naturales menores. Un número natural mayor que 1 que no es primo se llama número compuesto.\n",
    "\n",
    "Basándonos en esta definición, si consideramos los 15 primeros números naturales, podemos ver que 2, 3, 5, 7, 11 y 13 son primos, mientras que 1, 4, 6, 8, 9, 10, 12, 14 y 15 no lo son. Para que un ordenador nos diga si un número, N, es primo, podemos dividir ese número entre los números naturales del intervalo [2, N). Si alguna de esas divisiones da cero como resto, entonces el número no es primo. \n",
    "Lo cual se puede escribir de la siguiente manera: "
   ]
  },
  {
   "cell_type": "code",
   "execution_count": 12,
   "metadata": {},
   "outputs": [
    {
     "name": "stdout",
     "output_type": "stream",
     "text": [
      "Del 0 al 65 hay 18 numeros primos\n",
      "Los cuales son: [2, 3, 5, 7, 11, 13, 17, 19, 23, 29, 31, 37, 41, 43, 47, 53, 59, 61]\n"
     ]
    }
   ],
   "source": [
    "numbers_primes = [] # this will contain the primes at the end\n",
    "number_limit = int(input(\"Ingrese un número entero mayor a cero: \")) # the limit, inclusive\n",
    "for n in range(2, number_limit + 1):\n",
    "    is_prime = True # flag, new at each iteration of outer for\n",
    "    for divisor in range(2, n):\n",
    "        if n % divisor == 0:\n",
    "            is_prime = False\n",
    "            break\n",
    "    if is_prime: # check on flag\n",
    "        numbers_primes.append(n)\n",
    "print(f\"Del 0 al {number_limit} hay {len(numbers_primes)} numeros primos\")\n",
    "print(f\"Los cuales son: {numbers_primes}\")"
   ]
  },
  {
   "cell_type": "markdown",
   "metadata": {},
   "source": [
    "Hay muchas cosas que notar en el código anterior. En primer lugar, creamos una lista de primos vacía, que contendrá los primos al final. El límite es 100, y puedes ver que es inclusivo en la forma en que llamamos a range() en el bucle exterior. Si escribiéramos range(2, hasta) sería [2, hasta). Por lo tanto range(2, hasta + 1) nos da [2, hasta + 1) = [2, hasta].\n",
    "\n",
    "El mismo código se puede reescribir de la siguiente manera:"
   ]
  },
  {
   "cell_type": "code",
   "execution_count": 13,
   "metadata": {},
   "outputs": [
    {
     "name": "stdout",
     "output_type": "stream",
     "text": [
      "Del 0 al 62 hay 18 numeros primos\n",
      "Los cuales son: [2, 3, 5, 7, 11, 13, 17, 19, 23, 29, 31, 37, 41, 43, 47, 53, 59, 61]\n"
     ]
    }
   ],
   "source": [
    "numbers_primes = []\n",
    "number_limit = int(input(\"Ingrese un número entero mayor a cero: \"))\n",
    "for n in range(2, number_limit + 1):\n",
    "    for divisor in range(2, n):\n",
    "        if n % divisor == 0:\n",
    "            break\n",
    "    else:\n",
    "        numbers_primes.append(n)\n",
    "print(f\"Del 0 al {number_limit} hay {len(numbers_primes)} numeros primos\")\n",
    "print(f\"Los cuales son: {numbers_primes}\")"
   ]
  },
  {
   "cell_type": "markdown",
   "metadata": {},
   "source": [
    "## Aplicando descuentos\n",
    "En este ejemplo, se muestra una técnica muy usada. En muchos lenguajes de programación, además de las construcciones if/elif/else, vengan en la forma o sintaxis que vengan, puedes encontrar otra sentencia, normalmente llamada switch/case, que no está en Python. Es el equivalente a una cascada de cláusulas if/elif/.../elif/else.\n",
    "\n",
    "Un ejemplo es el siguiente:"
   ]
  },
  {
   "cell_type": "code",
   "execution_count": 19,
   "metadata": {},
   "outputs": [
    {
     "name": "stdout",
     "output_type": "stream",
     "text": [
      "El dia de hoy es: 3\n",
      "El nombre del dia es: Thursday\n",
      "Es Día laborable\n"
     ]
    }
   ],
   "source": [
    "from datetime import date\n",
    "day_number = date.today().weekday()\n",
    "day_name = date.today().strftime(\"%A\")\n",
    "print(f\"El dia de hoy es: {day_number}\")\n",
    "print(f\"El nombre del dia es: {day_name}\")\n",
    "if 1 <= day_number <= 5:\n",
    "    day = 'Día laborable'\n",
    "elif day_number == 6:\n",
    "    day = 'Sabado - No laborable'\n",
    "elif day_number == 0:\n",
    "    day = 'Domingo - No laborable'\n",
    "else:\n",
    "    day = ''\n",
    "    raise ValueError(f\"{str(day_number)} no es un número de día válido\")\n",
    "print(f\"Es {day}\")"
   ]
  },
  {
   "cell_type": "markdown",
   "metadata": {},
   "source": [
    "A partir de la versión 3.10 de Python, se puede escribir de la siguiente manera la expresión condicional switch usando la función de concordancia de patrones estructurales:"
   ]
  },
  {
   "cell_type": "code",
   "execution_count": 22,
   "metadata": {},
   "outputs": [
    {
     "name": "stdout",
     "output_type": "stream",
     "text": [
      "El dia de hoy es: 3\n",
      "El nombre del dia es: Thursday\n",
      "Es Día laborable\n"
     ]
    }
   ],
   "source": [
    "match day_number:\n",
    "    case 1 | 2 | 3 | 4 | 5:\n",
    "        day = 'Día laborable'\n",
    "    case 6:\n",
    "        day = 'Sabado - No laborable'\n",
    "    case 0:\n",
    "        day = 'Domingo - No laborable'\n",
    "    case _:\n",
    "        raise ValueError(f\"{str(day_number)} no es un número de día válido\")\n",
    "print(f\"El dia de hoy es: {day_number}\")\n",
    "print(f\"El nombre del dia es: {day_name}\")\n",
    "print(f\"Es {day}\")"
   ]
  },
  {
   "cell_type": "markdown",
   "metadata": {},
   "source": [
    "Empecemos el nuevo ejemplo simplemente escribiendo un código que asigne un descuento a los clientes basándose en el valor de su cupón. Mantendremos la lógica al mínimo ya que nos enfocaremos a entender los condicionales y bucles:"
   ]
  },
  {
   "cell_type": "code",
   "execution_count": 27,
   "metadata": {},
   "outputs": [
    {
     "name": "stdout",
     "output_type": "stream",
     "text": [
      "El id del customer es 1 con un precio de 200 y tiene un descuento de 20.0 soles.\n",
      "El id del customer es 2 con un precio de 150 y tiene un descuento de 45.0 soles.\n",
      "El id del customer es 3 con un precio de 100 y tiene un descuento de 50.0 soles.\n",
      "El id del customer es 4 con un precio de 110 y tiene un descuento de 15.0 soles.\n"
     ]
    }
   ],
   "source": [
    "customers = [\n",
    "    dict(id=1, total=200, coupon_code='F20'), # F20: fijo, 20\n",
    "    dict(id=2, total=150, coupon_code='P30'), # P30: porcentaje, 30%   \n",
    "    dict(id=3, total=100, coupon_code='P50'), # P50: porcentaje, 50%\n",
    "    dict(id=4, total=110, coupon_code='F15'), # F15: fijo, 15\n",
    "]\n",
    "\n",
    "for customer in customers:\n",
    "    code = customer[\"coupon_code\"]\n",
    "    if code == \"F20\":\n",
    "        customer[\"discount\"] = 20.0\n",
    "    elif code == \"F15\":\n",
    "        customer[\"discount\"] = 15.0\n",
    "    elif code == \"P30\":\n",
    "        customer[\"discount\"] = customer[\"total\"] * 0.3\n",
    "    elif code == \"P50\":\n",
    "        customer[\"discount\"] = customer[\"total\"] * 0.5\n",
    "    else:\n",
    "        customer[\"discount\"] = 0.0\n",
    "    \n",
    "    print(f\"El id del customer es {customer['id']} con un precio de {customer['total']} y tiene un descuento de {customer['discount']} soles.\")"
   ]
  },
  {
   "cell_type": "markdown",
   "metadata": {},
   "source": [
    "El código anterior, se puede modificar usando la función de concordancia de patrones estructurales de la siguiente manera:"
   ]
  },
  {
   "cell_type": "code",
   "execution_count": 28,
   "metadata": {},
   "outputs": [
    {
     "name": "stdout",
     "output_type": "stream",
     "text": [
      "El id del customer es 1 con un precio de 200 y tiene un descuento de 20.0 soles.\n",
      "El id del customer es 2 con un precio de 150 y tiene un descuento de 45.0 soles.\n",
      "El id del customer es 3 con un precio de 100 y tiene un descuento de 50.0 soles.\n",
      "El id del customer es 4 con un precio de 110 y tiene un descuento de 15.0 soles.\n"
     ]
    }
   ],
   "source": [
    "customers = [\n",
    "    dict(id=1, total=200, coupon_code='F20'), # F20: fijo, 20\n",
    "    dict(id=2, total=150, coupon_code='P30'), # P30: porcentaje, 30%   \n",
    "    dict(id=3, total=100, coupon_code='P50'), # P50: porcentaje, 50%\n",
    "    dict(id=4, total=110, coupon_code='F15'), # F15: fijo, 15\n",
    "]\n",
    "\n",
    "for customer in customers:\n",
    "    code = customer[\"coupon_code\"]\n",
    "    match code:\n",
    "        case \"F20\":\n",
    "            customer[\"discount\"] = 20.0\n",
    "        case \"F15\":\n",
    "            customer[\"discount\"] = 15.0\n",
    "        case \"P30\":\n",
    "            customer[\"discount\"] = customer[\"total\"] * 0.3\n",
    "        case \"P50\":\n",
    "            customer[\"discount\"] = customer[\"total\"] * 0.5\n",
    "        case _:\n",
    "            customer[\"discount\"] = 0.0\n",
    "            \n",
    "    print(f\"El id del customer es {customer['id']} con un precio de {customer['total']} y tiene un descuento de {customer['discount']} soles.\")"
   ]
  },
  {
   "cell_type": "markdown",
   "metadata": {},
   "source": [
    "Una vez mas, vamos a reescribir el código usando el método *get()* que esta asociado a un diccionario:"
   ]
  },
  {
   "cell_type": "code",
   "execution_count": 29,
   "metadata": {},
   "outputs": [
    {
     "name": "stdout",
     "output_type": "stream",
     "text": [
      "El id del customer es 1 con un precio de 200 y tiene un descuento de 20.0 soles.\n",
      "El id del customer es 2 con un precio de 150 y tiene un descuento de 45.0 soles.\n",
      "El id del customer es 3 con un precio de 100 y tiene un descuento de 50.0 soles.\n",
      "El id del customer es 4 con un precio de 110 y tiene un descuento de 15.0 soles.\n"
     ]
    }
   ],
   "source": [
    "customers = [\n",
    "    dict(id=1, total=200, coupon_code='F20'), # F20: fijo, 20\n",
    "    dict(id=2, total=150, coupon_code='P30'), # P30: porcentaje, 30%   \n",
    "    dict(id=3, total=100, coupon_code='P50'), # P50: porcentaje, 50%\n",
    "    dict(id=4, total=110, coupon_code='F15'), # F15: fijo, 15\n",
    "]\n",
    "# Cada valor es (porcentaje, fijo)\n",
    "discounts = {\n",
    "    'F20': (0.0, 20.0), \n",
    "    'P30': (0.3, 0.0),\n",
    "    'P50': (0.5, 0.0),\n",
    "    'F15': (0.0, 15.0),\n",
    "}\n",
    "\n",
    "for customer in customers:\n",
    "    code = customer[\"coupon_code\"]\n",
    "    percent, fixed = discounts.get(code, (0.0, 0.0))\n",
    "    customer[\"discount\"] = percent * customer[\"total\"] + fixed\n",
    "    print(f\"El id del customer es {customer['id']} con un precio de {customer['total']} y tiene un descuento de {customer['discount']} soles.\")\n"
   ]
  },
  {
   "cell_type": "markdown",
   "metadata": {},
   "source": [
    "Ejecutando el código anterior se obtiene exactamente el mismo resultado que en los fragmentos de códigos anteriores. Además, se han ahorrado algunas líneas de código pero lo más importante es que hemos ganado mucho en legibilidad, ya que el cuerpo del bucle *for* ahora sólo tiene menos líneas, y es muy fácil de entender. El concepto aquí es usar un diccionario como despachador. Es decir, intentamos obtener algo del diccionario basándonos en un código (nuestro coupon_code), y usando *dict.get(key, default)*, nos aseguramos de que también tenemos en cuenta cuando el código no está en el diccionario y necesitamos un valor por defecto."
   ]
  },
  {
   "cell_type": "markdown",
   "metadata": {},
   "source": [
    "# Módulo itertools\n",
    "Este módulo implementa un número de piezas básicas iterator inspiradas en constructs de APL, Haskell y SML. Cada pieza ha sido reconvertida a una forma apropiada para Python.\n",
    "\n",
    "El módulo estandariza un conjunto base de herramientas rápidas y eficientes en memoria, útiles por sí mismas o en combinación con otras. Juntas, forman un «álgebra de iteradores», haciendo posible la construcción de herramientas especializadas, sucintas y eficientes, en Python puro."
   ]
  },
  {
   "cell_type": "markdown",
   "metadata": {},
   "source": [
    "## Iteradores infinitos\n",
    "Los iteradores infinitos permiten trabajar con un bucle *for* de una forma diferente, como si fuera un bucle *while*:"
   ]
  },
  {
   "cell_type": "code",
   "execution_count": 31,
   "metadata": {},
   "outputs": [
    {
     "name": "stdout",
     "output_type": "stream",
     "text": [
      "3, 8, 13, 18, 23, 28, 33, 38, 43, 48, 53, 58, 63, 68, 73, 78, 83, "
     ]
    }
   ],
   "source": [
    "from itertools import count\n",
    "for n in count(3, 5):\n",
    "    if n > 85:\n",
    "        break\n",
    "    print(n, end=', ') # instead of newline, comma and space"
   ]
  },
  {
   "cell_type": "markdown",
   "metadata": {},
   "source": [
    "La clase de fábrica *count* crea un iterador que simplemente sigue y sigue contando. Empieza en 3 y sigue añadiendo 5. Tenemos que romperlo manualmente si no queremos quedar atrapados en un bucle infinito."
   ]
  },
  {
   "cell_type": "markdown",
   "metadata": {},
   "source": [
    "## Iteradores que terminan en la secuencia de entrada más corta\n",
    "Esta categoría es muy interesante. Permite crear un iterador basado en múltiples iteradores, combinando sus valores de acuerdo con cierta lógica. El punto clave aquí es que entre esos iteradores, si alguno de ellos es más corto que el resto, el iterador resultante no se romperá, sino que simplemente se detendrá en cuanto se agote el iterador más corto. Esto es muy teórico, así que pongamos un ejemplo usando *compress()*. Este iterador devuelve los datos en función de que el elemento correspondiente en un selector sea *True* o *False*; *compress('ABC', (1, 0, 1))* devolvería 'A' y 'C', porque corresponden a 1. Veamos un ejemplo sencillo:"
   ]
  },
  {
   "cell_type": "code",
   "execution_count": 45,
   "metadata": {},
   "outputs": [],
   "source": [
    "from itertools import compress\n",
    "data = range(10)\n",
    "even_selector = [1, 0] * 10\n",
    "odd_selector = [0, 1] * 10\n",
    "even_numbers = list(compress(data, even_selector))\n",
    "odd_numbers = list(compress(data, odd_selector))"
   ]
  },
  {
   "cell_type": "markdown",
   "metadata": {},
   "source": [
    "Observe que odd_selector y even_selector tienen 20 elementos de longitud, mientras que data sólo tiene 10, *compress()* se detendrá en cuanto data haya producido su último elemento. La ejecución de este código produce lo siguiente:"
   ]
  },
  {
   "cell_type": "code",
   "execution_count": 46,
   "metadata": {},
   "outputs": [
    {
     "name": "stdout",
     "output_type": "stream",
     "text": [
      "[1, 0, 1, 0, 1, 0, 1, 0, 1, 0, 1, 0, 1, 0, 1, 0, 1, 0, 1, 0]\n",
      "[0, 1, 0, 1, 0, 1, 0, 1, 0, 1, 0, 1, 0, 1, 0, 1, 0, 1, 0, 1]\n",
      "[0, 1, 2, 3, 4, 5, 6, 7, 8, 9]\n",
      "[0, 2, 4, 6, 8]\n",
      "[1, 3, 5, 7, 9]\n"
     ]
    }
   ],
   "source": [
    "print(even_selector)\n",
    "print(odd_selector)\n",
    "print(list(data))\n",
    "print(even_numbers)\n",
    "print(odd_numbers)"
   ]
  },
  {
   "cell_type": "markdown",
   "metadata": {},
   "source": [
    "Es una forma muy rápida y cómoda de seleccionar elementos de un iterable. El código es muy sencillo, pero fíjate que en vez de usar un bucle *for* para iterar sobre cada valor que devuelven las llamadas a *compress()*, usamos *list()*, que hace lo mismo, pero en vez de ejecutar un cuerpo de instrucciones, mete todos los valores en una lista y la devuelve."
   ]
  },
  {
   "cell_type": "markdown",
   "metadata": {},
   "source": [
    "## Generadores combinatorios\n",
    "Por último, pero no por ello menos importante, están los generadores combinatorios. Veamos un ejemplo sencillo sobre permutaciones. Según Wolfram MathWorld:\n",
    "\n",
    "\"Una permutación, también llamada «número de ordenación» u «orden», es una reordenación de los elementos de una lista ordenada S en una correspondencia uno a uno con la propia S.\"\n",
    "\n",
    "Por ejemplo, hay seis permutaciones de ABC: ABC, ACB, BAC, BCA, CAB y CBA. Si un conjunto tiene N elementos, entonces el número de permutaciones de los mismos es N! (N factorial).\n",
    "\n",
    "Para la cadena ABC, las permutaciones son 3! = 3 * 2 * 1 = 6. Veamos esto en Python:"
   ]
  },
  {
   "cell_type": "code",
   "execution_count": 53,
   "metadata": {},
   "outputs": [
    {
     "name": "stdout",
     "output_type": "stream",
     "text": [
      "El número de permutaciones que tiene la palabra 'ABCD' es: 24\n",
      "La lista es: [('A', 'B', 'C', 'D'), ('A', 'B', 'D', 'C'), ('A', 'C', 'B', 'D'), ('A', 'C', 'D', 'B'), ('A', 'D', 'B', 'C'), ('A', 'D', 'C', 'B'), ('B', 'A', 'C', 'D'), ('B', 'A', 'D', 'C'), ('B', 'C', 'A', 'D'), ('B', 'C', 'D', 'A'), ('B', 'D', 'A', 'C'), ('B', 'D', 'C', 'A'), ('C', 'A', 'B', 'D'), ('C', 'A', 'D', 'B'), ('C', 'B', 'A', 'D'), ('C', 'B', 'D', 'A'), ('C', 'D', 'A', 'B'), ('C', 'D', 'B', 'A'), ('D', 'A', 'B', 'C'), ('D', 'A', 'C', 'B'), ('D', 'B', 'A', 'C'), ('D', 'B', 'C', 'A'), ('D', 'C', 'A', 'B'), ('D', 'C', 'B', 'A')]\n"
     ]
    }
   ],
   "source": [
    "from itertools import permutations\n",
    "print(f\"El número de permutaciones que tiene la palabra {repr(\"ABCD\")} es: {len(list(permutations(\"ABCD\")))}\")\n",
    "print(f\"La lista es: {list(permutations('ABCD'))}\")"
   ]
  },
  {
   "cell_type": "markdown",
   "metadata": {},
   "source": [
    "Ten mucho cuidado cuando juegues con permutaciones. Su número crece a un ritmo proporcional al factorial del número de elementos que estás permutando, y ese número puede hacerse muy grande, muy rápido."
   ]
  }
 ],
 "metadata": {
  "kernelspec": {
   "display_name": ".venv",
   "language": "python",
   "name": "python3"
  },
  "language_info": {
   "codemirror_mode": {
    "name": "ipython",
    "version": 3
   },
   "file_extension": ".py",
   "mimetype": "text/x-python",
   "name": "python",
   "nbconvert_exporter": "python",
   "pygments_lexer": "ipython3",
   "version": "3.12.3"
  }
 },
 "nbformat": 4,
 "nbformat_minor": 2
}
